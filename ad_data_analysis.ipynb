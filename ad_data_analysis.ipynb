{
 "cells": [
  {
   "cell_type": "code",
   "execution_count": 10,
   "metadata": {},
   "outputs": [
    {
     "name": "stdout",
     "output_type": "stream",
     "text": [
      "   click_status   AMP_timestamp  \\\n",
      "0             1  29/01/15 11:00   \n",
      "1             1  29/01/15 11:00   \n",
      "2             1  29/01/15 11:00   \n",
      "3             1  29/01/15 11:00   \n",
      "4             1  29/01/15 11:00   \n",
      "\n",
      "                                         Query Term     IP Address  \\\n",
      "0            [\"michael kors\",\"michael michael kors\"]  2.118.171.21   \n",
      "1                      [\"meet girls\",\"dating girls\"]  0.82.173.102   \n",
      "2                      [\"meet girls\",\"dating girls\"]  0.82.173.102   \n",
      "3  [\"credit report\",\"credit karma\",\"free online c...  219.32.49.92   \n",
      "4                                       [\"Byethost\"]  13.54.12.142   \n",
      "\n",
      "                                          User Agent  Cost Per Click   \\\n",
      "0  Mozilla/5.0 (iPad; CPU OS 8_1 like Mac OS X) A...             0.28   \n",
      "1  Mozilla/5.0 (Windows NT 5.1; rv:35.0) Gecko/20...             0.17   \n",
      "2  Mozilla/5.0 (Windows NT 5.1; rv:35.0) Gecko/20...             0.17   \n",
      "3  Mozilla/5.0 (Windows NT 6.3; WOW64) AppleWebKi...             0.90   \n",
      "4  Mozilla/4.0 (compatible; MSIE 7.0; Windows NT ...             0.17   \n",
      "\n",
      "   Conversions  \n",
      "0            0  \n",
      "1            0  \n",
      "2            0  \n",
      "3            0  \n",
      "4            0  \n",
      "Index(['click_status', 'AMP_timestamp', 'Query Term ', 'IP Address',\n",
      "       'User Agent', 'Cost Per Click ', 'Conversions'],\n",
      "      dtype='object')\n"
     ]
    }
   ],
   "source": [
    "# importing pandas\n",
    "import pandas as pd\n",
    "# loading the data\n",
    "data1=pd.read_csv(\"/Users/aditya357/Downloads/ad_data.csv\")\n",
    "# printing the head of the data\n",
    "print(data1.head())\n",
    "print(data1.columns)\n"
   ]
  },
  {
   "cell_type": "markdown",
   "metadata": {},
   "source": [
    "# 2. For clicks with status = 1:\n",
    "#● Identify the top spending query term and the average cost per click\n",
    "#● Identify the top converting IP addresses"
   ]
  },
  {
   "cell_type": "code",
   "execution_count": 2,
   "metadata": {
    "collapsed": true
   },
   "outputs": [],
   "source": [
    "import ast\n",
    "# taking only the data which has click status =1\n",
    "data_status1=data1[data1['click_status']==1]\n",
    "query_terms=[]\n",
    "# breaking the query terms into individual terms and appending the cost per click \n",
    "for i,j in enumerate(data1['Query Term ']):\n",
    "    for k in ast.literal_eval(j):\n",
    "        query_terms.append((k,data1.loc[i,'Cost Per Click ']))"
   ]
  },
  {
   "cell_type": "code",
   "execution_count": 3,
   "metadata": {
    "collapsed": true
   },
   "outputs": [],
   "source": [
    "# making a dataframe with the query terms\n",
    "query_terms=pd.DataFrame(query_terms)\n",
    "query_terms.columns=['terms','amount']"
   ]
  },
  {
   "cell_type": "code",
   "execution_count": 4,
   "metadata": {
    "collapsed": true
   },
   "outputs": [],
   "source": [
    "# finding the sum and mean of the amount per query term\n",
    "query_aggregate = pd.DataFrame(query_terms.groupby(['terms'])['amount'].sum())\n",
    "query_aggregate_avg = pd.DataFrame(query_terms.groupby(['terms'])['amount'].mean())"
   ]
  },
  {
   "cell_type": "code",
   "execution_count": 5,
   "metadata": {
    "collapsed": true
   },
   "outputs": [],
   "source": [
    "# sorting the amount values \n",
    "query_aggregate=query_aggregate.sort_values('amount',ascending=False)\n",
    "query_aggregate_avg=query_aggregate_avg.sort_values('amount',ascending=False)"
   ]
  },
  {
   "cell_type": "code",
   "execution_count": 6,
   "metadata": {},
   "outputs": [
    {
     "name": "stdout",
     "output_type": "stream",
     "text": [
      "                         amount\n",
      "terms                          \n",
      "loan quotes             1104.14\n",
      "car title loans         1104.14\n",
      "car financing            372.40\n",
      "car finance calculator   366.73\n",
      "new car payment          351.67\n",
      "                  amount\n",
      "terms                   \n",
      "free filing      27.1000\n",
      "income taxes      9.1400\n",
      "intuit turbotax   8.8775\n",
      "800contacts       8.0100\n",
      "1800contacts      8.0100\n"
     ]
    }
   ],
   "source": [
    "# five top spending query terms are as follows\n",
    "print(query_aggregate[0:5])\n",
    "# printing terms with highest average amounts per click\n",
    "print(query_aggregate_avg[0:5])"
   ]
  },
  {
   "cell_type": "markdown",
   "metadata": {},
   "source": [
    "# 3. For IP addresses with > 1 click:\n",
    "● Provide a breakdown on invalid and valid clicks.\n",
    "● Provide a breakdown on whether these users send the same query term for each click.\n",
    "● Identify any shared attributes for this pool of users (if any)."
   ]
  },
  {
   "cell_type": "code",
   "execution_count": 7,
   "metadata": {
    "collapsed": true
   },
   "outputs": [],
   "source": [
    "# counting the number of times the ip values come\n",
    "data_ip=pd.DataFrame(data1.groupby(['IP Address'])['IP Address'].count())\n",
    "data_ip=data_ip.sort_values(\"IP Address\",ascending=False)\n",
    "# changing the name of the column\n",
    "data_ip.columns=['count']\n",
    "data_ip=data_ip.reset_index() # resetting the index"
   ]
  },
  {
   "cell_type": "code",
   "execution_count": 8,
   "metadata": {
    "collapsed": true
   },
   "outputs": [],
   "source": [
    "# choosing only those which have more than one hits\n",
    "data_ip=data_ip[data_ip['count']>1]"
   ]
  },
  {
   "cell_type": "code",
   "execution_count": 9,
   "metadata": {
    "collapsed": true
   },
   "outputs": [],
   "source": [
    "# taking the part of the entire data whose the IP addresses appear more than once\n",
    "data_ip=data1[data1['IP Address'].isin(data_ip['IP Address'])]"
   ]
  },
  {
   "cell_type": "code",
   "execution_count": null,
   "metadata": {
    "collapsed": true
   },
   "outputs": [],
   "source": []
  }
 ],
 "metadata": {
  "kernelspec": {
   "display_name": "Python 3",
   "language": "python",
   "name": "python3"
  },
  "language_info": {
   "codemirror_mode": {
    "name": "ipython",
    "version": 3
   },
   "file_extension": ".py",
   "mimetype": "text/x-python",
   "name": "python",
   "nbconvert_exporter": "python",
   "pygments_lexer": "ipython3",
   "version": "3.6.3"
  }
 },
 "nbformat": 4,
 "nbformat_minor": 2
}
