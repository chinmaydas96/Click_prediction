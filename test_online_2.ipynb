{
 "cells": [
  {
   "cell_type": "markdown",
   "metadata": {},
   "source": [
    "1). Get the data"
   ]
  },
  {
   "cell_type": "code",
   "execution_count": 1,
   "metadata": {},
   "outputs": [],
   "source": [
    "import pandas as pd\n",
    "import matplotlib.pyplot as plt\n",
    "import numpy as np\n",
    "import seaborn as sns\n",
    "\n",
    "plt.style.use('seaborn-white')\n",
    "%matplotlib inline"
   ]
  },
  {
   "cell_type": "code",
   "execution_count": 2,
   "metadata": {},
   "outputs": [],
   "source": [
    "#import os\n",
    "#os.chdir('/Users/smarcos/Downloads/click_prediction/')\n"
   ]
  },
  {
   "cell_type": "code",
   "execution_count": 3,
   "metadata": {},
   "outputs": [],
   "source": [
    "df = pd.read_csv('ad_data.csv')"
   ]
  },
  {
   "cell_type": "code",
   "execution_count": 4,
   "metadata": {},
   "outputs": [
    {
     "data": {
      "text/html": [
       "<div>\n",
       "<style scoped>\n",
       "    .dataframe tbody tr th:only-of-type {\n",
       "        vertical-align: middle;\n",
       "    }\n",
       "\n",
       "    .dataframe tbody tr th {\n",
       "        vertical-align: top;\n",
       "    }\n",
       "\n",
       "    .dataframe thead th {\n",
       "        text-align: right;\n",
       "    }\n",
       "</style>\n",
       "<table border=\"1\" class=\"dataframe\">\n",
       "  <thead>\n",
       "    <tr style=\"text-align: right;\">\n",
       "      <th></th>\n",
       "      <th>click_status</th>\n",
       "      <th>AMP_timestamp</th>\n",
       "      <th>Query Term</th>\n",
       "      <th>IP Address</th>\n",
       "      <th>User Agent</th>\n",
       "      <th>Cost Per Click</th>\n",
       "      <th>Conversions</th>\n",
       "    </tr>\n",
       "  </thead>\n",
       "  <tbody>\n",
       "    <tr>\n",
       "      <th>0</th>\n",
       "      <td>1</td>\n",
       "      <td>29/01/15 11:00</td>\n",
       "      <td>[\"michael kors\",\"michael michael kors\"]</td>\n",
       "      <td>2.118.171.21</td>\n",
       "      <td>Mozilla/5.0 (iPad; CPU OS 8_1 like Mac OS X) A...</td>\n",
       "      <td>$ .28</td>\n",
       "      <td>0</td>\n",
       "    </tr>\n",
       "    <tr>\n",
       "      <th>1</th>\n",
       "      <td>1</td>\n",
       "      <td>29/01/15 11:00</td>\n",
       "      <td>[\"meet girls\",\"dating girls\"]</td>\n",
       "      <td>0.82.173.102</td>\n",
       "      <td>Mozilla/5.0 (Windows NT 5.1; rv:35.0) Gecko/20...</td>\n",
       "      <td>$ .17</td>\n",
       "      <td>0</td>\n",
       "    </tr>\n",
       "    <tr>\n",
       "      <th>2</th>\n",
       "      <td>1</td>\n",
       "      <td>29/01/15 11:00</td>\n",
       "      <td>[\"meet girls\",\"dating girls\"]</td>\n",
       "      <td>0.82.173.102</td>\n",
       "      <td>Mozilla/5.0 (Windows NT 5.1; rv:35.0) Gecko/20...</td>\n",
       "      <td>$ .17</td>\n",
       "      <td>0</td>\n",
       "    </tr>\n",
       "    <tr>\n",
       "      <th>3</th>\n",
       "      <td>1</td>\n",
       "      <td>29/01/15 11:00</td>\n",
       "      <td>[\"credit report\",\"credit karma\",\"free online c...</td>\n",
       "      <td>219.32.49.92</td>\n",
       "      <td>Mozilla/5.0 (Windows NT 6.3; WOW64) AppleWebKi...</td>\n",
       "      <td>$ .90</td>\n",
       "      <td>0</td>\n",
       "    </tr>\n",
       "    <tr>\n",
       "      <th>4</th>\n",
       "      <td>1</td>\n",
       "      <td>29/01/15 11:00</td>\n",
       "      <td>[\"Byethost\"]</td>\n",
       "      <td>13.54.12.142</td>\n",
       "      <td>Mozilla/4.0 (compatible; MSIE 7.0; Windows NT ...</td>\n",
       "      <td>$ .17</td>\n",
       "      <td>0</td>\n",
       "    </tr>\n",
       "  </tbody>\n",
       "</table>\n",
       "</div>"
      ],
      "text/plain": [
       "   click_status   AMP_timestamp  \\\n",
       "0             1  29/01/15 11:00   \n",
       "1             1  29/01/15 11:00   \n",
       "2             1  29/01/15 11:00   \n",
       "3             1  29/01/15 11:00   \n",
       "4             1  29/01/15 11:00   \n",
       "\n",
       "                                         Query Term     IP Address  \\\n",
       "0            [\"michael kors\",\"michael michael kors\"]  2.118.171.21   \n",
       "1                      [\"meet girls\",\"dating girls\"]  0.82.173.102   \n",
       "2                      [\"meet girls\",\"dating girls\"]  0.82.173.102   \n",
       "3  [\"credit report\",\"credit karma\",\"free online c...  219.32.49.92   \n",
       "4                                       [\"Byethost\"]  13.54.12.142   \n",
       "\n",
       "                                          User Agent Cost Per Click   \\\n",
       "0  Mozilla/5.0 (iPad; CPU OS 8_1 like Mac OS X) A...           $ .28   \n",
       "1  Mozilla/5.0 (Windows NT 5.1; rv:35.0) Gecko/20...           $ .17   \n",
       "2  Mozilla/5.0 (Windows NT 5.1; rv:35.0) Gecko/20...           $ .17   \n",
       "3  Mozilla/5.0 (Windows NT 6.3; WOW64) AppleWebKi...           $ .90   \n",
       "4  Mozilla/4.0 (compatible; MSIE 7.0; Windows NT ...           $ .17   \n",
       "\n",
       "   Conversions  \n",
       "0            0  \n",
       "1            0  \n",
       "2            0  \n",
       "3            0  \n",
       "4            0  "
      ]
     },
     "execution_count": 4,
     "metadata": {},
     "output_type": "execute_result"
    }
   ],
   "source": [
    "df.head(5)"
   ]
  },
  {
   "cell_type": "code",
   "execution_count": 5,
   "metadata": {},
   "outputs": [
    {
     "name": "stdout",
     "output_type": "stream",
     "text": [
      "<class 'pandas.core.frame.DataFrame'>\n",
      "RangeIndex: 10103 entries, 0 to 10102\n",
      "Data columns (total 7 columns):\n",
      "click_status       10103 non-null int64\n",
      "AMP_timestamp      10103 non-null object\n",
      "Query Term         10103 non-null object\n",
      "IP Address         10103 non-null object\n",
      "User Agent         10103 non-null object\n",
      "Cost Per Click     10103 non-null object\n",
      "Conversions        10103 non-null int64\n",
      "dtypes: int64(2), object(5)\n",
      "memory usage: 552.6+ KB\n"
     ]
    }
   ],
   "source": [
    "df.info()"
   ]
  },
  {
   "cell_type": "markdown",
   "metadata": {},
   "source": [
    "2). Data Cleaning: \n",
    "Check missing values and column names\n",
    "Clean click_status\n",
    "Clean AMP_timestamp\n",
    "Clean query_terms\n",
    "Clean user_agent\n",
    "Clean cost_per_click"
   ]
  },
  {
   "cell_type": "code",
   "execution_count": 6,
   "metadata": {},
   "outputs": [
    {
     "data": {
      "text/html": [
       "<div>\n",
       "<style scoped>\n",
       "    .dataframe tbody tr th:only-of-type {\n",
       "        vertical-align: middle;\n",
       "    }\n",
       "\n",
       "    .dataframe tbody tr th {\n",
       "        vertical-align: top;\n",
       "    }\n",
       "\n",
       "    .dataframe thead th {\n",
       "        text-align: right;\n",
       "    }\n",
       "</style>\n",
       "<table border=\"1\" class=\"dataframe\">\n",
       "  <thead>\n",
       "    <tr style=\"text-align: right;\">\n",
       "      <th></th>\n",
       "      <th>click_status</th>\n",
       "      <th>AMP_timestamp</th>\n",
       "      <th>Query Term</th>\n",
       "      <th>IP Address</th>\n",
       "      <th>User Agent</th>\n",
       "      <th>Cost Per Click</th>\n",
       "      <th>Conversions</th>\n",
       "    </tr>\n",
       "  </thead>\n",
       "  <tbody>\n",
       "  </tbody>\n",
       "</table>\n",
       "</div>"
      ],
      "text/plain": [
       "Empty DataFrame\n",
       "Columns: [click_status, AMP_timestamp, Query Term , IP Address, User Agent, Cost Per Click , Conversions]\n",
       "Index: []"
      ]
     },
     "execution_count": 6,
     "metadata": {},
     "output_type": "execute_result"
    }
   ],
   "source": [
    "# Check missing values \n",
    "df[df.isnull().any(axis=1)]"
   ]
  },
  {
   "cell_type": "code",
   "execution_count": 7,
   "metadata": {},
   "outputs": [
    {
     "data": {
      "text/plain": [
       "Index(['click_status', 'AMP_timestamp', 'Query Term ', 'IP Address',\n",
       "       'User Agent', 'Cost Per Click ', 'Conversions'],\n",
       "      dtype='object')"
      ]
     },
     "execution_count": 7,
     "metadata": {},
     "output_type": "execute_result"
    }
   ],
   "source": [
    "#check column names\n",
    "df.columns"
   ]
  },
  {
   "cell_type": "code",
   "execution_count": 8,
   "metadata": {},
   "outputs": [],
   "source": [
    "# rename columns\n",
    "df.columns = ['click_status','AMP_timestamp','query_term','IP_address','user_agent','cost_per_click','conversions']\n"
   ]
  },
  {
   "cell_type": "code",
   "execution_count": 9,
   "metadata": {},
   "outputs": [
    {
     "data": {
      "text/html": [
       "<div>\n",
       "<style scoped>\n",
       "    .dataframe tbody tr th:only-of-type {\n",
       "        vertical-align: middle;\n",
       "    }\n",
       "\n",
       "    .dataframe tbody tr th {\n",
       "        vertical-align: top;\n",
       "    }\n",
       "\n",
       "    .dataframe thead th {\n",
       "        text-align: right;\n",
       "    }\n",
       "</style>\n",
       "<table border=\"1\" class=\"dataframe\">\n",
       "  <thead>\n",
       "    <tr style=\"text-align: right;\">\n",
       "      <th></th>\n",
       "      <th>click_status</th>\n",
       "      <th>AMP_timestamp</th>\n",
       "      <th>query_term</th>\n",
       "      <th>IP_address</th>\n",
       "      <th>user_agent</th>\n",
       "      <th>cost_per_click</th>\n",
       "      <th>conversions</th>\n",
       "    </tr>\n",
       "  </thead>\n",
       "  <tbody>\n",
       "    <tr>\n",
       "      <th>0</th>\n",
       "      <td>1</td>\n",
       "      <td>29/01/15 11:00</td>\n",
       "      <td>[\"michael kors\",\"michael michael kors\"]</td>\n",
       "      <td>2.118.171.21</td>\n",
       "      <td>Mozilla/5.0 (iPad; CPU OS 8_1 like Mac OS X) A...</td>\n",
       "      <td>$ .28</td>\n",
       "      <td>0</td>\n",
       "    </tr>\n",
       "    <tr>\n",
       "      <th>1</th>\n",
       "      <td>1</td>\n",
       "      <td>29/01/15 11:00</td>\n",
       "      <td>[\"meet girls\",\"dating girls\"]</td>\n",
       "      <td>0.82.173.102</td>\n",
       "      <td>Mozilla/5.0 (Windows NT 5.1; rv:35.0) Gecko/20...</td>\n",
       "      <td>$ .17</td>\n",
       "      <td>0</td>\n",
       "    </tr>\n",
       "    <tr>\n",
       "      <th>2</th>\n",
       "      <td>1</td>\n",
       "      <td>29/01/15 11:00</td>\n",
       "      <td>[\"meet girls\",\"dating girls\"]</td>\n",
       "      <td>0.82.173.102</td>\n",
       "      <td>Mozilla/5.0 (Windows NT 5.1; rv:35.0) Gecko/20...</td>\n",
       "      <td>$ .17</td>\n",
       "      <td>0</td>\n",
       "    </tr>\n",
       "    <tr>\n",
       "      <th>3</th>\n",
       "      <td>1</td>\n",
       "      <td>29/01/15 11:00</td>\n",
       "      <td>[\"credit report\",\"credit karma\",\"free online c...</td>\n",
       "      <td>219.32.49.92</td>\n",
       "      <td>Mozilla/5.0 (Windows NT 6.3; WOW64) AppleWebKi...</td>\n",
       "      <td>$ .90</td>\n",
       "      <td>0</td>\n",
       "    </tr>\n",
       "    <tr>\n",
       "      <th>4</th>\n",
       "      <td>1</td>\n",
       "      <td>29/01/15 11:00</td>\n",
       "      <td>[\"Byethost\"]</td>\n",
       "      <td>13.54.12.142</td>\n",
       "      <td>Mozilla/4.0 (compatible; MSIE 7.0; Windows NT ...</td>\n",
       "      <td>$ .17</td>\n",
       "      <td>0</td>\n",
       "    </tr>\n",
       "  </tbody>\n",
       "</table>\n",
       "</div>"
      ],
      "text/plain": [
       "   click_status   AMP_timestamp  \\\n",
       "0             1  29/01/15 11:00   \n",
       "1             1  29/01/15 11:00   \n",
       "2             1  29/01/15 11:00   \n",
       "3             1  29/01/15 11:00   \n",
       "4             1  29/01/15 11:00   \n",
       "\n",
       "                                          query_term    IP_address  \\\n",
       "0            [\"michael kors\",\"michael michael kors\"]  2.118.171.21   \n",
       "1                      [\"meet girls\",\"dating girls\"]  0.82.173.102   \n",
       "2                      [\"meet girls\",\"dating girls\"]  0.82.173.102   \n",
       "3  [\"credit report\",\"credit karma\",\"free online c...  219.32.49.92   \n",
       "4                                       [\"Byethost\"]  13.54.12.142   \n",
       "\n",
       "                                          user_agent cost_per_click  \\\n",
       "0  Mozilla/5.0 (iPad; CPU OS 8_1 like Mac OS X) A...          $ .28   \n",
       "1  Mozilla/5.0 (Windows NT 5.1; rv:35.0) Gecko/20...          $ .17   \n",
       "2  Mozilla/5.0 (Windows NT 5.1; rv:35.0) Gecko/20...          $ .17   \n",
       "3  Mozilla/5.0 (Windows NT 6.3; WOW64) AppleWebKi...          $ .90   \n",
       "4  Mozilla/4.0 (compatible; MSIE 7.0; Windows NT ...          $ .17   \n",
       "\n",
       "   conversions  \n",
       "0            0  \n",
       "1            0  \n",
       "2            0  \n",
       "3            0  \n",
       "4            0  "
      ]
     },
     "execution_count": 9,
     "metadata": {},
     "output_type": "execute_result"
    }
   ],
   "source": [
    "df.head(5)"
   ]
  },
  {
   "cell_type": "code",
   "execution_count": null,
   "metadata": {},
   "outputs": [],
   "source": []
  },
  {
   "cell_type": "markdown",
   "metadata": {},
   "source": [
    "## Add Country & City "
   ]
  },
  {
   "cell_type": "markdown",
   "metadata": {},
   "source": [
    "### Install packages"
   ]
  },
  {
   "cell_type": "code",
   "execution_count": 54,
   "metadata": {},
   "outputs": [],
   "source": [
    "# ! pip install python-geoip\n",
    "# ! pip install python-geoip-geolite2\n",
    "# ! pip install pygeoip"
   ]
  },
  {
   "cell_type": "markdown",
   "metadata": {},
   "source": [
    "### Install IP data "
   ]
  },
  {
   "cell_type": "code",
   "execution_count": 55,
   "metadata": {},
   "outputs": [],
   "source": [
    "# download these files\n",
    "\n",
    "#! wget \"http://geolite.maxmind.com/download/geoip/database/GeoLiteCountry/GeoIP.dat.gz\"\n",
    "#! wget \"http://geolite.maxmind.com/download/geoip/database/GeoLiteCountry/GeoIP.dat.gz\""
   ]
  },
  {
   "cell_type": "code",
   "execution_count": 10,
   "metadata": {},
   "outputs": [],
   "source": [
    "IPs = df['IP_address'].tolist()"
   ]
  },
  {
   "cell_type": "code",
   "execution_count": 11,
   "metadata": {},
   "outputs": [
    {
     "data": {
      "text/plain": [
       "'2.118.171.21'"
      ]
     },
     "execution_count": 11,
     "metadata": {},
     "output_type": "execute_result"
    }
   ],
   "source": [
    "IPs[0]"
   ]
  },
  {
   "cell_type": "code",
   "execution_count": 12,
   "metadata": {},
   "outputs": [],
   "source": [
    "IP_country = []\n",
    "\n",
    "import pygeoip\n",
    "GEOIP = pygeoip.GeoIP(\"GeoIP.dat\", pygeoip.MEMORY_CACHE)\n",
    "\n",
    "for i in range(len(IPs)):\n",
    "    IP_country.append(GEOIP.country_name_by_addr(IPs[i]))"
   ]
  },
  {
   "cell_type": "code",
   "execution_count": 13,
   "metadata": {},
   "outputs": [],
   "source": [
    "ip_city_dict = []\n",
    "import pygeoip\n",
    "GEOIP = pygeoip.GeoIP(\"GeoLiteCity.dat\", pygeoip.MEMORY_CACHE)\n",
    "\n",
    "for i in range(len(IPs)):\n",
    "    ip_city_dict.append(GEOIP.record_by_addr(IPs[i]))\n",
    "\n",
    "city_ip = []\n",
    "for i in ip_city_dict:\n",
    "    if i is None:\n",
    "        city_ip.append(\"Unknown\")\n",
    "    else:\n",
    "        city_ip.append(i['city'])"
   ]
  },
  {
   "cell_type": "code",
   "execution_count": 14,
   "metadata": {},
   "outputs": [],
   "source": [
    "df['country'] = IP_country\n",
    "df['city'] = city_ip\n",
    "df[\"city\"].fillna(\"Unknown\", inplace=True)\n",
    "df['country'].replace(\"\", 'Unknown',inplace=True)"
   ]
  },
  {
   "cell_type": "code",
   "execution_count": 15,
   "metadata": {},
   "outputs": [
    {
     "data": {
      "text/html": [
       "<div>\n",
       "<style scoped>\n",
       "    .dataframe tbody tr th:only-of-type {\n",
       "        vertical-align: middle;\n",
       "    }\n",
       "\n",
       "    .dataframe tbody tr th {\n",
       "        vertical-align: top;\n",
       "    }\n",
       "\n",
       "    .dataframe thead th {\n",
       "        text-align: right;\n",
       "    }\n",
       "</style>\n",
       "<table border=\"1\" class=\"dataframe\">\n",
       "  <thead>\n",
       "    <tr style=\"text-align: right;\">\n",
       "      <th></th>\n",
       "      <th>click_status</th>\n",
       "      <th>AMP_timestamp</th>\n",
       "      <th>query_term</th>\n",
       "      <th>IP_address</th>\n",
       "      <th>user_agent</th>\n",
       "      <th>cost_per_click</th>\n",
       "      <th>conversions</th>\n",
       "      <th>country</th>\n",
       "      <th>city</th>\n",
       "    </tr>\n",
       "  </thead>\n",
       "  <tbody>\n",
       "    <tr>\n",
       "      <th>0</th>\n",
       "      <td>1</td>\n",
       "      <td>29/01/15 11:00</td>\n",
       "      <td>[\"michael kors\",\"michael michael kors\"]</td>\n",
       "      <td>2.118.171.21</td>\n",
       "      <td>Mozilla/5.0 (iPad; CPU OS 8_1 like Mac OS X) A...</td>\n",
       "      <td>$ .28</td>\n",
       "      <td>0</td>\n",
       "      <td>Italy</td>\n",
       "      <td>Unknown</td>\n",
       "    </tr>\n",
       "    <tr>\n",
       "      <th>1</th>\n",
       "      <td>1</td>\n",
       "      <td>29/01/15 11:00</td>\n",
       "      <td>[\"meet girls\",\"dating girls\"]</td>\n",
       "      <td>0.82.173.102</td>\n",
       "      <td>Mozilla/5.0 (Windows NT 5.1; rv:35.0) Gecko/20...</td>\n",
       "      <td>$ .17</td>\n",
       "      <td>0</td>\n",
       "      <td>Unknown</td>\n",
       "      <td>Unknown</td>\n",
       "    </tr>\n",
       "    <tr>\n",
       "      <th>2</th>\n",
       "      <td>1</td>\n",
       "      <td>29/01/15 11:00</td>\n",
       "      <td>[\"meet girls\",\"dating girls\"]</td>\n",
       "      <td>0.82.173.102</td>\n",
       "      <td>Mozilla/5.0 (Windows NT 5.1; rv:35.0) Gecko/20...</td>\n",
       "      <td>$ .17</td>\n",
       "      <td>0</td>\n",
       "      <td>Unknown</td>\n",
       "      <td>Unknown</td>\n",
       "    </tr>\n",
       "    <tr>\n",
       "      <th>3</th>\n",
       "      <td>1</td>\n",
       "      <td>29/01/15 11:00</td>\n",
       "      <td>[\"credit report\",\"credit karma\",\"free online c...</td>\n",
       "      <td>219.32.49.92</td>\n",
       "      <td>Mozilla/5.0 (Windows NT 6.3; WOW64) AppleWebKi...</td>\n",
       "      <td>$ .90</td>\n",
       "      <td>0</td>\n",
       "      <td>Japan</td>\n",
       "      <td>Nagoya</td>\n",
       "    </tr>\n",
       "    <tr>\n",
       "      <th>4</th>\n",
       "      <td>1</td>\n",
       "      <td>29/01/15 11:00</td>\n",
       "      <td>[\"Byethost\"]</td>\n",
       "      <td>13.54.12.142</td>\n",
       "      <td>Mozilla/4.0 (compatible; MSIE 7.0; Windows NT ...</td>\n",
       "      <td>$ .17</td>\n",
       "      <td>0</td>\n",
       "      <td>Australia</td>\n",
       "      <td>Sydney</td>\n",
       "    </tr>\n",
       "  </tbody>\n",
       "</table>\n",
       "</div>"
      ],
      "text/plain": [
       "   click_status   AMP_timestamp  \\\n",
       "0             1  29/01/15 11:00   \n",
       "1             1  29/01/15 11:00   \n",
       "2             1  29/01/15 11:00   \n",
       "3             1  29/01/15 11:00   \n",
       "4             1  29/01/15 11:00   \n",
       "\n",
       "                                          query_term    IP_address  \\\n",
       "0            [\"michael kors\",\"michael michael kors\"]  2.118.171.21   \n",
       "1                      [\"meet girls\",\"dating girls\"]  0.82.173.102   \n",
       "2                      [\"meet girls\",\"dating girls\"]  0.82.173.102   \n",
       "3  [\"credit report\",\"credit karma\",\"free online c...  219.32.49.92   \n",
       "4                                       [\"Byethost\"]  13.54.12.142   \n",
       "\n",
       "                                          user_agent cost_per_click  \\\n",
       "0  Mozilla/5.0 (iPad; CPU OS 8_1 like Mac OS X) A...          $ .28   \n",
       "1  Mozilla/5.0 (Windows NT 5.1; rv:35.0) Gecko/20...          $ .17   \n",
       "2  Mozilla/5.0 (Windows NT 5.1; rv:35.0) Gecko/20...          $ .17   \n",
       "3  Mozilla/5.0 (Windows NT 6.3; WOW64) AppleWebKi...          $ .90   \n",
       "4  Mozilla/4.0 (compatible; MSIE 7.0; Windows NT ...          $ .17   \n",
       "\n",
       "   conversions    country     city  \n",
       "0            0      Italy  Unknown  \n",
       "1            0    Unknown  Unknown  \n",
       "2            0    Unknown  Unknown  \n",
       "3            0      Japan   Nagoya  \n",
       "4            0  Australia   Sydney  "
      ]
     },
     "execution_count": 15,
     "metadata": {},
     "output_type": "execute_result"
    }
   ],
   "source": [
    "df.head()"
   ]
  },
  {
   "cell_type": "code",
   "execution_count": 16,
   "metadata": {},
   "outputs": [],
   "source": [
    "#get features\n",
    "import re\n",
    "user_data =df['user_agent'].tolist()\n",
    "\n",
    "features = []\n",
    "for i in user_data:\n",
    "    features.append(re.sub(r'[^ a-zA-Z]',\"\",i).split()[1])\n",
    "df['features'] = features "
   ]
  },
  {
   "cell_type": "code",
   "execution_count": 17,
   "metadata": {},
   "outputs": [
    {
     "data": {
      "text/plain": [
       "10103"
      ]
     },
     "execution_count": 17,
     "metadata": {},
     "output_type": "execute_result"
    }
   ],
   "source": [
    "len(features)"
   ]
  },
  {
   "cell_type": "code",
   "execution_count": 18,
   "metadata": {},
   "outputs": [
    {
     "data": {
      "text/html": [
       "<div>\n",
       "<style scoped>\n",
       "    .dataframe tbody tr th:only-of-type {\n",
       "        vertical-align: middle;\n",
       "    }\n",
       "\n",
       "    .dataframe tbody tr th {\n",
       "        vertical-align: top;\n",
       "    }\n",
       "\n",
       "    .dataframe thead th {\n",
       "        text-align: right;\n",
       "    }\n",
       "</style>\n",
       "<table border=\"1\" class=\"dataframe\">\n",
       "  <thead>\n",
       "    <tr style=\"text-align: right;\">\n",
       "      <th></th>\n",
       "      <th>click_status</th>\n",
       "      <th>AMP_timestamp</th>\n",
       "      <th>query_term</th>\n",
       "      <th>IP_address</th>\n",
       "      <th>user_agent</th>\n",
       "      <th>cost_per_click</th>\n",
       "      <th>conversions</th>\n",
       "      <th>country</th>\n",
       "      <th>city</th>\n",
       "      <th>features</th>\n",
       "    </tr>\n",
       "  </thead>\n",
       "  <tbody>\n",
       "    <tr>\n",
       "      <th>0</th>\n",
       "      <td>1</td>\n",
       "      <td>29/01/15 11:00</td>\n",
       "      <td>[\"michael kors\",\"michael michael kors\"]</td>\n",
       "      <td>2.118.171.21</td>\n",
       "      <td>Mozilla/5.0 (iPad; CPU OS 8_1 like Mac OS X) A...</td>\n",
       "      <td>$ .28</td>\n",
       "      <td>0</td>\n",
       "      <td>Italy</td>\n",
       "      <td>Unknown</td>\n",
       "      <td>iPad</td>\n",
       "    </tr>\n",
       "    <tr>\n",
       "      <th>1</th>\n",
       "      <td>1</td>\n",
       "      <td>29/01/15 11:00</td>\n",
       "      <td>[\"meet girls\",\"dating girls\"]</td>\n",
       "      <td>0.82.173.102</td>\n",
       "      <td>Mozilla/5.0 (Windows NT 5.1; rv:35.0) Gecko/20...</td>\n",
       "      <td>$ .17</td>\n",
       "      <td>0</td>\n",
       "      <td>Unknown</td>\n",
       "      <td>Unknown</td>\n",
       "      <td>Windows</td>\n",
       "    </tr>\n",
       "    <tr>\n",
       "      <th>2</th>\n",
       "      <td>1</td>\n",
       "      <td>29/01/15 11:00</td>\n",
       "      <td>[\"meet girls\",\"dating girls\"]</td>\n",
       "      <td>0.82.173.102</td>\n",
       "      <td>Mozilla/5.0 (Windows NT 5.1; rv:35.0) Gecko/20...</td>\n",
       "      <td>$ .17</td>\n",
       "      <td>0</td>\n",
       "      <td>Unknown</td>\n",
       "      <td>Unknown</td>\n",
       "      <td>Windows</td>\n",
       "    </tr>\n",
       "    <tr>\n",
       "      <th>3</th>\n",
       "      <td>1</td>\n",
       "      <td>29/01/15 11:00</td>\n",
       "      <td>[\"credit report\",\"credit karma\",\"free online c...</td>\n",
       "      <td>219.32.49.92</td>\n",
       "      <td>Mozilla/5.0 (Windows NT 6.3; WOW64) AppleWebKi...</td>\n",
       "      <td>$ .90</td>\n",
       "      <td>0</td>\n",
       "      <td>Japan</td>\n",
       "      <td>Nagoya</td>\n",
       "      <td>Windows</td>\n",
       "    </tr>\n",
       "    <tr>\n",
       "      <th>4</th>\n",
       "      <td>1</td>\n",
       "      <td>29/01/15 11:00</td>\n",
       "      <td>[\"Byethost\"]</td>\n",
       "      <td>13.54.12.142</td>\n",
       "      <td>Mozilla/4.0 (compatible; MSIE 7.0; Windows NT ...</td>\n",
       "      <td>$ .17</td>\n",
       "      <td>0</td>\n",
       "      <td>Australia</td>\n",
       "      <td>Sydney</td>\n",
       "      <td>compatible</td>\n",
       "    </tr>\n",
       "  </tbody>\n",
       "</table>\n",
       "</div>"
      ],
      "text/plain": [
       "   click_status   AMP_timestamp  \\\n",
       "0             1  29/01/15 11:00   \n",
       "1             1  29/01/15 11:00   \n",
       "2             1  29/01/15 11:00   \n",
       "3             1  29/01/15 11:00   \n",
       "4             1  29/01/15 11:00   \n",
       "\n",
       "                                          query_term    IP_address  \\\n",
       "0            [\"michael kors\",\"michael michael kors\"]  2.118.171.21   \n",
       "1                      [\"meet girls\",\"dating girls\"]  0.82.173.102   \n",
       "2                      [\"meet girls\",\"dating girls\"]  0.82.173.102   \n",
       "3  [\"credit report\",\"credit karma\",\"free online c...  219.32.49.92   \n",
       "4                                       [\"Byethost\"]  13.54.12.142   \n",
       "\n",
       "                                          user_agent cost_per_click  \\\n",
       "0  Mozilla/5.0 (iPad; CPU OS 8_1 like Mac OS X) A...          $ .28   \n",
       "1  Mozilla/5.0 (Windows NT 5.1; rv:35.0) Gecko/20...          $ .17   \n",
       "2  Mozilla/5.0 (Windows NT 5.1; rv:35.0) Gecko/20...          $ .17   \n",
       "3  Mozilla/5.0 (Windows NT 6.3; WOW64) AppleWebKi...          $ .90   \n",
       "4  Mozilla/4.0 (compatible; MSIE 7.0; Windows NT ...          $ .17   \n",
       "\n",
       "   conversions    country     city    features  \n",
       "0            0      Italy  Unknown        iPad  \n",
       "1            0    Unknown  Unknown     Windows  \n",
       "2            0    Unknown  Unknown     Windows  \n",
       "3            0      Japan   Nagoya     Windows  \n",
       "4            0  Australia   Sydney  compatible  "
      ]
     },
     "execution_count": 18,
     "metadata": {},
     "output_type": "execute_result"
    }
   ],
   "source": [
    "df.head()"
   ]
  },
  {
   "cell_type": "code",
   "execution_count": null,
   "metadata": {},
   "outputs": [],
   "source": []
  },
  {
   "cell_type": "code",
   "execution_count": null,
   "metadata": {},
   "outputs": [],
   "source": []
  },
  {
   "cell_type": "code",
   "execution_count": 19,
   "metadata": {},
   "outputs": [],
   "source": [
    "#click_status: click_status 1 = valid click, 0 = invalidated click\n",
    "df.click_status = df.click_status.map(lambda x: 1 if x == 1 else 0)"
   ]
  },
  {
   "cell_type": "markdown",
   "metadata": {},
   "source": [
    "3). Extract date and hour\n"
   ]
  },
  {
   "cell_type": "code",
   "execution_count": 20,
   "metadata": {},
   "outputs": [],
   "source": [
    "#extract date\n",
    "df['date'] = df.AMP_timestamp.map(lambda x: x[:7])\n",
    "\n",
    "#extract hour\n",
    "df['hour'] = df.AMP_timestamp.map(lambda x: int(x[8:11]))"
   ]
  },
  {
   "cell_type": "code",
   "execution_count": 21,
   "metadata": {},
   "outputs": [
    {
     "name": "stdout",
     "output_type": "stream",
     "text": [
      "max hour:  15\n",
      "min hour:  11\n"
     ]
    }
   ],
   "source": [
    "#check the hours range\n",
    "print ('max hour: ', df['hour'].max())\n",
    "print ('min hour: ', df['hour'].min())"
   ]
  },
  {
   "cell_type": "code",
   "execution_count": 22,
   "metadata": {},
   "outputs": [
    {
     "data": {
      "text/html": [
       "<div>\n",
       "<style scoped>\n",
       "    .dataframe tbody tr th:only-of-type {\n",
       "        vertical-align: middle;\n",
       "    }\n",
       "\n",
       "    .dataframe tbody tr th {\n",
       "        vertical-align: top;\n",
       "    }\n",
       "\n",
       "    .dataframe thead th {\n",
       "        text-align: right;\n",
       "    }\n",
       "</style>\n",
       "<table border=\"1\" class=\"dataframe\">\n",
       "  <thead>\n",
       "    <tr style=\"text-align: right;\">\n",
       "      <th></th>\n",
       "      <th>click_status</th>\n",
       "      <th>conversions</th>\n",
       "      <th>hour</th>\n",
       "    </tr>\n",
       "  </thead>\n",
       "  <tbody>\n",
       "    <tr>\n",
       "      <th>count</th>\n",
       "      <td>10103.000000</td>\n",
       "      <td>10103.000000</td>\n",
       "      <td>10103.000000</td>\n",
       "    </tr>\n",
       "    <tr>\n",
       "      <th>mean</th>\n",
       "      <td>0.862417</td>\n",
       "      <td>0.255766</td>\n",
       "      <td>12.945363</td>\n",
       "    </tr>\n",
       "    <tr>\n",
       "      <th>std</th>\n",
       "      <td>0.344479</td>\n",
       "      <td>0.719603</td>\n",
       "      <td>1.320379</td>\n",
       "    </tr>\n",
       "    <tr>\n",
       "      <th>min</th>\n",
       "      <td>0.000000</td>\n",
       "      <td>0.000000</td>\n",
       "      <td>11.000000</td>\n",
       "    </tr>\n",
       "    <tr>\n",
       "      <th>25%</th>\n",
       "      <td>1.000000</td>\n",
       "      <td>0.000000</td>\n",
       "      <td>12.000000</td>\n",
       "    </tr>\n",
       "    <tr>\n",
       "      <th>50%</th>\n",
       "      <td>1.000000</td>\n",
       "      <td>0.000000</td>\n",
       "      <td>13.000000</td>\n",
       "    </tr>\n",
       "    <tr>\n",
       "      <th>75%</th>\n",
       "      <td>1.000000</td>\n",
       "      <td>0.000000</td>\n",
       "      <td>14.000000</td>\n",
       "    </tr>\n",
       "    <tr>\n",
       "      <th>max</th>\n",
       "      <td>1.000000</td>\n",
       "      <td>13.000000</td>\n",
       "      <td>15.000000</td>\n",
       "    </tr>\n",
       "  </tbody>\n",
       "</table>\n",
       "</div>"
      ],
      "text/plain": [
       "       click_status   conversions          hour\n",
       "count  10103.000000  10103.000000  10103.000000\n",
       "mean       0.862417      0.255766     12.945363\n",
       "std        0.344479      0.719603      1.320379\n",
       "min        0.000000      0.000000     11.000000\n",
       "25%        1.000000      0.000000     12.000000\n",
       "50%        1.000000      0.000000     13.000000\n",
       "75%        1.000000      0.000000     14.000000\n",
       "max        1.000000     13.000000     15.000000"
      ]
     },
     "execution_count": 22,
     "metadata": {},
     "output_type": "execute_result"
    }
   ],
   "source": [
    "df.describe()"
   ]
  },
  {
   "cell_type": "code",
   "execution_count": 23,
   "metadata": {},
   "outputs": [],
   "source": [
    "#max hour:  15\n",
    "#min hour:  11"
   ]
  },
  {
   "cell_type": "markdown",
   "metadata": {},
   "source": [
    "4). Query Terms\n"
   ]
  },
  {
   "cell_type": "code",
   "execution_count": 24,
   "metadata": {},
   "outputs": [
    {
     "data": {
      "text/plain": [
       "[\"car title loans\",\"loan quotes\",\"car financing\"]                                  317\n",
       "[\"car title loans\",\"loan quotes\",\"car finance calculator\"]                         313\n",
       "[\"car title loans\",\"loan quotes\",\"new car payment\"]                                290\n",
       "[\"Byethost\"]                                                                       268\n",
       "[\"edu online info\",\"degree programs\",\"online degree program\"]                      176\n",
       "[\"Naver.com\"]                                                                      111\n",
       "[\"ron\"]                                                                            106\n",
       "[\"apartments for rent vancouver craigslist\",\"craigslist used cars\",\"personals\"]     88\n",
       "[\"force download\",\"youtuby\",\"youtube org\"]                                          87\n",
       "[\"apricot complex\"]                                                                 85\n",
       "Name: query_term, dtype: int64"
      ]
     },
     "execution_count": 24,
     "metadata": {},
     "output_type": "execute_result"
    }
   ],
   "source": [
    "df.query_term.value_counts().head(10)"
   ]
  },
  {
   "cell_type": "code",
   "execution_count": 25,
   "metadata": {},
   "outputs": [
    {
     "data": {
      "text/plain": [
       "'\\n- most of the queries that made it to the top are related to cars \\n\\n'"
      ]
     },
     "execution_count": 25,
     "metadata": {},
     "output_type": "execute_result"
    }
   ],
   "source": [
    "'''\n",
    "- most of the queries that made it to the top are related to cars \n",
    "\n",
    "'''"
   ]
  },
  {
   "cell_type": "code",
   "execution_count": 26,
   "metadata": {},
   "outputs": [],
   "source": [
    "#store query terms as a list\n",
    "df['query_term_list'] = df.query_term.map(lambda x: x.strip('[').strip(']').replace('\"','').split(','))"
   ]
  },
  {
   "cell_type": "code",
   "execution_count": 27,
   "metadata": {},
   "outputs": [],
   "source": [
    "#length of the query terms list\n",
    "df['len_query_term_list'] = df['query_term_list'].map(lambda x: len(x))\n"
   ]
  },
  {
   "cell_type": "code",
   "execution_count": 28,
   "metadata": {},
   "outputs": [
    {
     "data": {
      "text/plain": [
       "3    4908\n",
       "1    4016\n",
       "2     826\n",
       "4     139\n",
       "5     122\n",
       "6      91\n",
       "7       1\n",
       "Name: len_query_term_list, dtype: int64"
      ]
     },
     "execution_count": 28,
     "metadata": {},
     "output_type": "execute_result"
    }
   ],
   "source": [
    "#how many queries by number of terms per query \n",
    "df['len_query_term_list'].value_counts()"
   ]
  },
  {
   "cell_type": "markdown",
   "metadata": {},
   "source": [
    "5). CPC & converstions"
   ]
  },
  {
   "cell_type": "code",
   "execution_count": 29,
   "metadata": {},
   "outputs": [],
   "source": [
    "df.cost_per_click = df.cost_per_click.map(lambda x: float(x.strip('$ ')))"
   ]
  },
  {
   "cell_type": "code",
   "execution_count": 30,
   "metadata": {},
   "outputs": [
    {
     "data": {
      "text/plain": [
       "0     8719\n",
       "2      814\n",
       "1      431\n",
       "3       68\n",
       "4       56\n",
       "6        6\n",
       "5        6\n",
       "9        2\n",
       "13       1\n",
       "Name: conversions, dtype: int64"
      ]
     },
     "execution_count": 30,
     "metadata": {},
     "output_type": "execute_result"
    }
   ],
   "source": [
    "df.conversions.value_counts()"
   ]
  },
  {
   "cell_type": "markdown",
   "metadata": {},
   "source": [
    "6). Doing some analysis"
   ]
  },
  {
   "cell_type": "markdown",
   "metadata": {},
   "source": [
    "6.1.). High level trends\n"
   ]
  },
  {
   "cell_type": "code",
   "execution_count": 31,
   "metadata": {},
   "outputs": [],
   "source": [
    "#cleaning click_status\n",
    "df_1 = df[df.click_status == 1]\n",
    "df_0 = df[df.click_status == 0]"
   ]
  },
  {
   "cell_type": "code",
   "execution_count": 32,
   "metadata": {},
   "outputs": [
    {
     "data": {
      "text/plain": [
       "0.8624171038305454"
      ]
     },
     "execution_count": 32,
     "metadata": {},
     "output_type": "execute_result"
    }
   ],
   "source": [
    "#Ratio: Valid Click\n",
    "len(df_1) / float(len(df))\n"
   ]
  },
  {
   "cell_type": "markdown",
   "metadata": {},
   "source": [
    "-- Valid Click Ratio is 86.2%"
   ]
  },
  {
   "cell_type": "code",
   "execution_count": 33,
   "metadata": {},
   "outputs": [
    {
     "data": {
      "text/plain": [
       "0.3773258349592622"
      ]
     },
     "execution_count": 33,
     "metadata": {},
     "output_type": "execute_result"
    }
   ],
   "source": [
    "#Avg: CPC/ Valid clicks\n",
    "df_1.cost_per_click.mean()\n"
   ]
  },
  {
   "cell_type": "markdown",
   "metadata": {},
   "source": [
    "-- Avg cost per click (CPC) / valid clicks is .37"
   ]
  },
  {
   "cell_type": "code",
   "execution_count": 34,
   "metadata": {},
   "outputs": [
    {
     "data": {
      "text/plain": [
       "3287.64"
      ]
     },
     "execution_count": 34,
     "metadata": {},
     "output_type": "execute_result"
    }
   ],
   "source": [
    "#total spending/ valid clicks\n",
    "df_1.cost_per_click.sum()\n"
   ]
  },
  {
   "cell_type": "markdown",
   "metadata": {},
   "source": [
    "-- the total spending / valid clicks is 3,287"
   ]
  },
  {
   "cell_type": "code",
   "execution_count": 35,
   "metadata": {},
   "outputs": [
    {
     "data": {
      "text/plain": [
       "0.1588431079995409"
      ]
     },
     "execution_count": 35,
     "metadata": {},
     "output_type": "execute_result"
    }
   ],
   "source": [
    "#Conversion rate / valid clicks\n",
    "len(df[df.conversions!=0])/float(len(df_1))\n"
   ]
  },
  {
   "cell_type": "markdown",
   "metadata": {},
   "source": [
    "-- Conversion rate is 15.8%"
   ]
  },
  {
   "cell_type": "markdown",
   "metadata": {},
   "source": [
    "6.2.). Analysis for clicks with status = 1:\n"
   ]
  },
  {
   "cell_type": "code",
   "execution_count": 36,
   "metadata": {},
   "outputs": [
    {
     "data": {
      "text/html": [
       "<div>\n",
       "<style scoped>\n",
       "    .dataframe tbody tr th:only-of-type {\n",
       "        vertical-align: middle;\n",
       "    }\n",
       "\n",
       "    .dataframe tbody tr th {\n",
       "        vertical-align: top;\n",
       "    }\n",
       "\n",
       "    .dataframe thead tr th {\n",
       "        text-align: left;\n",
       "    }\n",
       "\n",
       "    .dataframe thead tr:last-of-type th {\n",
       "        text-align: right;\n",
       "    }\n",
       "</style>\n",
       "<table border=\"1\" class=\"dataframe\">\n",
       "  <thead>\n",
       "    <tr>\n",
       "      <th></th>\n",
       "      <th colspan=\"2\" halign=\"left\">sum</th>\n",
       "      <th>avg</th>\n",
       "    </tr>\n",
       "    <tr>\n",
       "      <th></th>\n",
       "      <th>click_status</th>\n",
       "      <th>cost_per_click</th>\n",
       "      <th>cost_per_click</th>\n",
       "    </tr>\n",
       "    <tr>\n",
       "      <th>query_term</th>\n",
       "      <th></th>\n",
       "      <th></th>\n",
       "      <th></th>\n",
       "    </tr>\n",
       "  </thead>\n",
       "  <tbody>\n",
       "    <tr>\n",
       "      <th>[\"car title loans\",\"loan quotes\",\"car financing\"]</th>\n",
       "      <td>295</td>\n",
       "      <td>356.30</td>\n",
       "      <td>1.207797</td>\n",
       "    </tr>\n",
       "    <tr>\n",
       "      <th>[\"car title loans\",\"loan quotes\",\"car finance calculator\"]</th>\n",
       "      <td>296</td>\n",
       "      <td>354.83</td>\n",
       "      <td>1.198750</td>\n",
       "    </tr>\n",
       "    <tr>\n",
       "      <th>[\"car title loans\",\"loan quotes\",\"new car payment\"]</th>\n",
       "      <td>270</td>\n",
       "      <td>337.67</td>\n",
       "      <td>1.250630</td>\n",
       "    </tr>\n",
       "    <tr>\n",
       "      <th>[\"apartments for rent vancouver craigslist\",\"craigslist used cars\",\"personals\"]</th>\n",
       "      <td>81</td>\n",
       "      <td>97.11</td>\n",
       "      <td>1.198889</td>\n",
       "    </tr>\n",
       "    <tr>\n",
       "      <th>[\"turbo tax\"]</th>\n",
       "      <td>38</td>\n",
       "      <td>90.42</td>\n",
       "      <td>2.379474</td>\n",
       "    </tr>\n",
       "    <tr>\n",
       "      <th>[\"sprint wireless\",\"sprint mobile\",\"sprint\",\"sprint wireless phones\",\"cell phone\",\"smartphone\"]</th>\n",
       "      <td>27</td>\n",
       "      <td>61.54</td>\n",
       "      <td>2.279259</td>\n",
       "    </tr>\n",
       "    <tr>\n",
       "      <th>[\"edu online info\",\"degree programs\",\"online degree program\"]</th>\n",
       "      <td>174</td>\n",
       "      <td>38.19</td>\n",
       "      <td>0.219483</td>\n",
       "    </tr>\n",
       "    <tr>\n",
       "      <th>[\"autotrader\",\"autotrade\",\"car website\"]</th>\n",
       "      <td>33</td>\n",
       "      <td>36.04</td>\n",
       "      <td>1.092121</td>\n",
       "    </tr>\n",
       "    <tr>\n",
       "      <th>[\"turbo tax\",\"turbotax\",\"intuit turbotax\"]</th>\n",
       "      <td>4</td>\n",
       "      <td>35.51</td>\n",
       "      <td>8.877500</td>\n",
       "    </tr>\n",
       "    <tr>\n",
       "      <th>[\"Byethost\"]</th>\n",
       "      <td>191</td>\n",
       "      <td>32.47</td>\n",
       "      <td>0.170000</td>\n",
       "    </tr>\n",
       "  </tbody>\n",
       "</table>\n",
       "</div>"
      ],
      "text/plain": [
       "                                                            sum  \\\n",
       "                                                   click_status   \n",
       "query_term                                                        \n",
       "[\"car title loans\",\"loan quotes\",\"car financing\"]           295   \n",
       "[\"car title loans\",\"loan quotes\",\"car finance c...          296   \n",
       "[\"car title loans\",\"loan quotes\",\"new car payme...          270   \n",
       "[\"apartments for rent vancouver craigslist\",\"cr...           81   \n",
       "[\"turbo tax\"]                                                38   \n",
       "[\"sprint wireless\",\"sprint mobile\",\"sprint\",\"sp...           27   \n",
       "[\"edu online info\",\"degree programs\",\"online de...          174   \n",
       "[\"autotrader\",\"autotrade\",\"car website\"]                     33   \n",
       "[\"turbo tax\",\"turbotax\",\"intuit turbotax\"]                    4   \n",
       "[\"Byethost\"]                                                191   \n",
       "\n",
       "                                                                   \\\n",
       "                                                   cost_per_click   \n",
       "query_term                                                          \n",
       "[\"car title loans\",\"loan quotes\",\"car financing\"]          356.30   \n",
       "[\"car title loans\",\"loan quotes\",\"car finance c...         354.83   \n",
       "[\"car title loans\",\"loan quotes\",\"new car payme...         337.67   \n",
       "[\"apartments for rent vancouver craigslist\",\"cr...          97.11   \n",
       "[\"turbo tax\"]                                               90.42   \n",
       "[\"sprint wireless\",\"sprint mobile\",\"sprint\",\"sp...          61.54   \n",
       "[\"edu online info\",\"degree programs\",\"online de...          38.19   \n",
       "[\"autotrader\",\"autotrade\",\"car website\"]                    36.04   \n",
       "[\"turbo tax\",\"turbotax\",\"intuit turbotax\"]                  35.51   \n",
       "[\"Byethost\"]                                                32.47   \n",
       "\n",
       "                                                              avg  \n",
       "                                                   cost_per_click  \n",
       "query_term                                                         \n",
       "[\"car title loans\",\"loan quotes\",\"car financing\"]        1.207797  \n",
       "[\"car title loans\",\"loan quotes\",\"car finance c...       1.198750  \n",
       "[\"car title loans\",\"loan quotes\",\"new car payme...       1.250630  \n",
       "[\"apartments for rent vancouver craigslist\",\"cr...       1.198889  \n",
       "[\"turbo tax\"]                                            2.379474  \n",
       "[\"sprint wireless\",\"sprint mobile\",\"sprint\",\"sp...       2.279259  \n",
       "[\"edu online info\",\"degree programs\",\"online de...       0.219483  \n",
       "[\"autotrader\",\"autotrade\",\"car website\"]                 1.092121  \n",
       "[\"turbo tax\",\"turbotax\",\"intuit turbotax\"]               8.877500  \n",
       "[\"Byethost\"]                                             0.170000  "
      ]
     },
     "execution_count": 36,
     "metadata": {},
     "output_type": "execute_result"
    }
   ],
   "source": [
    "#Top Spending Query Terms and avg CPC for clicks with status =1\n",
    "qt_table = pd.pivot_table(df_1,index='query_term',values=['click_status','cost_per_click'],aggfunc=[np.sum]).sort_values(by=('sum','cost_per_click'),ascending=False)\n",
    "qt_table[('avg','cost_per_click')] = qt_table[('sum','cost_per_click')] / qt_table[('sum','click_status')]\n",
    "qt_table.head(10)"
   ]
  },
  {
   "cell_type": "code",
   "execution_count": 37,
   "metadata": {},
   "outputs": [],
   "source": [
    "qt_table.columns = ['valid_clicks','total_spending','avg_cpc']"
   ]
  },
  {
   "cell_type": "code",
   "execution_count": 38,
   "metadata": {},
   "outputs": [],
   "source": [
    "#get buckets for data visualization\n",
    "bins = [0, 50, 100, 150, 200, 250, 300]\n",
    "group_names = ['<50 Clicks', '50-99 Clicks', '100-149 Clicks', '150-199 Clicks','200-249 Clicks','250+ Clicks']\n",
    "qt_table['click_bucket'] = pd.cut(qt_table['valid_clicks'], bins, labels=group_names)"
   ]
  },
  {
   "cell_type": "code",
   "execution_count": 39,
   "metadata": {},
   "outputs": [
    {
     "data": {
      "text/plain": [
       "3.6857021996615904"
      ]
     },
     "execution_count": 39,
     "metadata": {},
     "output_type": "execute_result"
    }
   ],
   "source": [
    "qt_table.valid_clicks.mean()\n"
   ]
  },
  {
   "cell_type": "code",
   "execution_count": 40,
   "metadata": {},
   "outputs": [
    {
     "data": {
      "text/html": [
       "<div>\n",
       "<style scoped>\n",
       "    .dataframe tbody tr th:only-of-type {\n",
       "        vertical-align: middle;\n",
       "    }\n",
       "\n",
       "    .dataframe tbody tr th {\n",
       "        vertical-align: top;\n",
       "    }\n",
       "\n",
       "    .dataframe thead th {\n",
       "        text-align: right;\n",
       "    }\n",
       "</style>\n",
       "<table border=\"1\" class=\"dataframe\">\n",
       "  <thead>\n",
       "    <tr style=\"text-align: right;\">\n",
       "      <th></th>\n",
       "      <th>valid_clicks</th>\n",
       "      <th>total_spending</th>\n",
       "      <th>avg_cpc</th>\n",
       "      <th>click_bucket</th>\n",
       "    </tr>\n",
       "    <tr>\n",
       "      <th>query_term</th>\n",
       "      <th></th>\n",
       "      <th></th>\n",
       "      <th></th>\n",
       "      <th></th>\n",
       "    </tr>\n",
       "  </thead>\n",
       "  <tbody>\n",
       "    <tr>\n",
       "      <th>[\"car title loans\",\"loan quotes\",\"car financing\"]</th>\n",
       "      <td>295</td>\n",
       "      <td>356.30</td>\n",
       "      <td>1.207797</td>\n",
       "      <td>250+ Clicks</td>\n",
       "    </tr>\n",
       "    <tr>\n",
       "      <th>[\"car title loans\",\"loan quotes\",\"car finance calculator\"]</th>\n",
       "      <td>296</td>\n",
       "      <td>354.83</td>\n",
       "      <td>1.198750</td>\n",
       "      <td>250+ Clicks</td>\n",
       "    </tr>\n",
       "    <tr>\n",
       "      <th>[\"car title loans\",\"loan quotes\",\"new car payment\"]</th>\n",
       "      <td>270</td>\n",
       "      <td>337.67</td>\n",
       "      <td>1.250630</td>\n",
       "      <td>250+ Clicks</td>\n",
       "    </tr>\n",
       "    <tr>\n",
       "      <th>[\"apartments for rent vancouver craigslist\",\"craigslist used cars\",\"personals\"]</th>\n",
       "      <td>81</td>\n",
       "      <td>97.11</td>\n",
       "      <td>1.198889</td>\n",
       "      <td>50-99 Clicks</td>\n",
       "    </tr>\n",
       "    <tr>\n",
       "      <th>[\"turbo tax\"]</th>\n",
       "      <td>38</td>\n",
       "      <td>90.42</td>\n",
       "      <td>2.379474</td>\n",
       "      <td>&lt;50 Clicks</td>\n",
       "    </tr>\n",
       "  </tbody>\n",
       "</table>\n",
       "</div>"
      ],
      "text/plain": [
       "                                                    valid_clicks  \\\n",
       "query_term                                                         \n",
       "[\"car title loans\",\"loan quotes\",\"car financing\"]            295   \n",
       "[\"car title loans\",\"loan quotes\",\"car finance c...           296   \n",
       "[\"car title loans\",\"loan quotes\",\"new car payme...           270   \n",
       "[\"apartments for rent vancouver craigslist\",\"cr...            81   \n",
       "[\"turbo tax\"]                                                 38   \n",
       "\n",
       "                                                    total_spending   avg_cpc  \\\n",
       "query_term                                                                     \n",
       "[\"car title loans\",\"loan quotes\",\"car financing\"]           356.30  1.207797   \n",
       "[\"car title loans\",\"loan quotes\",\"car finance c...          354.83  1.198750   \n",
       "[\"car title loans\",\"loan quotes\",\"new car payme...          337.67  1.250630   \n",
       "[\"apartments for rent vancouver craigslist\",\"cr...           97.11  1.198889   \n",
       "[\"turbo tax\"]                                                90.42  2.379474   \n",
       "\n",
       "                                                    click_bucket  \n",
       "query_term                                                        \n",
       "[\"car title loans\",\"loan quotes\",\"car financing\"]    250+ Clicks  \n",
       "[\"car title loans\",\"loan quotes\",\"car finance c...   250+ Clicks  \n",
       "[\"car title loans\",\"loan quotes\",\"new car payme...   250+ Clicks  \n",
       "[\"apartments for rent vancouver craigslist\",\"cr...  50-99 Clicks  \n",
       "[\"turbo tax\"]                                         <50 Clicks  "
      ]
     },
     "execution_count": 40,
     "metadata": {},
     "output_type": "execute_result"
    }
   ],
   "source": [
    "qt_table.head()"
   ]
  },
  {
   "cell_type": "code",
   "execution_count": 41,
   "metadata": {},
   "outputs": [],
   "source": [
    "#qt_table.head(20)['valid_clicks']"
   ]
  },
  {
   "cell_type": "code",
   "execution_count": 42,
   "metadata": {},
   "outputs": [
    {
     "name": "stderr",
     "output_type": "stream",
     "text": [
      "/home/aurobindo/anaconda3/lib/python3.6/site-packages/ipykernel_launcher.py:2: UserWarning: Boolean Series key will be reindexed to match DataFrame index.\n",
      "  \n"
     ]
    },
    {
     "data": {
      "text/html": [
       "<div>\n",
       "<style scoped>\n",
       "    .dataframe tbody tr th:only-of-type {\n",
       "        vertical-align: middle;\n",
       "    }\n",
       "\n",
       "    .dataframe tbody tr th {\n",
       "        vertical-align: top;\n",
       "    }\n",
       "\n",
       "    .dataframe thead th {\n",
       "        text-align: right;\n",
       "    }\n",
       "</style>\n",
       "<table border=\"1\" class=\"dataframe\">\n",
       "  <thead>\n",
       "    <tr style=\"text-align: right;\">\n",
       "      <th></th>\n",
       "      <th>IP_address</th>\n",
       "    </tr>\n",
       "  </thead>\n",
       "  <tbody>\n",
       "    <tr>\n",
       "      <th>254.48.209.110</th>\n",
       "      <td>5</td>\n",
       "    </tr>\n",
       "    <tr>\n",
       "      <th>99.58.152.185</th>\n",
       "      <td>5</td>\n",
       "    </tr>\n",
       "    <tr>\n",
       "      <th>173.145.41.71</th>\n",
       "      <td>4</td>\n",
       "    </tr>\n",
       "    <tr>\n",
       "      <th>40.42.200.39</th>\n",
       "      <td>4</td>\n",
       "    </tr>\n",
       "    <tr>\n",
       "      <th>221.20.148.233</th>\n",
       "      <td>4</td>\n",
       "    </tr>\n",
       "    <tr>\n",
       "      <th>1.83.232.46</th>\n",
       "      <td>4</td>\n",
       "    </tr>\n",
       "    <tr>\n",
       "      <th>217.149.200.112</th>\n",
       "      <td>3</td>\n",
       "    </tr>\n",
       "    <tr>\n",
       "      <th>214.170.202.50</th>\n",
       "      <td>3</td>\n",
       "    </tr>\n",
       "    <tr>\n",
       "      <th>254.126.184.83</th>\n",
       "      <td>3</td>\n",
       "    </tr>\n",
       "    <tr>\n",
       "      <th>66.163.74.30</th>\n",
       "      <td>3</td>\n",
       "    </tr>\n",
       "  </tbody>\n",
       "</table>\n",
       "</div>"
      ],
      "text/plain": [
       "                 IP_address\n",
       "254.48.209.110            5\n",
       "99.58.152.185             5\n",
       "173.145.41.71             4\n",
       "40.42.200.39              4\n",
       "221.20.148.233            4\n",
       "1.83.232.46               4\n",
       "217.149.200.112           3\n",
       "214.170.202.50            3\n",
       "254.126.184.83            3\n",
       "66.163.74.30              3"
      ]
     },
     "execution_count": 42,
     "metadata": {},
     "output_type": "execute_result"
    }
   ],
   "source": [
    "# Identify the top converting IP addresses\n",
    "df_1[df.conversions != 0].IP_address.value_counts().to_frame().head(10)"
   ]
  },
  {
   "cell_type": "code",
   "execution_count": 43,
   "metadata": {},
   "outputs": [
    {
     "name": "stdout",
     "output_type": "stream",
     "text": [
      "-- 100.00% of query terms had 1 or more valid clicks\n",
      "-- 12.52% of query terms had 5 or more valid clicks\n",
      "-- 5.88% of query terms had 10 or more valid clicks\n",
      "-- 1.27% of query terms had 50 or more valid clicks\n",
      "-- 0.21% of query terms had 100 or more valid clicks\n",
      "-- 0.13% of query terms had 200 or more valid clicks\n"
     ]
    },
    {
     "data": {
      "image/png": "[encoded data removed]",
      "text/plain": [
       "<Figure size 864x504 with 1 Axes>"
      ]
     },
     "metadata": {},
     "output_type": "display_data"
    }
   ],
   "source": [
    "#Query terms table\n",
    "fig,ax = plt.subplots(figsize=(12, 7))\n",
    "bcolor = [\"#0AB9FB\", \"#5CD1FE\",\"#8BDAF9\", \"#ACE6FD\"]\n",
    "\n",
    "plt.bar(x = qt_table.head(20).index, height = qt_table.head(20)['valid_clicks'],color=bcolor)\n",
    "\n",
    "plt.ylabel('Total occurences')\n",
    "plt.title('Top 20 Query Terms Occurences', fontsize=14);\n",
    "plt.xticks(rotation = 'vertical')\n",
    "\n",
    "total_num = float(len(qt_table))\n",
    "for i in [1,5,10, 50, 100, 200]:\n",
    "    print ('-- {:.2f}% of query terms had {} or more valid clicks'.format( (qt_table['valid_clicks'][qt_table['valid_clicks']>=i].count()) / total_num *100,i))\n"
   ]
  },
  {
   "cell_type": "markdown",
   "metadata": {},
   "source": [
    "6.2). For IP addresses with > 1 click:\n"
   ]
  },
  {
   "cell_type": "code",
   "execution_count": 44,
   "metadata": {},
   "outputs": [],
   "source": [
    "ip_list = df.IP_address.value_counts()[df.IP_address.value_counts() >1].to_frame().index\n"
   ]
  },
  {
   "cell_type": "code",
   "execution_count": 45,
   "metadata": {},
   "outputs": [],
   "source": [
    "df_ip = df[df.IP_address.isin(ip_list)]"
   ]
  },
  {
   "cell_type": "code",
   "execution_count": 46,
   "metadata": {},
   "outputs": [
    {
     "data": {
      "text/html": [
       "<div>\n",
       "<style scoped>\n",
       "    .dataframe tbody tr th:only-of-type {\n",
       "        vertical-align: middle;\n",
       "    }\n",
       "\n",
       "    .dataframe tbody tr th {\n",
       "        vertical-align: top;\n",
       "    }\n",
       "\n",
       "    .dataframe thead th {\n",
       "        text-align: right;\n",
       "    }\n",
       "</style>\n",
       "<table border=\"1\" class=\"dataframe\">\n",
       "  <thead>\n",
       "    <tr style=\"text-align: right;\">\n",
       "      <th></th>\n",
       "      <th>click_status</th>\n",
       "      <th>percentage</th>\n",
       "    </tr>\n",
       "  </thead>\n",
       "  <tbody>\n",
       "    <tr>\n",
       "      <th>1</th>\n",
       "      <td>2453</td>\n",
       "      <td>0.81279</td>\n",
       "    </tr>\n",
       "    <tr>\n",
       "      <th>0</th>\n",
       "      <td>565</td>\n",
       "      <td>0.18721</td>\n",
       "    </tr>\n",
       "  </tbody>\n",
       "</table>\n",
       "</div>"
      ],
      "text/plain": [
       "   click_status  percentage\n",
       "1          2453     0.81279\n",
       "0           565     0.18721"
      ]
     },
     "execution_count": 46,
     "metadata": {},
     "output_type": "execute_result"
    }
   ],
   "source": [
    "# Provide a breakdown on invalid and valid clicks. Include steps taken to conduct analysis\n",
    "ip_status_table = df_ip.click_status.value_counts().to_frame()\n",
    "ip_status_table['percentage'] = ip_status_table.click_status / ip_status_table.click_status.sum()\n",
    "ip_status_table\n",
    "\n",
    "\n"
   ]
  },
  {
   "cell_type": "code",
   "execution_count": 47,
   "metadata": {},
   "outputs": [
    {
     "data": {
      "text/html": [
       "<div>\n",
       "<style scoped>\n",
       "    .dataframe tbody tr th:only-of-type {\n",
       "        vertical-align: middle;\n",
       "    }\n",
       "\n",
       "    .dataframe tbody tr th {\n",
       "        vertical-align: top;\n",
       "    }\n",
       "\n",
       "    .dataframe thead tr th {\n",
       "        text-align: left;\n",
       "    }\n",
       "</style>\n",
       "<table border=\"1\" class=\"dataframe\">\n",
       "  <thead>\n",
       "    <tr>\n",
       "      <th></th>\n",
       "      <th>IP_address</th>\n",
       "      <th>query_term</th>\n",
       "      <th>len</th>\n",
       "    </tr>\n",
       "    <tr>\n",
       "      <th></th>\n",
       "      <th></th>\n",
       "      <th></th>\n",
       "      <th>click_status</th>\n",
       "    </tr>\n",
       "  </thead>\n",
       "  <tbody>\n",
       "    <tr>\n",
       "      <th>0</th>\n",
       "      <td>0.38.12.224</td>\n",
       "      <td>[\"youtube\",\"youtuby\",\"r youtube\"]</td>\n",
       "      <td>1</td>\n",
       "    </tr>\n",
       "    <tr>\n",
       "      <th>1</th>\n",
       "      <td>0.38.12.224</td>\n",
       "      <td>[\"youtube\",\"youtuby\",\"youtube org\"]</td>\n",
       "      <td>2</td>\n",
       "    </tr>\n",
       "    <tr>\n",
       "      <th>2</th>\n",
       "      <td>0.53.181.217</td>\n",
       "      <td>[\"Nyanko Seek\"]</td>\n",
       "      <td>3</td>\n",
       "    </tr>\n",
       "    <tr>\n",
       "      <th>3</th>\n",
       "      <td>0.71.103.209</td>\n",
       "      <td>[\"meet girls\",\"dating girls\"]</td>\n",
       "      <td>4</td>\n",
       "    </tr>\n",
       "    <tr>\n",
       "      <th>4</th>\n",
       "      <td>0.73.240.6</td>\n",
       "      <td>[\"Badidu\"]</td>\n",
       "      <td>2</td>\n",
       "    </tr>\n",
       "  </tbody>\n",
       "</table>\n",
       "</div>"
      ],
      "text/plain": [
       "     IP_address                           query_term          len\n",
       "                                                     click_status\n",
       "0   0.38.12.224    [\"youtube\",\"youtuby\",\"r youtube\"]            1\n",
       "1   0.38.12.224  [\"youtube\",\"youtuby\",\"youtube org\"]            2\n",
       "2  0.53.181.217                      [\"Nyanko Seek\"]            3\n",
       "3  0.71.103.209        [\"meet girls\",\"dating girls\"]            4\n",
       "4    0.73.240.6                           [\"Badidu\"]            2"
      ]
     },
     "execution_count": 47,
     "metadata": {},
     "output_type": "execute_result"
    }
   ],
   "source": [
    "# Provide a breakdown on whether these users send the same query term for each click\n",
    "ip_query_table = pd.pivot_table(df_ip,index=['IP_address','query_term'],values='click_status',aggfunc=[len]).reset_index()\n",
    "ip_query_table.head()"
   ]
  },
  {
   "cell_type": "code",
   "execution_count": 48,
   "metadata": {},
   "outputs": [
    {
     "name": "stderr",
     "output_type": "stream",
     "text": [
      "/home/aurobindo/anaconda3/lib/python3.6/site-packages/pandas/core/generic.py:3111: PerformanceWarning: dropping on a non-lexsorted multi-index without a level parameter may impact performance.\n",
      "  obj = obj._drop_axis(labels, axis, level=level, errors=errors)\n"
     ]
    }
   ],
   "source": [
    "ip_query_table_2 = pd.pivot_table(ip_query_table,index=['IP_address'],values='query_term',aggfunc=[len]).reset_index()\n",
    "ip_query_table_2.columns = ['IP_address','unique_query_terms']\n"
   ]
  },
  {
   "cell_type": "code",
   "execution_count": 49,
   "metadata": {},
   "outputs": [
    {
     "data": {
      "text/html": [
       "<div>\n",
       "<style scoped>\n",
       "    .dataframe tbody tr th:only-of-type {\n",
       "        vertical-align: middle;\n",
       "    }\n",
       "\n",
       "    .dataframe tbody tr th {\n",
       "        vertical-align: top;\n",
       "    }\n",
       "\n",
       "    .dataframe thead th {\n",
       "        text-align: right;\n",
       "    }\n",
       "</style>\n",
       "<table border=\"1\" class=\"dataframe\">\n",
       "  <thead>\n",
       "    <tr style=\"text-align: right;\">\n",
       "      <th></th>\n",
       "      <th>unique_query_terms</th>\n",
       "      <th>percentage</th>\n",
       "    </tr>\n",
       "  </thead>\n",
       "  <tbody>\n",
       "    <tr>\n",
       "      <th>1</th>\n",
       "      <td>736</td>\n",
       "      <td>0.623201</td>\n",
       "    </tr>\n",
       "    <tr>\n",
       "      <th>2</th>\n",
       "      <td>379</td>\n",
       "      <td>0.320914</td>\n",
       "    </tr>\n",
       "    <tr>\n",
       "      <th>3</th>\n",
       "      <td>50</td>\n",
       "      <td>0.042337</td>\n",
       "    </tr>\n",
       "    <tr>\n",
       "      <th>4</th>\n",
       "      <td>13</td>\n",
       "      <td>0.011008</td>\n",
       "    </tr>\n",
       "    <tr>\n",
       "      <th>5</th>\n",
       "      <td>3</td>\n",
       "      <td>0.002540</td>\n",
       "    </tr>\n",
       "  </tbody>\n",
       "</table>\n",
       "</div>"
      ],
      "text/plain": [
       "   unique_query_terms  percentage\n",
       "1                 736    0.623201\n",
       "2                 379    0.320914\n",
       "3                  50    0.042337\n",
       "4                  13    0.011008\n",
       "5                   3    0.002540"
      ]
     },
     "execution_count": 49,
     "metadata": {},
     "output_type": "execute_result"
    }
   ],
   "source": [
    "ip_unique_query = ip_query_table_2.unique_query_terms.value_counts().to_frame()\n",
    "ip_unique_query['percentage'] = ip_unique_query.unique_query_terms / ip_unique_query.unique_query_terms.sum()\n",
    "ip_unique_query"
   ]
  },
  {
   "cell_type": "code",
   "execution_count": 50,
   "metadata": {},
   "outputs": [],
   "source": [
    "# Identify any shared attributes for this pool of users (if any)\n",
    "# Create ip_clicks_status: 1 = IP addresses with > 1 click, 0 = IP addresses with 1 click\n",
    "df['ip_clicks_status'] = df.IP_address.map(lambda x: 1 if x in ip_list else 0)\n"
   ]
  },
  {
   "cell_type": "code",
   "execution_count": 51,
   "metadata": {},
   "outputs": [
    {
     "data": {
      "text/plain": [
       "0.2987231515391468"
      ]
     },
     "execution_count": 51,
     "metadata": {},
     "output_type": "execute_result"
    }
   ],
   "source": [
    "df['ip_clicks_status'].sum() / float(len(df['ip_clicks_status']))\n"
   ]
  },
  {
   "cell_type": "code",
   "execution_count": 52,
   "metadata": {},
   "outputs": [],
   "source": [
    "df.to_csv('cleaned_data.csv')"
   ]
  },
  {
   "cell_type": "code",
   "execution_count": 53,
   "metadata": {},
   "outputs": [
    {
     "data": {
      "text/html": [
       "<div>\n",
       "<style scoped>\n",
       "    .dataframe tbody tr th:only-of-type {\n",
       "        vertical-align: middle;\n",
       "    }\n",
       "\n",
       "    .dataframe tbody tr th {\n",
       "        vertical-align: top;\n",
       "    }\n",
       "\n",
       "    .dataframe thead th {\n",
       "        text-align: right;\n",
       "    }\n",
       "</style>\n",
       "<table border=\"1\" class=\"dataframe\">\n",
       "  <thead>\n",
       "    <tr style=\"text-align: right;\">\n",
       "      <th></th>\n",
       "      <th>click_status</th>\n",
       "      <th>AMP_timestamp</th>\n",
       "      <th>query_term</th>\n",
       "      <th>IP_address</th>\n",
       "      <th>user_agent</th>\n",
       "      <th>cost_per_click</th>\n",
       "      <th>conversions</th>\n",
       "      <th>country</th>\n",
       "      <th>city</th>\n",
       "      <th>features</th>\n",
       "      <th>date</th>\n",
       "      <th>hour</th>\n",
       "      <th>query_term_list</th>\n",
       "      <th>len_query_term_list</th>\n",
       "      <th>ip_clicks_status</th>\n",
       "    </tr>\n",
       "  </thead>\n",
       "  <tbody>\n",
       "    <tr>\n",
       "      <th>0</th>\n",
       "      <td>1</td>\n",
       "      <td>29/01/15 11:00</td>\n",
       "      <td>[\"michael kors\",\"michael michael kors\"]</td>\n",
       "      <td>2.118.171.21</td>\n",
       "      <td>Mozilla/5.0 (iPad; CPU OS 8_1 like Mac OS X) A...</td>\n",
       "      <td>0.28</td>\n",
       "      <td>0</td>\n",
       "      <td>Italy</td>\n",
       "      <td>Unknown</td>\n",
       "      <td>iPad</td>\n",
       "      <td>29/01/1</td>\n",
       "      <td>11</td>\n",
       "      <td>[michael kors, michael michael kors]</td>\n",
       "      <td>2</td>\n",
       "      <td>0</td>\n",
       "    </tr>\n",
       "    <tr>\n",
       "      <th>1</th>\n",
       "      <td>1</td>\n",
       "      <td>29/01/15 11:00</td>\n",
       "      <td>[\"meet girls\",\"dating girls\"]</td>\n",
       "      <td>0.82.173.102</td>\n",
       "      <td>Mozilla/5.0 (Windows NT 5.1; rv:35.0) Gecko/20...</td>\n",
       "      <td>0.17</td>\n",
       "      <td>0</td>\n",
       "      <td>Unknown</td>\n",
       "      <td>Unknown</td>\n",
       "      <td>Windows</td>\n",
       "      <td>29/01/1</td>\n",
       "      <td>11</td>\n",
       "      <td>[meet girls, dating girls]</td>\n",
       "      <td>2</td>\n",
       "      <td>1</td>\n",
       "    </tr>\n",
       "    <tr>\n",
       "      <th>2</th>\n",
       "      <td>1</td>\n",
       "      <td>29/01/15 11:00</td>\n",
       "      <td>[\"meet girls\",\"dating girls\"]</td>\n",
       "      <td>0.82.173.102</td>\n",
       "      <td>Mozilla/5.0 (Windows NT 5.1; rv:35.0) Gecko/20...</td>\n",
       "      <td>0.17</td>\n",
       "      <td>0</td>\n",
       "      <td>Unknown</td>\n",
       "      <td>Unknown</td>\n",
       "      <td>Windows</td>\n",
       "      <td>29/01/1</td>\n",
       "      <td>11</td>\n",
       "      <td>[meet girls, dating girls]</td>\n",
       "      <td>2</td>\n",
       "      <td>1</td>\n",
       "    </tr>\n",
       "    <tr>\n",
       "      <th>3</th>\n",
       "      <td>1</td>\n",
       "      <td>29/01/15 11:00</td>\n",
       "      <td>[\"credit report\",\"credit karma\",\"free online c...</td>\n",
       "      <td>219.32.49.92</td>\n",
       "      <td>Mozilla/5.0 (Windows NT 6.3; WOW64) AppleWebKi...</td>\n",
       "      <td>0.90</td>\n",
       "      <td>0</td>\n",
       "      <td>Japan</td>\n",
       "      <td>Nagoya</td>\n",
       "      <td>Windows</td>\n",
       "      <td>29/01/1</td>\n",
       "      <td>11</td>\n",
       "      <td>[credit report, credit karma, free online cred...</td>\n",
       "      <td>3</td>\n",
       "      <td>0</td>\n",
       "    </tr>\n",
       "    <tr>\n",
       "      <th>4</th>\n",
       "      <td>1</td>\n",
       "      <td>29/01/15 11:00</td>\n",
       "      <td>[\"Byethost\"]</td>\n",
       "      <td>13.54.12.142</td>\n",
       "      <td>Mozilla/4.0 (compatible; MSIE 7.0; Windows NT ...</td>\n",
       "      <td>0.17</td>\n",
       "      <td>0</td>\n",
       "      <td>Australia</td>\n",
       "      <td>Sydney</td>\n",
       "      <td>compatible</td>\n",
       "      <td>29/01/1</td>\n",
       "      <td>11</td>\n",
       "      <td>[Byethost]</td>\n",
       "      <td>1</td>\n",
       "      <td>1</td>\n",
       "    </tr>\n",
       "  </tbody>\n",
       "</table>\n",
       "</div>"
      ],
      "text/plain": [
       "   click_status   AMP_timestamp  \\\n",
       "0             1  29/01/15 11:00   \n",
       "1             1  29/01/15 11:00   \n",
       "2             1  29/01/15 11:00   \n",
       "3             1  29/01/15 11:00   \n",
       "4             1  29/01/15 11:00   \n",
       "\n",
       "                                          query_term    IP_address  \\\n",
       "0            [\"michael kors\",\"michael michael kors\"]  2.118.171.21   \n",
       "1                      [\"meet girls\",\"dating girls\"]  0.82.173.102   \n",
       "2                      [\"meet girls\",\"dating girls\"]  0.82.173.102   \n",
       "3  [\"credit report\",\"credit karma\",\"free online c...  219.32.49.92   \n",
       "4                                       [\"Byethost\"]  13.54.12.142   \n",
       "\n",
       "                                          user_agent  cost_per_click  \\\n",
       "0  Mozilla/5.0 (iPad; CPU OS 8_1 like Mac OS X) A...            0.28   \n",
       "1  Mozilla/5.0 (Windows NT 5.1; rv:35.0) Gecko/20...            0.17   \n",
       "2  Mozilla/5.0 (Windows NT 5.1; rv:35.0) Gecko/20...            0.17   \n",
       "3  Mozilla/5.0 (Windows NT 6.3; WOW64) AppleWebKi...            0.90   \n",
       "4  Mozilla/4.0 (compatible; MSIE 7.0; Windows NT ...            0.17   \n",
       "\n",
       "   conversions    country     city    features     date  hour  \\\n",
       "0            0      Italy  Unknown        iPad  29/01/1    11   \n",
       "1            0    Unknown  Unknown     Windows  29/01/1    11   \n",
       "2            0    Unknown  Unknown     Windows  29/01/1    11   \n",
       "3            0      Japan   Nagoya     Windows  29/01/1    11   \n",
       "4            0  Australia   Sydney  compatible  29/01/1    11   \n",
       "\n",
       "                                     query_term_list  len_query_term_list  \\\n",
       "0               [michael kors, michael michael kors]                    2   \n",
       "1                         [meet girls, dating girls]                    2   \n",
       "2                         [meet girls, dating girls]                    2   \n",
       "3  [credit report, credit karma, free online cred...                    3   \n",
       "4                                         [Byethost]                    1   \n",
       "\n",
       "   ip_clicks_status  \n",
       "0                 0  \n",
       "1                 1  \n",
       "2                 1  \n",
       "3                 0  \n",
       "4                 1  "
      ]
     },
     "execution_count": 53,
     "metadata": {},
     "output_type": "execute_result"
    }
   ],
   "source": [
    "df.head()"
   ]
  },
  {
   "cell_type": "code",
   "execution_count": 56,
   "metadata": {},
   "outputs": [
    {
     "data": {
      "text/plain": [
       "0                  [\"michael kors\",\"michael michael kors\"]\n",
       "1                            [\"meet girls\",\"dating girls\"]\n",
       "2                            [\"meet girls\",\"dating girls\"]\n",
       "3        [\"credit report\",\"credit karma\",\"free online c...\n",
       "4                                             [\"Byethost\"]\n",
       "5        [\"online education games for kids\",\"games for ...\n",
       "6        [\"performance parts\",\"auto body parts\",\"racing...\n",
       "7                                            [\"game spot\"]\n",
       "8            [\"pediatric job\",\"F Craigslist\",\"online job\"]\n",
       "9                   [\"yahoo!\",\"yahoo\",\"yahoo my homepage\"]\n",
       "10       [\"black friday deals\",\"promo code macy\",\"macy ...\n",
       "11                                             [\"Cyworld\"]\n",
       "12                                              [\"Gujjar\"]\n",
       "13                                              [\"Gujjar\"]\n",
       "14       [\"To 3GP\",\"Online Video Converter\",\"video prod...\n",
       "15                                              [\"Faisal\"]\n",
       "16                                    [\"Kick Ass Torrent\"]\n",
       "17                                              [\"Faisal\"]\n",
       "18                                  [\"SAS ATT OSA SAT to\"]\n",
       "19                                           [\"turbo tax\"]\n",
       "20                                  [\"SAS ATT OSA SAT to\"]\n",
       "21                                            [\"Byethost\"]\n",
       "22                                              [\"Faisal\"]\n",
       "23                                  [\"SAS ATT OSA SAT to\"]\n",
       "24                                              [\"Faisal\"]\n",
       "25                                                [\"disk\"]\n",
       "26                                           [\"Naver.com\"]\n",
       "27                                    [\"Tennis Warehouse\"]\n",
       "28                                    [\"Portal Odebrecht\"]\n",
       "29                        [\"the news channel\",\"bbc hindi\"]\n",
       "                               ...                        \n",
       "10073    [\"car title loans\",\"loan quotes\",\"car finance ...\n",
       "10074               [\"facebook\",\"fecabook\",\"Kacebook.com\"]\n",
       "10075                     [\"gmail\",\"gamail\",\"google mail\"]\n",
       "10076    [\"watch videos online\",\"daily motion\",\"dailymo...\n",
       "10077                                    [\"cheap clothes\"]\n",
       "10078                                         [\"flip art\"]\n",
       "10079    [\"sprint\",\"sprint wireless\",\"sprint wireless p...\n",
       "10080                                           [\"pencil\"]\n",
       "10081                  [\"google\",\"goolg\",\"google english\"]\n",
       "10082                                         [\"Ebenk789\"]\n",
       "10083                             [\"Photo Shop Face Lift\"]\n",
       "10084    [\"car title loans\",\"loan quotes\",\"car finance ...\n",
       "10085                        [\"meet girls\",\"dating girls\"]\n",
       "10086                                           [\"Faisal\"]\n",
       "10087              [\"facebook\",\"fecabook\",\"face facebook\"]\n",
       "10088    [\"car title loans\",\"loan quotes\",\"new car paym...\n",
       "10089                                               [\"Xe\"]\n",
       "10090                    [\"youtube\",\"youtuby\",\"r youtube\"]\n",
       "10091                                   [\"Skid Row Scene\"]\n",
       "10092                                       [\"Gosu Gamer\"]\n",
       "10093                 [\"facebook\",\"fecabook\",\"Faceb Book\"]\n",
       "10094                                         [\"Byethost\"]\n",
       "10095                                     [\"mercato foot\"]\n",
       "10096              [\"new homepage\",\"google\",\"news google\"]\n",
       "10097    [\"pediatric job\",\"F Craigslist\",\"classified new\"]\n",
       "10098                 [\"facebook\",\"face book\",\"facebo9ok\"]\n",
       "10099                                       [\"tamil news\"]\n",
       "10100                            [\"google\",\"google downs\"]\n",
       "10101                                    [\"youtuberepeat\"]\n",
       "10102                     [\"new homepage\",\"goolg\",\"goole\"]\n",
       "Name: query_term, Length: 10103, dtype: object"
      ]
     },
     "execution_count": 56,
     "metadata": {},
     "output_type": "execute_result"
    }
   ],
   "source": [
    "df['query_term']"
   ]
  }
 ],
 "metadata": {
  "kernelspec": {
   "display_name": "Python 3",
   "language": "python",
   "name": "python3"
  },
  "language_info": {
   "codemirror_mode": {
    "name": "ipython",
    "version": 3
   },
   "file_extension": ".py",
   "mimetype": "text/x-python",
   "name": "python",
   "nbconvert_exporter": "python",
   "pygments_lexer": "ipython3",
   "version": "3.6.6"
  }
 },
 "nbformat": 4,
 "nbformat_minor": 2
}
