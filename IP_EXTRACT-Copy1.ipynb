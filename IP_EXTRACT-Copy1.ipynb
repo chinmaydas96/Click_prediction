{
 "cells": [
  {
   "cell_type": "code",
   "execution_count": 1,
   "metadata": {},
   "outputs": [],
   "source": [
    "import pandas as pd"
   ]
  },
  {
   "cell_type": "code",
   "execution_count": 2,
   "metadata": {},
   "outputs": [
    {
     "data": {
      "text/html": [
       "<div>\n",
       "<style scoped>\n",
       "    .dataframe tbody tr th:only-of-type {\n",
       "        vertical-align: middle;\n",
       "    }\n",
       "\n",
       "    .dataframe tbody tr th {\n",
       "        vertical-align: top;\n",
       "    }\n",
       "\n",
       "    .dataframe thead th {\n",
       "        text-align: right;\n",
       "    }\n",
       "</style>\n",
       "<table border=\"1\" class=\"dataframe\">\n",
       "  <thead>\n",
       "    <tr style=\"text-align: right;\">\n",
       "      <th></th>\n",
       "      <th>click_status</th>\n",
       "      <th>AMP_timestamp</th>\n",
       "      <th>Query Term</th>\n",
       "      <th>IP Address</th>\n",
       "      <th>User Agent</th>\n",
       "      <th>Cost Per Click</th>\n",
       "      <th>Conversions</th>\n",
       "    </tr>\n",
       "  </thead>\n",
       "  <tbody>\n",
       "    <tr>\n",
       "      <th>0</th>\n",
       "      <td>1</td>\n",
       "      <td>29/01/15 11:00</td>\n",
       "      <td>[\"michael kors\",\"michael michael kors\"]</td>\n",
       "      <td>2.118.171.21</td>\n",
       "      <td>Mozilla/5.0 (iPad; CPU OS 8_1 like Mac OS X) A...</td>\n",
       "      <td>$ .28</td>\n",
       "      <td>0</td>\n",
       "    </tr>\n",
       "    <tr>\n",
       "      <th>1</th>\n",
       "      <td>1</td>\n",
       "      <td>29/01/15 11:00</td>\n",
       "      <td>[\"meet girls\",\"dating girls\"]</td>\n",
       "      <td>0.82.173.102</td>\n",
       "      <td>Mozilla/5.0 (Windows NT 5.1; rv:35.0) Gecko/20...</td>\n",
       "      <td>$ .17</td>\n",
       "      <td>0</td>\n",
       "    </tr>\n",
       "    <tr>\n",
       "      <th>2</th>\n",
       "      <td>1</td>\n",
       "      <td>29/01/15 11:00</td>\n",
       "      <td>[\"meet girls\",\"dating girls\"]</td>\n",
       "      <td>0.82.173.102</td>\n",
       "      <td>Mozilla/5.0 (Windows NT 5.1; rv:35.0) Gecko/20...</td>\n",
       "      <td>$ .17</td>\n",
       "      <td>0</td>\n",
       "    </tr>\n",
       "    <tr>\n",
       "      <th>3</th>\n",
       "      <td>1</td>\n",
       "      <td>29/01/15 11:00</td>\n",
       "      <td>[\"credit report\",\"credit karma\",\"free online c...</td>\n",
       "      <td>219.32.49.92</td>\n",
       "      <td>Mozilla/5.0 (Windows NT 6.3; WOW64) AppleWebKi...</td>\n",
       "      <td>$ .90</td>\n",
       "      <td>0</td>\n",
       "    </tr>\n",
       "    <tr>\n",
       "      <th>4</th>\n",
       "      <td>1</td>\n",
       "      <td>29/01/15 11:00</td>\n",
       "      <td>[\"Byethost\"]</td>\n",
       "      <td>13.54.12.142</td>\n",
       "      <td>Mozilla/4.0 (compatible; MSIE 7.0; Windows NT ...</td>\n",
       "      <td>$ .17</td>\n",
       "      <td>0</td>\n",
       "    </tr>\n",
       "  </tbody>\n",
       "</table>\n",
       "</div>"
      ],
      "text/plain": [
       "   click_status   AMP_timestamp  \\\n",
       "0             1  29/01/15 11:00   \n",
       "1             1  29/01/15 11:00   \n",
       "2             1  29/01/15 11:00   \n",
       "3             1  29/01/15 11:00   \n",
       "4             1  29/01/15 11:00   \n",
       "\n",
       "                                         Query Term     IP Address  \\\n",
       "0            [\"michael kors\",\"michael michael kors\"]  2.118.171.21   \n",
       "1                      [\"meet girls\",\"dating girls\"]  0.82.173.102   \n",
       "2                      [\"meet girls\",\"dating girls\"]  0.82.173.102   \n",
       "3  [\"credit report\",\"credit karma\",\"free online c...  219.32.49.92   \n",
       "4                                       [\"Byethost\"]  13.54.12.142   \n",
       "\n",
       "                                          User Agent Cost Per Click   \\\n",
       "0  Mozilla/5.0 (iPad; CPU OS 8_1 like Mac OS X) A...           $ .28   \n",
       "1  Mozilla/5.0 (Windows NT 5.1; rv:35.0) Gecko/20...           $ .17   \n",
       "2  Mozilla/5.0 (Windows NT 5.1; rv:35.0) Gecko/20...           $ .17   \n",
       "3  Mozilla/5.0 (Windows NT 6.3; WOW64) AppleWebKi...           $ .90   \n",
       "4  Mozilla/4.0 (compatible; MSIE 7.0; Windows NT ...           $ .17   \n",
       "\n",
       "   Conversions  \n",
       "0            0  \n",
       "1            0  \n",
       "2            0  \n",
       "3            0  \n",
       "4            0  "
      ]
     },
     "execution_count": 2,
     "metadata": {},
     "output_type": "execute_result"
    }
   ],
   "source": [
    "df = pd.read_csv('ad_data.csv')\n",
    "df.head()"
   ]
  },
  {
   "cell_type": "code",
   "execution_count": 3,
   "metadata": {},
   "outputs": [],
   "source": [
    "IPs = df['IP Address'].tolist()"
   ]
  },
  {
   "cell_type": "code",
   "execution_count": 4,
   "metadata": {},
   "outputs": [],
   "source": [
    "# ! pip install python-geoip\n",
    "# ! pip install python-geoip-geolite2\n",
    "# ! pip install pygeoip"
   ]
  },
  {
   "cell_type": "code",
   "execution_count": 5,
   "metadata": {},
   "outputs": [],
   "source": [
    "# download these files\n",
    "\n",
    "#! wget \"http://geolite.maxmind.com/download/geoip/database/GeoLiteCountry/GeoIP.dat.gz\"\n",
    "#! wget \"http://geolite.maxmind.com/download/geoip/database/GeoLiteCountry/GeoIP.dat.gz\""
   ]
  },
  {
   "cell_type": "code",
   "execution_count": 6,
   "metadata": {},
   "outputs": [
    {
     "data": {
      "text/plain": [
       "'2.118.171.21'"
      ]
     },
     "execution_count": 6,
     "metadata": {},
     "output_type": "execute_result"
    }
   ],
   "source": [
    "IPs[0]"
   ]
  },
  {
   "cell_type": "code",
   "execution_count": 7,
   "metadata": {},
   "outputs": [],
   "source": [
    "IP_country = []\n",
    "\n",
    "import pygeoip\n",
    "GEOIP = pygeoip.GeoIP(\"GeoIP.dat\", pygeoip.MEMORY_CACHE)\n",
    "\n",
    "for i in range(len(IPs)):\n",
    "    IP_country.append(GEOIP.country_name_by_addr(IPs[i]))"
   ]
  },
  {
   "cell_type": "code",
   "execution_count": 8,
   "metadata": {},
   "outputs": [
    {
     "data": {
      "text/plain": [
       "'Italy'"
      ]
     },
     "execution_count": 8,
     "metadata": {},
     "output_type": "execute_result"
    }
   ],
   "source": [
    "IP_country[0]"
   ]
  },
  {
   "cell_type": "code",
   "execution_count": 9,
   "metadata": {},
   "outputs": [],
   "source": [
    "ip_city_dict = []\n",
    "import pygeoip\n",
    "GEOIP = pygeoip.GeoIP(\"GeoLiteCity.dat\", pygeoip.MEMORY_CACHE)\n",
    "\n",
    "for i in range(len(IPs)):\n",
    "    ip_city_dict.append(GEOIP.record_by_addr(IPs[i]))\n",
    "\n",
    "city_ip = []\n",
    "for i in ip_city_dict:\n",
    "    if i is None:\n",
    "        city_ip.append(\"Unknown\")\n",
    "    else:\n",
    "        city_ip.append(i['city'])"
   ]
  },
  {
   "cell_type": "code",
   "execution_count": 10,
   "metadata": {},
   "outputs": [],
   "source": [
    "city_ip[0]"
   ]
  },
  {
   "cell_type": "code",
   "execution_count": 11,
   "metadata": {},
   "outputs": [],
   "source": [
    "#IP_country"
   ]
  },
  {
   "cell_type": "code",
   "execution_count": 12,
   "metadata": {},
   "outputs": [
    {
     "data": {
      "text/plain": [
       "10103"
      ]
     },
     "execution_count": 12,
     "metadata": {},
     "output_type": "execute_result"
    }
   ],
   "source": [
    "len(IPs)"
   ]
  },
  {
   "cell_type": "code",
   "execution_count": 13,
   "metadata": {},
   "outputs": [
    {
     "name": "stdout",
     "output_type": "stream",
     "text": [
      "10103\n"
     ]
    }
   ],
   "source": [
    "print(len(IP_country))"
   ]
  },
  {
   "cell_type": "code",
   "execution_count": 14,
   "metadata": {},
   "outputs": [
    {
     "name": "stdout",
     "output_type": "stream",
     "text": [
      "10103\n"
     ]
    }
   ],
   "source": [
    "print(len(city_ip))"
   ]
  },
  {
   "cell_type": "code",
   "execution_count": 15,
   "metadata": {},
   "outputs": [],
   "source": [
    "df['country'] = IP_country"
   ]
  },
  {
   "cell_type": "code",
   "execution_count": 16,
   "metadata": {},
   "outputs": [],
   "source": [
    "df['city'] = city_ip"
   ]
  },
  {
   "cell_type": "code",
   "execution_count": 17,
   "metadata": {},
   "outputs": [],
   "source": [
    "df[\"city\"].fillna(\"Unknown\", inplace=True)"
   ]
  },
  {
   "cell_type": "code",
   "execution_count": 18,
   "metadata": {},
   "outputs": [],
   "source": [
    "df['country'].replace(\"\", 'Unknown',inplace=True)"
   ]
  },
  {
   "cell_type": "code",
   "execution_count": 19,
   "metadata": {},
   "outputs": [
    {
     "data": {
      "text/html": [
       "<div>\n",
       "<style scoped>\n",
       "    .dataframe tbody tr th:only-of-type {\n",
       "        vertical-align: middle;\n",
       "    }\n",
       "\n",
       "    .dataframe tbody tr th {\n",
       "        vertical-align: top;\n",
       "    }\n",
       "\n",
       "    .dataframe thead th {\n",
       "        text-align: right;\n",
       "    }\n",
       "</style>\n",
       "<table border=\"1\" class=\"dataframe\">\n",
       "  <thead>\n",
       "    <tr style=\"text-align: right;\">\n",
       "      <th></th>\n",
       "      <th>click_status</th>\n",
       "      <th>AMP_timestamp</th>\n",
       "      <th>Query Term</th>\n",
       "      <th>IP Address</th>\n",
       "      <th>User Agent</th>\n",
       "      <th>Cost Per Click</th>\n",
       "      <th>Conversions</th>\n",
       "      <th>country</th>\n",
       "      <th>city</th>\n",
       "    </tr>\n",
       "  </thead>\n",
       "  <tbody>\n",
       "    <tr>\n",
       "      <th>0</th>\n",
       "      <td>1</td>\n",
       "      <td>29/01/15 11:00</td>\n",
       "      <td>[\"michael kors\",\"michael michael kors\"]</td>\n",
       "      <td>2.118.171.21</td>\n",
       "      <td>Mozilla/5.0 (iPad; CPU OS 8_1 like Mac OS X) A...</td>\n",
       "      <td>$ .28</td>\n",
       "      <td>0</td>\n",
       "      <td>Italy</td>\n",
       "      <td>Unknown</td>\n",
       "    </tr>\n",
       "    <tr>\n",
       "      <th>1</th>\n",
       "      <td>1</td>\n",
       "      <td>29/01/15 11:00</td>\n",
       "      <td>[\"meet girls\",\"dating girls\"]</td>\n",
       "      <td>0.82.173.102</td>\n",
       "      <td>Mozilla/5.0 (Windows NT 5.1; rv:35.0) Gecko/20...</td>\n",
       "      <td>$ .17</td>\n",
       "      <td>0</td>\n",
       "      <td>Unknown</td>\n",
       "      <td>Unknown</td>\n",
       "    </tr>\n",
       "    <tr>\n",
       "      <th>2</th>\n",
       "      <td>1</td>\n",
       "      <td>29/01/15 11:00</td>\n",
       "      <td>[\"meet girls\",\"dating girls\"]</td>\n",
       "      <td>0.82.173.102</td>\n",
       "      <td>Mozilla/5.0 (Windows NT 5.1; rv:35.0) Gecko/20...</td>\n",
       "      <td>$ .17</td>\n",
       "      <td>0</td>\n",
       "      <td>Unknown</td>\n",
       "      <td>Unknown</td>\n",
       "    </tr>\n",
       "    <tr>\n",
       "      <th>3</th>\n",
       "      <td>1</td>\n",
       "      <td>29/01/15 11:00</td>\n",
       "      <td>[\"credit report\",\"credit karma\",\"free online c...</td>\n",
       "      <td>219.32.49.92</td>\n",
       "      <td>Mozilla/5.0 (Windows NT 6.3; WOW64) AppleWebKi...</td>\n",
       "      <td>$ .90</td>\n",
       "      <td>0</td>\n",
       "      <td>Japan</td>\n",
       "      <td>Nagoya</td>\n",
       "    </tr>\n",
       "    <tr>\n",
       "      <th>4</th>\n",
       "      <td>1</td>\n",
       "      <td>29/01/15 11:00</td>\n",
       "      <td>[\"Byethost\"]</td>\n",
       "      <td>13.54.12.142</td>\n",
       "      <td>Mozilla/4.0 (compatible; MSIE 7.0; Windows NT ...</td>\n",
       "      <td>$ .17</td>\n",
       "      <td>0</td>\n",
       "      <td>Australia</td>\n",
       "      <td>Sydney</td>\n",
       "    </tr>\n",
       "  </tbody>\n",
       "</table>\n",
       "</div>"
      ],
      "text/plain": [
       "   click_status   AMP_timestamp  \\\n",
       "0             1  29/01/15 11:00   \n",
       "1             1  29/01/15 11:00   \n",
       "2             1  29/01/15 11:00   \n",
       "3             1  29/01/15 11:00   \n",
       "4             1  29/01/15 11:00   \n",
       "\n",
       "                                         Query Term     IP Address  \\\n",
       "0            [\"michael kors\",\"michael michael kors\"]  2.118.171.21   \n",
       "1                      [\"meet girls\",\"dating girls\"]  0.82.173.102   \n",
       "2                      [\"meet girls\",\"dating girls\"]  0.82.173.102   \n",
       "3  [\"credit report\",\"credit karma\",\"free online c...  219.32.49.92   \n",
       "4                                       [\"Byethost\"]  13.54.12.142   \n",
       "\n",
       "                                          User Agent Cost Per Click   \\\n",
       "0  Mozilla/5.0 (iPad; CPU OS 8_1 like Mac OS X) A...           $ .28   \n",
       "1  Mozilla/5.0 (Windows NT 5.1; rv:35.0) Gecko/20...           $ .17   \n",
       "2  Mozilla/5.0 (Windows NT 5.1; rv:35.0) Gecko/20...           $ .17   \n",
       "3  Mozilla/5.0 (Windows NT 6.3; WOW64) AppleWebKi...           $ .90   \n",
       "4  Mozilla/4.0 (compatible; MSIE 7.0; Windows NT ...           $ .17   \n",
       "\n",
       "   Conversions    country     city  \n",
       "0            0      Italy  Unknown  \n",
       "1            0    Unknown  Unknown  \n",
       "2            0    Unknown  Unknown  \n",
       "3            0      Japan   Nagoya  \n",
       "4            0  Australia   Sydney  "
      ]
     },
     "execution_count": 19,
     "metadata": {},
     "output_type": "execute_result"
    }
   ],
   "source": [
    "df.head()"
   ]
  },
  {
   "cell_type": "code",
   "execution_count": 20,
   "metadata": {},
   "outputs": [
    {
     "data": {
      "text/plain": [
       "United States                       4650\n",
       "Unknown                             1319\n",
       "China                                592\n",
       "Brazil                               502\n",
       "Canada                               443\n",
       "Germany                              275\n",
       "Japan                                220\n",
       "Mexico                               202\n",
       "Korea, Republic of                   169\n",
       "United Kingdom                       162\n",
       "France                               160\n",
       "Russian Federation                    73\n",
       "Netherlands                           72\n",
       "Saudi Arabia                          72\n",
       "Italy                                 66\n",
       "Sweden                                66\n",
       "Poland                                62\n",
       "Spain                                 56\n",
       "Iran, Islamic Republic of             51\n",
       "Czech Republic                        48\n",
       "Colombia                              44\n",
       "Australia                             44\n",
       "Egypt                                 37\n",
       "Argentina                             37\n",
       "Switzerland                           34\n",
       "India                                 33\n",
       "South Africa                          32\n",
       "Austria                               30\n",
       "Denmark                               29\n",
       "Chile                                 29\n",
       "                                    ... \n",
       "Azerbaijan                             4\n",
       "Latvia                                 4\n",
       "Serbia                                 4\n",
       "Singapore                              4\n",
       "Pakistan                               4\n",
       "Malaysia                               3\n",
       "New Zealand                            3\n",
       "Iraq                                   2\n",
       "Senegal                                2\n",
       "Albania                                2\n",
       "Israel                                 2\n",
       "Syrian Arab Republic                   2\n",
       "Europe                                 2\n",
       "Andorra                                2\n",
       "Kenya                                  2\n",
       "Honduras                               1\n",
       "Barbados                               1\n",
       "Isle of Man                            1\n",
       "Saint Kitts and Nevis                  1\n",
       "Bangladesh                             1\n",
       "Bahamas                                1\n",
       "Nicaragua                              1\n",
       "Bosnia and Herzegovina                 1\n",
       "Cameroon                               1\n",
       "Cyprus                                 1\n",
       "Panama                                 1\n",
       "Saint Vincent and the Grenadines       1\n",
       "Guatemala                              1\n",
       "Slovenia                               1\n",
       "Bolivia                                1\n",
       "Name: country, Length: 94, dtype: int64"
      ]
     },
     "execution_count": 20,
     "metadata": {},
     "output_type": "execute_result"
    }
   ],
   "source": [
    "df['country'].value_counts()"
   ]
  },
  {
   "cell_type": "code",
   "execution_count": 21,
   "metadata": {},
   "outputs": [
    {
     "data": {
      "text/plain": [
       "Unknown                4396\n",
       "Fort Huachuca           277\n",
       "Palo Alto               222\n",
       "Norwalk                 129\n",
       "Dearborn                114\n",
       "Irvine                  112\n",
       "Raleigh                 110\n",
       "Durham                   90\n",
       "Beijing                  84\n",
       "Tokyo                    76\n",
       "Toronto                  73\n",
       "Xian                     67\n",
       "Sao Paulo                64\n",
       "Los Angeles              57\n",
       "Montréal                 53\n",
       "Cambridge                50\n",
       "Harbin                   43\n",
       "Prague                   42\n",
       "Portland                 42\n",
       "New York                 38\n",
       "Guangzhou                36\n",
       "San Jose                 35\n",
       "New Plymouth             35\n",
       "Denver                   34\n",
       "Seoul                    32\n",
       "Calgary                  31\n",
       "Nanjing                  30\n",
       "South Plainfield         29\n",
       "Rio De Janeiro           28\n",
       "Mexico                   28\n",
       "                       ... \n",
       "Sao Jose Dos Campos       1\n",
       "Cancún                    1\n",
       "Valparaiso                1\n",
       "Geaune                    1\n",
       "Haaksbergen               1\n",
       "Sorriso                   1\n",
       "Paulista                  1\n",
       "Albstadt                  1\n",
       "Lynnwood                  1\n",
       "Goheung                   1\n",
       "Taebaek                   1\n",
       "Vinsady                   1\n",
       "Lanzhou                   1\n",
       "Yakutsk                   1\n",
       "Wickford                  1\n",
       "Düren                     1\n",
       "Federal                   1\n",
       "Itu                       1\n",
       "Szada                     1\n",
       "Bonham                    1\n",
       "Debnialki                 1\n",
       "Shizuishan                1\n",
       "Ploiesti                  1\n",
       "Würzburg                  1\n",
       "Sao Sebastiao             1\n",
       "Virum                     1\n",
       "Oceanside                 1\n",
       "Neuss                     1\n",
       "Kurume                    1\n",
       "Xaxim                     1\n",
       "Name: city, Length: 1582, dtype: int64"
      ]
     },
     "execution_count": 21,
     "metadata": {},
     "output_type": "execute_result"
    }
   ],
   "source": [
    "df['city'].value_counts()"
   ]
  },
  {
   "cell_type": "code",
   "execution_count": 22,
   "metadata": {},
   "outputs": [
    {
     "data": {
      "text/html": [
       "<div>\n",
       "<style scoped>\n",
       "    .dataframe tbody tr th:only-of-type {\n",
       "        vertical-align: middle;\n",
       "    }\n",
       "\n",
       "    .dataframe tbody tr th {\n",
       "        vertical-align: top;\n",
       "    }\n",
       "\n",
       "    .dataframe thead th {\n",
       "        text-align: right;\n",
       "    }\n",
       "</style>\n",
       "<table border=\"1\" class=\"dataframe\">\n",
       "  <thead>\n",
       "    <tr style=\"text-align: right;\">\n",
       "      <th></th>\n",
       "      <th>click_status</th>\n",
       "      <th>AMP_timestamp</th>\n",
       "      <th>Query Term</th>\n",
       "      <th>IP Address</th>\n",
       "      <th>User Agent</th>\n",
       "      <th>Cost Per Click</th>\n",
       "      <th>Conversions</th>\n",
       "      <th>country</th>\n",
       "      <th>city</th>\n",
       "    </tr>\n",
       "  </thead>\n",
       "  <tbody>\n",
       "    <tr>\n",
       "      <th>0</th>\n",
       "      <td>1</td>\n",
       "      <td>29/01/15 11:00</td>\n",
       "      <td>[\"michael kors\",\"michael michael kors\"]</td>\n",
       "      <td>2.118.171.21</td>\n",
       "      <td>Mozilla/5.0 (iPad; CPU OS 8_1 like Mac OS X) A...</td>\n",
       "      <td>$ .28</td>\n",
       "      <td>0</td>\n",
       "      <td>Italy</td>\n",
       "      <td>Unknown</td>\n",
       "    </tr>\n",
       "    <tr>\n",
       "      <th>1</th>\n",
       "      <td>1</td>\n",
       "      <td>29/01/15 11:00</td>\n",
       "      <td>[\"meet girls\",\"dating girls\"]</td>\n",
       "      <td>0.82.173.102</td>\n",
       "      <td>Mozilla/5.0 (Windows NT 5.1; rv:35.0) Gecko/20...</td>\n",
       "      <td>$ .17</td>\n",
       "      <td>0</td>\n",
       "      <td>Unknown</td>\n",
       "      <td>Unknown</td>\n",
       "    </tr>\n",
       "    <tr>\n",
       "      <th>2</th>\n",
       "      <td>1</td>\n",
       "      <td>29/01/15 11:00</td>\n",
       "      <td>[\"meet girls\",\"dating girls\"]</td>\n",
       "      <td>0.82.173.102</td>\n",
       "      <td>Mozilla/5.0 (Windows NT 5.1; rv:35.0) Gecko/20...</td>\n",
       "      <td>$ .17</td>\n",
       "      <td>0</td>\n",
       "      <td>Unknown</td>\n",
       "      <td>Unknown</td>\n",
       "    </tr>\n",
       "    <tr>\n",
       "      <th>3</th>\n",
       "      <td>1</td>\n",
       "      <td>29/01/15 11:00</td>\n",
       "      <td>[\"credit report\",\"credit karma\",\"free online c...</td>\n",
       "      <td>219.32.49.92</td>\n",
       "      <td>Mozilla/5.0 (Windows NT 6.3; WOW64) AppleWebKi...</td>\n",
       "      <td>$ .90</td>\n",
       "      <td>0</td>\n",
       "      <td>Japan</td>\n",
       "      <td>Nagoya</td>\n",
       "    </tr>\n",
       "    <tr>\n",
       "      <th>4</th>\n",
       "      <td>1</td>\n",
       "      <td>29/01/15 11:00</td>\n",
       "      <td>[\"Byethost\"]</td>\n",
       "      <td>13.54.12.142</td>\n",
       "      <td>Mozilla/4.0 (compatible; MSIE 7.0; Windows NT ...</td>\n",
       "      <td>$ .17</td>\n",
       "      <td>0</td>\n",
       "      <td>Australia</td>\n",
       "      <td>Sydney</td>\n",
       "    </tr>\n",
       "  </tbody>\n",
       "</table>\n",
       "</div>"
      ],
      "text/plain": [
       "   click_status   AMP_timestamp  \\\n",
       "0             1  29/01/15 11:00   \n",
       "1             1  29/01/15 11:00   \n",
       "2             1  29/01/15 11:00   \n",
       "3             1  29/01/15 11:00   \n",
       "4             1  29/01/15 11:00   \n",
       "\n",
       "                                         Query Term     IP Address  \\\n",
       "0            [\"michael kors\",\"michael michael kors\"]  2.118.171.21   \n",
       "1                      [\"meet girls\",\"dating girls\"]  0.82.173.102   \n",
       "2                      [\"meet girls\",\"dating girls\"]  0.82.173.102   \n",
       "3  [\"credit report\",\"credit karma\",\"free online c...  219.32.49.92   \n",
       "4                                       [\"Byethost\"]  13.54.12.142   \n",
       "\n",
       "                                          User Agent Cost Per Click   \\\n",
       "0  Mozilla/5.0 (iPad; CPU OS 8_1 like Mac OS X) A...           $ .28   \n",
       "1  Mozilla/5.0 (Windows NT 5.1; rv:35.0) Gecko/20...           $ .17   \n",
       "2  Mozilla/5.0 (Windows NT 5.1; rv:35.0) Gecko/20...           $ .17   \n",
       "3  Mozilla/5.0 (Windows NT 6.3; WOW64) AppleWebKi...           $ .90   \n",
       "4  Mozilla/4.0 (compatible; MSIE 7.0; Windows NT ...           $ .17   \n",
       "\n",
       "   Conversions    country     city  \n",
       "0            0      Italy  Unknown  \n",
       "1            0    Unknown  Unknown  \n",
       "2            0    Unknown  Unknown  \n",
       "3            0      Japan   Nagoya  \n",
       "4            0  Australia   Sydney  "
      ]
     },
     "execution_count": 22,
     "metadata": {},
     "output_type": "execute_result"
    }
   ],
   "source": [
    "df.head()"
   ]
  },
  {
   "cell_type": "code",
   "execution_count": 23,
   "metadata": {},
   "outputs": [],
   "source": [
    "df.to_csv('new_ad_data.csv',index=False)"
   ]
  },
  {
   "cell_type": "code",
   "execution_count": null,
   "metadata": {},
   "outputs": [],
   "source": []
  }
 ],
 "metadata": {
  "kernelspec": {
   "display_name": "Python 3",
   "language": "python",
   "name": "python3"
  },
  "language_info": {
   "codemirror_mode": {
    "name": "ipython",
    "version": 3
   },
   "file_extension": ".py",
   "mimetype": "text/x-python",
   "name": "python",
   "nbconvert_exporter": "python",
   "pygments_lexer": "ipython3",
   "version": "3.6.6"
  }
 },
 "nbformat": 4,
 "nbformat_minor": 2
}
