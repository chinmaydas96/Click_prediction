{
 "cells": [
  {
   "cell_type": "code",
   "execution_count": 1,
   "metadata": {},
   "outputs": [],
   "source": [
    "import pandas as pd\n",
    "import numpy as np\n",
    "\n",
    "import matplotlib.pyplot as plt\n",
    "import seaborn as sns\n",
    "plt.style.use('seaborn-white')\n",
    "%matplotlib inline"
   ]
  },
  {
   "cell_type": "code",
   "execution_count": 2,
   "metadata": {},
   "outputs": [],
   "source": [
    "#import os\n",
    "#os.chdir('/Users/smarcos/Downloads/')\n"
   ]
  },
  {
   "cell_type": "code",
   "execution_count": 3,
   "metadata": {},
   "outputs": [],
   "source": [
    "df = pd.read_csv('ad_data.csv')"
   ]
  },
  {
   "cell_type": "code",
   "execution_count": 4,
   "metadata": {},
   "outputs": [
    {
     "data": {
      "text/html": [
       "<div>\n",
       "<style scoped>\n",
       "    .dataframe tbody tr th:only-of-type {\n",
       "        vertical-align: middle;\n",
       "    }\n",
       "\n",
       "    .dataframe tbody tr th {\n",
       "        vertical-align: top;\n",
       "    }\n",
       "\n",
       "    .dataframe thead th {\n",
       "        text-align: right;\n",
       "    }\n",
       "</style>\n",
       "<table border=\"1\" class=\"dataframe\">\n",
       "  <thead>\n",
       "    <tr style=\"text-align: right;\">\n",
       "      <th></th>\n",
       "      <th>click_status</th>\n",
       "      <th>AMP_timestamp</th>\n",
       "      <th>Query Term</th>\n",
       "      <th>IP Address</th>\n",
       "      <th>User Agent</th>\n",
       "      <th>Cost Per Click</th>\n",
       "      <th>Conversions</th>\n",
       "    </tr>\n",
       "  </thead>\n",
       "  <tbody>\n",
       "    <tr>\n",
       "      <th>0</th>\n",
       "      <td>1</td>\n",
       "      <td>29/01/15 11:00</td>\n",
       "      <td>[\"michael kors\",\"michael michael kors\"]</td>\n",
       "      <td>2.118.171.21</td>\n",
       "      <td>Mozilla/5.0 (iPad; CPU OS 8_1 like Mac OS X) A...</td>\n",
       "      <td>$ .28</td>\n",
       "      <td>0</td>\n",
       "    </tr>\n",
       "    <tr>\n",
       "      <th>1</th>\n",
       "      <td>1</td>\n",
       "      <td>29/01/15 11:00</td>\n",
       "      <td>[\"meet girls\",\"dating girls\"]</td>\n",
       "      <td>0.82.173.102</td>\n",
       "      <td>Mozilla/5.0 (Windows NT 5.1; rv:35.0) Gecko/20...</td>\n",
       "      <td>$ .17</td>\n",
       "      <td>0</td>\n",
       "    </tr>\n",
       "    <tr>\n",
       "      <th>2</th>\n",
       "      <td>1</td>\n",
       "      <td>29/01/15 11:00</td>\n",
       "      <td>[\"meet girls\",\"dating girls\"]</td>\n",
       "      <td>0.82.173.102</td>\n",
       "      <td>Mozilla/5.0 (Windows NT 5.1; rv:35.0) Gecko/20...</td>\n",
       "      <td>$ .17</td>\n",
       "      <td>0</td>\n",
       "    </tr>\n",
       "    <tr>\n",
       "      <th>3</th>\n",
       "      <td>1</td>\n",
       "      <td>29/01/15 11:00</td>\n",
       "      <td>[\"credit report\",\"credit karma\",\"free online c...</td>\n",
       "      <td>219.32.49.92</td>\n",
       "      <td>Mozilla/5.0 (Windows NT 6.3; WOW64) AppleWebKi...</td>\n",
       "      <td>$ .90</td>\n",
       "      <td>0</td>\n",
       "    </tr>\n",
       "    <tr>\n",
       "      <th>4</th>\n",
       "      <td>1</td>\n",
       "      <td>29/01/15 11:00</td>\n",
       "      <td>[\"Byethost\"]</td>\n",
       "      <td>13.54.12.142</td>\n",
       "      <td>Mozilla/4.0 (compatible; MSIE 7.0; Windows NT ...</td>\n",
       "      <td>$ .17</td>\n",
       "      <td>0</td>\n",
       "    </tr>\n",
       "  </tbody>\n",
       "</table>\n",
       "</div>"
      ],
      "text/plain": [
       "   click_status   AMP_timestamp  \\\n",
       "0             1  29/01/15 11:00   \n",
       "1             1  29/01/15 11:00   \n",
       "2             1  29/01/15 11:00   \n",
       "3             1  29/01/15 11:00   \n",
       "4             1  29/01/15 11:00   \n",
       "\n",
       "                                         Query Term     IP Address  \\\n",
       "0            [\"michael kors\",\"michael michael kors\"]  2.118.171.21   \n",
       "1                      [\"meet girls\",\"dating girls\"]  0.82.173.102   \n",
       "2                      [\"meet girls\",\"dating girls\"]  0.82.173.102   \n",
       "3  [\"credit report\",\"credit karma\",\"free online c...  219.32.49.92   \n",
       "4                                       [\"Byethost\"]  13.54.12.142   \n",
       "\n",
       "                                          User Agent Cost Per Click   \\\n",
       "0  Mozilla/5.0 (iPad; CPU OS 8_1 like Mac OS X) A...           $ .28   \n",
       "1  Mozilla/5.0 (Windows NT 5.1; rv:35.0) Gecko/20...           $ .17   \n",
       "2  Mozilla/5.0 (Windows NT 5.1; rv:35.0) Gecko/20...           $ .17   \n",
       "3  Mozilla/5.0 (Windows NT 6.3; WOW64) AppleWebKi...           $ .90   \n",
       "4  Mozilla/4.0 (compatible; MSIE 7.0; Windows NT ...           $ .17   \n",
       "\n",
       "   Conversions  \n",
       "0            0  \n",
       "1            0  \n",
       "2            0  \n",
       "3            0  \n",
       "4            0  "
      ]
     },
     "execution_count": 4,
     "metadata": {},
     "output_type": "execute_result"
    }
   ],
   "source": [
    "df.head()"
   ]
  },
  {
   "cell_type": "code",
   "execution_count": 5,
   "metadata": {},
   "outputs": [
    {
     "name": "stdout",
     "output_type": "stream",
     "text": [
      "<class 'pandas.core.frame.DataFrame'>\n",
      "RangeIndex: 10103 entries, 0 to 10102\n",
      "Data columns (total 7 columns):\n",
      "click_status       10103 non-null int64\n",
      "AMP_timestamp      10103 non-null object\n",
      "Query Term         10103 non-null object\n",
      "IP Address         10103 non-null object\n",
      "User Agent         10103 non-null object\n",
      "Cost Per Click     10103 non-null object\n",
      "Conversions        10103 non-null int64\n",
      "dtypes: int64(2), object(5)\n",
      "memory usage: 552.6+ KB\n"
     ]
    }
   ],
   "source": [
    "df.info()"
   ]
  },
  {
   "cell_type": "markdown",
   "metadata": {},
   "source": [
    "2. Clean data\n",
    "Noticed the dataset has 7 columns without missing values. In this section, I am going to clean all columns and create new features for further analysis.\n",
    "\n",
    "Steps:\n",
    "\n",
    "Check NaN values and column names\n",
    "Clean click_status\n",
    "Clean AMP_timestamp\n",
    "Clean query_terms\n",
    "Clean cost_per_click"
   ]
  },
  {
   "cell_type": "code",
   "execution_count": 6,
   "metadata": {},
   "outputs": [
    {
     "data": {
      "text/html": [
       "<div>\n",
       "<style scoped>\n",
       "    .dataframe tbody tr th:only-of-type {\n",
       "        vertical-align: middle;\n",
       "    }\n",
       "\n",
       "    .dataframe tbody tr th {\n",
       "        vertical-align: top;\n",
       "    }\n",
       "\n",
       "    .dataframe thead th {\n",
       "        text-align: right;\n",
       "    }\n",
       "</style>\n",
       "<table border=\"1\" class=\"dataframe\">\n",
       "  <thead>\n",
       "    <tr style=\"text-align: right;\">\n",
       "      <th></th>\n",
       "      <th>click_status</th>\n",
       "      <th>AMP_timestamp</th>\n",
       "      <th>Query Term</th>\n",
       "      <th>IP Address</th>\n",
       "      <th>User Agent</th>\n",
       "      <th>Cost Per Click</th>\n",
       "      <th>Conversions</th>\n",
       "    </tr>\n",
       "  </thead>\n",
       "  <tbody>\n",
       "  </tbody>\n",
       "</table>\n",
       "</div>"
      ],
      "text/plain": [
       "Empty DataFrame\n",
       "Columns: [click_status, AMP_timestamp, Query Term , IP Address, User Agent, Cost Per Click , Conversions]\n",
       "Index: []"
      ]
     },
     "execution_count": 6,
     "metadata": {},
     "output_type": "execute_result"
    }
   ],
   "source": [
    "# 1. Double check NaN values and rename column names\n",
    "# Check missing values - no NaN values\n",
    "df[df.isnull().any(axis=1)]"
   ]
  },
  {
   "cell_type": "code",
   "execution_count": 7,
   "metadata": {},
   "outputs": [
    {
     "data": {
      "text/plain": [
       "Index(['click_status', 'AMP_timestamp', 'Query Term ', 'IP Address',\n",
       "       'User Agent', 'Cost Per Click ', 'Conversions'],\n",
       "      dtype='object')"
      ]
     },
     "execution_count": 7,
     "metadata": {},
     "output_type": "execute_result"
    }
   ],
   "source": [
    "df.columns"
   ]
  },
  {
   "cell_type": "code",
   "execution_count": 8,
   "metadata": {},
   "outputs": [],
   "source": [
    "#Index([u'click_status', u'AMP_timestamp', u'Query Term ', u'IP Address',\n",
    "#       u'Cost Per Click ', u'Conversions', u'User', u'Device'],\n",
    "#      dtype='object')"
   ]
  },
  {
   "cell_type": "code",
   "execution_count": 9,
   "metadata": {},
   "outputs": [],
   "source": [
    "# rename columns with extra space\n",
    "df.columns = ['click_status','AMP_timestamp','query_term','IP_address','user','cost_per_click','conversions']\n"
   ]
  },
  {
   "cell_type": "code",
   "execution_count": 10,
   "metadata": {},
   "outputs": [
    {
     "data": {
      "text/html": [
       "<div>\n",
       "<style scoped>\n",
       "    .dataframe tbody tr th:only-of-type {\n",
       "        vertical-align: middle;\n",
       "    }\n",
       "\n",
       "    .dataframe tbody tr th {\n",
       "        vertical-align: top;\n",
       "    }\n",
       "\n",
       "    .dataframe thead th {\n",
       "        text-align: right;\n",
       "    }\n",
       "</style>\n",
       "<table border=\"1\" class=\"dataframe\">\n",
       "  <thead>\n",
       "    <tr style=\"text-align: right;\">\n",
       "      <th></th>\n",
       "      <th>click_status</th>\n",
       "      <th>AMP_timestamp</th>\n",
       "      <th>query_term</th>\n",
       "      <th>IP_address</th>\n",
       "      <th>user</th>\n",
       "      <th>cost_per_click</th>\n",
       "      <th>conversions</th>\n",
       "    </tr>\n",
       "  </thead>\n",
       "  <tbody>\n",
       "    <tr>\n",
       "      <th>0</th>\n",
       "      <td>1</td>\n",
       "      <td>29/01/15 11:00</td>\n",
       "      <td>[\"michael kors\",\"michael michael kors\"]</td>\n",
       "      <td>2.118.171.21</td>\n",
       "      <td>Mozilla/5.0 (iPad; CPU OS 8_1 like Mac OS X) A...</td>\n",
       "      <td>$ .28</td>\n",
       "      <td>0</td>\n",
       "    </tr>\n",
       "    <tr>\n",
       "      <th>1</th>\n",
       "      <td>1</td>\n",
       "      <td>29/01/15 11:00</td>\n",
       "      <td>[\"meet girls\",\"dating girls\"]</td>\n",
       "      <td>0.82.173.102</td>\n",
       "      <td>Mozilla/5.0 (Windows NT 5.1; rv:35.0) Gecko/20...</td>\n",
       "      <td>$ .17</td>\n",
       "      <td>0</td>\n",
       "    </tr>\n",
       "    <tr>\n",
       "      <th>2</th>\n",
       "      <td>1</td>\n",
       "      <td>29/01/15 11:00</td>\n",
       "      <td>[\"meet girls\",\"dating girls\"]</td>\n",
       "      <td>0.82.173.102</td>\n",
       "      <td>Mozilla/5.0 (Windows NT 5.1; rv:35.0) Gecko/20...</td>\n",
       "      <td>$ .17</td>\n",
       "      <td>0</td>\n",
       "    </tr>\n",
       "    <tr>\n",
       "      <th>3</th>\n",
       "      <td>1</td>\n",
       "      <td>29/01/15 11:00</td>\n",
       "      <td>[\"credit report\",\"credit karma\",\"free online c...</td>\n",
       "      <td>219.32.49.92</td>\n",
       "      <td>Mozilla/5.0 (Windows NT 6.3; WOW64) AppleWebKi...</td>\n",
       "      <td>$ .90</td>\n",
       "      <td>0</td>\n",
       "    </tr>\n",
       "    <tr>\n",
       "      <th>4</th>\n",
       "      <td>1</td>\n",
       "      <td>29/01/15 11:00</td>\n",
       "      <td>[\"Byethost\"]</td>\n",
       "      <td>13.54.12.142</td>\n",
       "      <td>Mozilla/4.0 (compatible; MSIE 7.0; Windows NT ...</td>\n",
       "      <td>$ .17</td>\n",
       "      <td>0</td>\n",
       "    </tr>\n",
       "  </tbody>\n",
       "</table>\n",
       "</div>"
      ],
      "text/plain": [
       "   click_status   AMP_timestamp  \\\n",
       "0             1  29/01/15 11:00   \n",
       "1             1  29/01/15 11:00   \n",
       "2             1  29/01/15 11:00   \n",
       "3             1  29/01/15 11:00   \n",
       "4             1  29/01/15 11:00   \n",
       "\n",
       "                                          query_term    IP_address  \\\n",
       "0            [\"michael kors\",\"michael michael kors\"]  2.118.171.21   \n",
       "1                      [\"meet girls\",\"dating girls\"]  0.82.173.102   \n",
       "2                      [\"meet girls\",\"dating girls\"]  0.82.173.102   \n",
       "3  [\"credit report\",\"credit karma\",\"free online c...  219.32.49.92   \n",
       "4                                       [\"Byethost\"]  13.54.12.142   \n",
       "\n",
       "                                                user cost_per_click  \\\n",
       "0  Mozilla/5.0 (iPad; CPU OS 8_1 like Mac OS X) A...          $ .28   \n",
       "1  Mozilla/5.0 (Windows NT 5.1; rv:35.0) Gecko/20...          $ .17   \n",
       "2  Mozilla/5.0 (Windows NT 5.1; rv:35.0) Gecko/20...          $ .17   \n",
       "3  Mozilla/5.0 (Windows NT 6.3; WOW64) AppleWebKi...          $ .90   \n",
       "4  Mozilla/4.0 (compatible; MSIE 7.0; Windows NT ...          $ .17   \n",
       "\n",
       "   conversions  \n",
       "0            0  \n",
       "1            0  \n",
       "2            0  \n",
       "3            0  \n",
       "4            0  "
      ]
     },
     "execution_count": 10,
     "metadata": {},
     "output_type": "execute_result"
    }
   ],
   "source": [
    "df.head()"
   ]
  },
  {
   "cell_type": "code",
   "execution_count": 11,
   "metadata": {},
   "outputs": [],
   "source": [
    "import re\n",
    "user_data =df['user'].tolist()\n",
    "\n",
    "devices = []\n",
    "for i in user_data:\n",
    "    devices.append(re.sub(r'[^ a-zA-Z]',\"\",i).split()[1])\n",
    "df['devices'] = devices    "
   ]
  },
  {
   "cell_type": "code",
   "execution_count": 12,
   "metadata": {},
   "outputs": [
    {
     "data": {
      "text/plain": [
       "10103"
      ]
     },
     "execution_count": 12,
     "metadata": {},
     "output_type": "execute_result"
    }
   ],
   "source": [
    "len(devices)"
   ]
  },
  {
   "cell_type": "code",
   "execution_count": 13,
   "metadata": {},
   "outputs": [],
   "source": [
    "#2. Clean click_status : click_status 1 = valid click, 0 = invalidated click\n",
    "df.click_status = df.click_status.map(lambda x: 1 if x == 1 else 0)"
   ]
  },
  {
   "cell_type": "markdown",
   "metadata": {},
   "source": [
    "3. Clean AMP_timestamp\n",
    "Extract date and hour\n",
    "Timestamp ranges from 1/29/15 11:00 - 1/29/15 15:59"
   ]
  },
  {
   "cell_type": "code",
   "execution_count": 14,
   "metadata": {},
   "outputs": [],
   "source": [
    "df['date'] = df.AMP_timestamp.map(lambda x: x[:7])\n",
    "df['hour'] = df.AMP_timestamp.map(lambda x: int(x[8:11]))"
   ]
  },
  {
   "cell_type": "code",
   "execution_count": 15,
   "metadata": {},
   "outputs": [
    {
     "name": "stdout",
     "output_type": "stream",
     "text": [
      "max hour:  15\n",
      "min hour:  11\n"
     ]
    }
   ],
   "source": [
    "print ('max hour: ', df['hour'].max())\n",
    "print ('min hour: ', df['hour'].min())"
   ]
  },
  {
   "cell_type": "code",
   "execution_count": 16,
   "metadata": {},
   "outputs": [
    {
     "data": {
      "text/html": [
       "<div>\n",
       "<style scoped>\n",
       "    .dataframe tbody tr th:only-of-type {\n",
       "        vertical-align: middle;\n",
       "    }\n",
       "\n",
       "    .dataframe tbody tr th {\n",
       "        vertical-align: top;\n",
       "    }\n",
       "\n",
       "    .dataframe thead th {\n",
       "        text-align: right;\n",
       "    }\n",
       "</style>\n",
       "<table border=\"1\" class=\"dataframe\">\n",
       "  <thead>\n",
       "    <tr style=\"text-align: right;\">\n",
       "      <th></th>\n",
       "      <th>click_status</th>\n",
       "      <th>AMP_timestamp</th>\n",
       "      <th>query_term</th>\n",
       "      <th>IP_address</th>\n",
       "      <th>user</th>\n",
       "      <th>cost_per_click</th>\n",
       "      <th>conversions</th>\n",
       "      <th>devices</th>\n",
       "      <th>date</th>\n",
       "      <th>hour</th>\n",
       "    </tr>\n",
       "  </thead>\n",
       "  <tbody>\n",
       "    <tr>\n",
       "      <th>0</th>\n",
       "      <td>1</td>\n",
       "      <td>29/01/15 11:00</td>\n",
       "      <td>[\"michael kors\",\"michael michael kors\"]</td>\n",
       "      <td>2.118.171.21</td>\n",
       "      <td>Mozilla/5.0 (iPad; CPU OS 8_1 like Mac OS X) A...</td>\n",
       "      <td>$ .28</td>\n",
       "      <td>0</td>\n",
       "      <td>iPad</td>\n",
       "      <td>29/01/1</td>\n",
       "      <td>11</td>\n",
       "    </tr>\n",
       "    <tr>\n",
       "      <th>1</th>\n",
       "      <td>1</td>\n",
       "      <td>29/01/15 11:00</td>\n",
       "      <td>[\"meet girls\",\"dating girls\"]</td>\n",
       "      <td>0.82.173.102</td>\n",
       "      <td>Mozilla/5.0 (Windows NT 5.1; rv:35.0) Gecko/20...</td>\n",
       "      <td>$ .17</td>\n",
       "      <td>0</td>\n",
       "      <td>Windows</td>\n",
       "      <td>29/01/1</td>\n",
       "      <td>11</td>\n",
       "    </tr>\n",
       "    <tr>\n",
       "      <th>2</th>\n",
       "      <td>1</td>\n",
       "      <td>29/01/15 11:00</td>\n",
       "      <td>[\"meet girls\",\"dating girls\"]</td>\n",
       "      <td>0.82.173.102</td>\n",
       "      <td>Mozilla/5.0 (Windows NT 5.1; rv:35.0) Gecko/20...</td>\n",
       "      <td>$ .17</td>\n",
       "      <td>0</td>\n",
       "      <td>Windows</td>\n",
       "      <td>29/01/1</td>\n",
       "      <td>11</td>\n",
       "    </tr>\n",
       "    <tr>\n",
       "      <th>3</th>\n",
       "      <td>1</td>\n",
       "      <td>29/01/15 11:00</td>\n",
       "      <td>[\"credit report\",\"credit karma\",\"free online c...</td>\n",
       "      <td>219.32.49.92</td>\n",
       "      <td>Mozilla/5.0 (Windows NT 6.3; WOW64) AppleWebKi...</td>\n",
       "      <td>$ .90</td>\n",
       "      <td>0</td>\n",
       "      <td>Windows</td>\n",
       "      <td>29/01/1</td>\n",
       "      <td>11</td>\n",
       "    </tr>\n",
       "    <tr>\n",
       "      <th>4</th>\n",
       "      <td>1</td>\n",
       "      <td>29/01/15 11:00</td>\n",
       "      <td>[\"Byethost\"]</td>\n",
       "      <td>13.54.12.142</td>\n",
       "      <td>Mozilla/4.0 (compatible; MSIE 7.0; Windows NT ...</td>\n",
       "      <td>$ .17</td>\n",
       "      <td>0</td>\n",
       "      <td>compatible</td>\n",
       "      <td>29/01/1</td>\n",
       "      <td>11</td>\n",
       "    </tr>\n",
       "  </tbody>\n",
       "</table>\n",
       "</div>"
      ],
      "text/plain": [
       "   click_status   AMP_timestamp  \\\n",
       "0             1  29/01/15 11:00   \n",
       "1             1  29/01/15 11:00   \n",
       "2             1  29/01/15 11:00   \n",
       "3             1  29/01/15 11:00   \n",
       "4             1  29/01/15 11:00   \n",
       "\n",
       "                                          query_term    IP_address  \\\n",
       "0            [\"michael kors\",\"michael michael kors\"]  2.118.171.21   \n",
       "1                      [\"meet girls\",\"dating girls\"]  0.82.173.102   \n",
       "2                      [\"meet girls\",\"dating girls\"]  0.82.173.102   \n",
       "3  [\"credit report\",\"credit karma\",\"free online c...  219.32.49.92   \n",
       "4                                       [\"Byethost\"]  13.54.12.142   \n",
       "\n",
       "                                                user cost_per_click  \\\n",
       "0  Mozilla/5.0 (iPad; CPU OS 8_1 like Mac OS X) A...          $ .28   \n",
       "1  Mozilla/5.0 (Windows NT 5.1; rv:35.0) Gecko/20...          $ .17   \n",
       "2  Mozilla/5.0 (Windows NT 5.1; rv:35.0) Gecko/20...          $ .17   \n",
       "3  Mozilla/5.0 (Windows NT 6.3; WOW64) AppleWebKi...          $ .90   \n",
       "4  Mozilla/4.0 (compatible; MSIE 7.0; Windows NT ...          $ .17   \n",
       "\n",
       "   conversions     devices     date  hour  \n",
       "0            0        iPad  29/01/1    11  \n",
       "1            0     Windows  29/01/1    11  \n",
       "2            0     Windows  29/01/1    11  \n",
       "3            0     Windows  29/01/1    11  \n",
       "4            0  compatible  29/01/1    11  "
      ]
     },
     "execution_count": 16,
     "metadata": {},
     "output_type": "execute_result"
    }
   ],
   "source": [
    "df.head()"
   ]
  },
  {
   "cell_type": "code",
   "execution_count": 17,
   "metadata": {},
   "outputs": [],
   "source": [
    "#max hour:  15\n",
    "#min hour:  11"
   ]
  },
  {
   "cell_type": "markdown",
   "metadata": {},
   "source": [
    "4. Clean Query Term\n",
    "3 query terms related to car loans appeared on the top\n",
    "The # of query terms ranges from 1 to 7"
   ]
  },
  {
   "cell_type": "code",
   "execution_count": 18,
   "metadata": {},
   "outputs": [
    {
     "data": {
      "text/plain": [
       "[\"car title loans\",\"loan quotes\",\"car financing\"]                                  317\n",
       "[\"car title loans\",\"loan quotes\",\"car finance calculator\"]                         313\n",
       "[\"car title loans\",\"loan quotes\",\"new car payment\"]                                290\n",
       "[\"Byethost\"]                                                                       268\n",
       "[\"edu online info\",\"degree programs\",\"online degree program\"]                      176\n",
       "[\"Naver.com\"]                                                                      111\n",
       "[\"ron\"]                                                                            106\n",
       "[\"apartments for rent vancouver craigslist\",\"craigslist used cars\",\"personals\"]     88\n",
       "[\"force download\",\"youtuby\",\"youtube org\"]                                          87\n",
       "[\"apricot complex\"]                                                                 85\n",
       "Name: query_term, dtype: int64"
      ]
     },
     "execution_count": 18,
     "metadata": {},
     "output_type": "execute_result"
    }
   ],
   "source": [
    "df.query_term.value_counts().head(10)"
   ]
  },
  {
   "cell_type": "code",
   "execution_count": 19,
   "metadata": {},
   "outputs": [
    {
     "data": {
      "text/plain": [
       "'\\n[\"car title loans\",\"loan quotes\",\"car financing\"]                                  317\\n[\"car title loans\",\"loan quotes\",\"car finance calculator\"]                         313\\n[\"car title loans\",\"loan quotes\",\"new car payment\"]                                290\\n[\"Byethost\"]                                                                       268\\n[\"edu online info\",\"degree programs\",\"online degree program\"]                      176\\n[\"Naver.com\"]                                                                      111\\n[\"ron\"]                                                                            106\\n[\"apartments for rent vancouver craigslist\",\"craigslist used cars\",\"personals\"]     88\\n[\"force download\",\"youtuby\",\"youtube org\"]                                          87\\n[\"apricot complex\"]                                                                 85\\nName: query_term, dtype: int64\\n'"
      ]
     },
     "execution_count": 19,
     "metadata": {},
     "output_type": "execute_result"
    }
   ],
   "source": [
    "'''\n",
    "[\"car title loans\",\"loan quotes\",\"car financing\"]                                  317\n",
    "[\"car title loans\",\"loan quotes\",\"car finance calculator\"]                         313\n",
    "[\"car title loans\",\"loan quotes\",\"new car payment\"]                                290\n",
    "[\"Byethost\"]                                                                       268\n",
    "[\"edu online info\",\"degree programs\",\"online degree program\"]                      176\n",
    "[\"Naver.com\"]                                                                      111\n",
    "[\"ron\"]                                                                            106\n",
    "[\"apartments for rent vancouver craigslist\",\"craigslist used cars\",\"personals\"]     88\n",
    "[\"force download\",\"youtuby\",\"youtube org\"]                                          87\n",
    "[\"apricot complex\"]                                                                 85\n",
    "Name: query_term, dtype: int64\n",
    "'''"
   ]
  },
  {
   "cell_type": "code",
   "execution_count": 20,
   "metadata": {},
   "outputs": [],
   "source": [
    "# Create a new column that stores query terms as a list\n",
    "df['query_term_list'] = df.query_term.map(lambda x: x.strip('[').strip(']').replace('\"','').split(','))"
   ]
  },
  {
   "cell_type": "code",
   "execution_count": 21,
   "metadata": {},
   "outputs": [],
   "source": [
    "# Create a new column that indicates the length of the query terms list\n",
    "df['len_query_term_list'] = df['query_term_list'].map(lambda x: len(x))\n"
   ]
  },
  {
   "cell_type": "code",
   "execution_count": 22,
   "metadata": {},
   "outputs": [
    {
     "data": {
      "text/plain": [
       "3    4908\n",
       "1    4016\n",
       "2     826\n",
       "4     139\n",
       "5     122\n",
       "6      91\n",
       "7       1\n",
       "Name: len_query_term_list, dtype: int64"
      ]
     },
     "execution_count": 22,
     "metadata": {},
     "output_type": "execute_result"
    }
   ],
   "source": [
    "df['len_query_term_list'].value_counts()"
   ]
  },
  {
   "cell_type": "markdown",
   "metadata": {},
   "source": [
    "5. Clean cost_per_click and converstions"
   ]
  },
  {
   "cell_type": "code",
   "execution_count": 23,
   "metadata": {},
   "outputs": [],
   "source": [
    "df.cost_per_click = df.cost_per_click.map(lambda x: float(x.strip('$ ')))"
   ]
  },
  {
   "cell_type": "code",
   "execution_count": 24,
   "metadata": {},
   "outputs": [
    {
     "data": {
      "text/plain": [
       "0     8719\n",
       "2      814\n",
       "1      431\n",
       "3       68\n",
       "4       56\n",
       "6        6\n",
       "5        6\n",
       "9        2\n",
       "13       1\n",
       "Name: conversions, dtype: int64"
      ]
     },
     "execution_count": 24,
     "metadata": {},
     "output_type": "execute_result"
    }
   ],
   "source": [
    "df.conversions.value_counts()"
   ]
  },
  {
   "cell_type": "markdown",
   "metadata": {},
   "source": [
    "3. Analysis"
   ]
  },
  {
   "cell_type": "markdown",
   "metadata": {},
   "source": [
    "* High level trends\n",
    "* Valid click rate at 86%\n",
    "* Avg. CPC for valid clicks at 37%\n",
    "* Total spending for valid clicks 3,287\n",
    "* Conversion rate 15.8%"
   ]
  },
  {
   "cell_type": "code",
   "execution_count": 25,
   "metadata": {},
   "outputs": [],
   "source": [
    "df_1 = df[df.click_status == 1]\n",
    "df_0 = df[df.click_status == 0]"
   ]
  },
  {
   "cell_type": "code",
   "execution_count": 26,
   "metadata": {},
   "outputs": [
    {
     "data": {
      "text/plain": [
       "0.8624171038305454"
      ]
     },
     "execution_count": 26,
     "metadata": {},
     "output_type": "execute_result"
    }
   ],
   "source": [
    "# Valid click rate\n",
    "len(df_1) / float(len(df))\n",
    "\n",
    "\n",
    "# results --- 0.8624171038305454\n"
   ]
  },
  {
   "cell_type": "code",
   "execution_count": 27,
   "metadata": {},
   "outputs": [
    {
     "data": {
      "text/plain": [
       "0.3773258349592622"
      ]
     },
     "execution_count": 27,
     "metadata": {},
     "output_type": "execute_result"
    }
   ],
   "source": [
    "# Avg CPC for valid clicks\n",
    "df_1.cost_per_click.mean()\n",
    "\n",
    "# results --- 0.3773258349592622"
   ]
  },
  {
   "cell_type": "code",
   "execution_count": 28,
   "metadata": {},
   "outputs": [
    {
     "data": {
      "text/plain": [
       "3287.64"
      ]
     },
     "execution_count": 28,
     "metadata": {},
     "output_type": "execute_result"
    }
   ],
   "source": [
    "# Total spending for valid clicks\n",
    "df_1.cost_per_click.sum()\n",
    "\n",
    "# results --- 3287.6400000000517"
   ]
  },
  {
   "cell_type": "code",
   "execution_count": 29,
   "metadata": {},
   "outputs": [
    {
     "data": {
      "text/plain": [
       "0.1588431079995409"
      ]
     },
     "execution_count": 29,
     "metadata": {},
     "output_type": "execute_result"
    }
   ],
   "source": [
    "# Conversion rate for valid clicks\n",
    "len(df[df.conversions!=0])/float(len(df_1))\n",
    "\n",
    "# results --- 0.1588431079995409"
   ]
  },
  {
   "cell_type": "markdown",
   "metadata": {},
   "source": [
    "2. For clicks with status = 1:\n",
    "Identify the top spending query term and the average cost per click\n",
    "Identify the top converting IP addresses"
   ]
  },
  {
   "cell_type": "code",
   "execution_count": 30,
   "metadata": {},
   "outputs": [
    {
     "data": {
      "text/html": [
       "<div>\n",
       "<style scoped>\n",
       "    .dataframe tbody tr th:only-of-type {\n",
       "        vertical-align: middle;\n",
       "    }\n",
       "\n",
       "    .dataframe tbody tr th {\n",
       "        vertical-align: top;\n",
       "    }\n",
       "\n",
       "    .dataframe thead tr th {\n",
       "        text-align: left;\n",
       "    }\n",
       "\n",
       "    .dataframe thead tr:last-of-type th {\n",
       "        text-align: right;\n",
       "    }\n",
       "</style>\n",
       "<table border=\"1\" class=\"dataframe\">\n",
       "  <thead>\n",
       "    <tr>\n",
       "      <th></th>\n",
       "      <th colspan=\"2\" halign=\"left\">sum</th>\n",
       "      <th>avg</th>\n",
       "    </tr>\n",
       "    <tr>\n",
       "      <th></th>\n",
       "      <th>click_status</th>\n",
       "      <th>cost_per_click</th>\n",
       "      <th>cost_per_click</th>\n",
       "    </tr>\n",
       "    <tr>\n",
       "      <th>query_term</th>\n",
       "      <th></th>\n",
       "      <th></th>\n",
       "      <th></th>\n",
       "    </tr>\n",
       "  </thead>\n",
       "  <tbody>\n",
       "    <tr>\n",
       "      <th>[\"car title loans\",\"loan quotes\",\"car financing\"]</th>\n",
       "      <td>295</td>\n",
       "      <td>356.30</td>\n",
       "      <td>1.207797</td>\n",
       "    </tr>\n",
       "    <tr>\n",
       "      <th>[\"car title loans\",\"loan quotes\",\"car finance calculator\"]</th>\n",
       "      <td>296</td>\n",
       "      <td>354.83</td>\n",
       "      <td>1.198750</td>\n",
       "    </tr>\n",
       "    <tr>\n",
       "      <th>[\"car title loans\",\"loan quotes\",\"new car payment\"]</th>\n",
       "      <td>270</td>\n",
       "      <td>337.67</td>\n",
       "      <td>1.250630</td>\n",
       "    </tr>\n",
       "    <tr>\n",
       "      <th>[\"apartments for rent vancouver craigslist\",\"craigslist used cars\",\"personals\"]</th>\n",
       "      <td>81</td>\n",
       "      <td>97.11</td>\n",
       "      <td>1.198889</td>\n",
       "    </tr>\n",
       "    <tr>\n",
       "      <th>[\"turbo tax\"]</th>\n",
       "      <td>38</td>\n",
       "      <td>90.42</td>\n",
       "      <td>2.379474</td>\n",
       "    </tr>\n",
       "    <tr>\n",
       "      <th>[\"sprint wireless\",\"sprint mobile\",\"sprint\",\"sprint wireless phones\",\"cell phone\",\"smartphone\"]</th>\n",
       "      <td>27</td>\n",
       "      <td>61.54</td>\n",
       "      <td>2.279259</td>\n",
       "    </tr>\n",
       "    <tr>\n",
       "      <th>[\"edu online info\",\"degree programs\",\"online degree program\"]</th>\n",
       "      <td>174</td>\n",
       "      <td>38.19</td>\n",
       "      <td>0.219483</td>\n",
       "    </tr>\n",
       "    <tr>\n",
       "      <th>[\"autotrader\",\"autotrade\",\"car website\"]</th>\n",
       "      <td>33</td>\n",
       "      <td>36.04</td>\n",
       "      <td>1.092121</td>\n",
       "    </tr>\n",
       "    <tr>\n",
       "      <th>[\"turbo tax\",\"turbotax\",\"intuit turbotax\"]</th>\n",
       "      <td>4</td>\n",
       "      <td>35.51</td>\n",
       "      <td>8.877500</td>\n",
       "    </tr>\n",
       "    <tr>\n",
       "      <th>[\"Byethost\"]</th>\n",
       "      <td>191</td>\n",
       "      <td>32.47</td>\n",
       "      <td>0.170000</td>\n",
       "    </tr>\n",
       "  </tbody>\n",
       "</table>\n",
       "</div>"
      ],
      "text/plain": [
       "                                                            sum  \\\n",
       "                                                   click_status   \n",
       "query_term                                                        \n",
       "[\"car title loans\",\"loan quotes\",\"car financing\"]           295   \n",
       "[\"car title loans\",\"loan quotes\",\"car finance c...          296   \n",
       "[\"car title loans\",\"loan quotes\",\"new car payme...          270   \n",
       "[\"apartments for rent vancouver craigslist\",\"cr...           81   \n",
       "[\"turbo tax\"]                                                38   \n",
       "[\"sprint wireless\",\"sprint mobile\",\"sprint\",\"sp...           27   \n",
       "[\"edu online info\",\"degree programs\",\"online de...          174   \n",
       "[\"autotrader\",\"autotrade\",\"car website\"]                     33   \n",
       "[\"turbo tax\",\"turbotax\",\"intuit turbotax\"]                    4   \n",
       "[\"Byethost\"]                                                191   \n",
       "\n",
       "                                                                   \\\n",
       "                                                   cost_per_click   \n",
       "query_term                                                          \n",
       "[\"car title loans\",\"loan quotes\",\"car financing\"]          356.30   \n",
       "[\"car title loans\",\"loan quotes\",\"car finance c...         354.83   \n",
       "[\"car title loans\",\"loan quotes\",\"new car payme...         337.67   \n",
       "[\"apartments for rent vancouver craigslist\",\"cr...          97.11   \n",
       "[\"turbo tax\"]                                               90.42   \n",
       "[\"sprint wireless\",\"sprint mobile\",\"sprint\",\"sp...          61.54   \n",
       "[\"edu online info\",\"degree programs\",\"online de...          38.19   \n",
       "[\"autotrader\",\"autotrade\",\"car website\"]                    36.04   \n",
       "[\"turbo tax\",\"turbotax\",\"intuit turbotax\"]                  35.51   \n",
       "[\"Byethost\"]                                                32.47   \n",
       "\n",
       "                                                              avg  \n",
       "                                                   cost_per_click  \n",
       "query_term                                                         \n",
       "[\"car title loans\",\"loan quotes\",\"car financing\"]        1.207797  \n",
       "[\"car title loans\",\"loan quotes\",\"car finance c...       1.198750  \n",
       "[\"car title loans\",\"loan quotes\",\"new car payme...       1.250630  \n",
       "[\"apartments for rent vancouver craigslist\",\"cr...       1.198889  \n",
       "[\"turbo tax\"]                                            2.379474  \n",
       "[\"sprint wireless\",\"sprint mobile\",\"sprint\",\"sp...       2.279259  \n",
       "[\"edu online info\",\"degree programs\",\"online de...       0.219483  \n",
       "[\"autotrader\",\"autotrade\",\"car website\"]                 1.092121  \n",
       "[\"turbo tax\",\"turbotax\",\"intuit turbotax\"]               8.877500  \n",
       "[\"Byethost\"]                                             0.170000  "
      ]
     },
     "execution_count": 30,
     "metadata": {},
     "output_type": "execute_result"
    }
   ],
   "source": [
    "# Identify the top spending query term and the average cost per click\n",
    "qt_table = pd.pivot_table(df_1,index='query_term',values=['click_status','cost_per_click'],aggfunc=[np.sum]).sort_values(by=('sum','cost_per_click'),ascending=False)\n",
    "qt_table[('avg','cost_per_click')] = qt_table[('sum','cost_per_click')] / qt_table[('sum','click_status')]\n",
    "qt_table.head(10)"
   ]
  },
  {
   "cell_type": "markdown",
   "metadata": {},
   "source": [
    "results --\n",
    "\n",
    "sum\tavg\n",
    "click_status\tcost_per_click\tcost_per_click\n",
    "query_term\t\t\t\n",
    "[\"car title loans\",\"loan quotes\",\"car financing\"]\t295\t356.30\t1.207797\n",
    "[\"car title loans\",\"loan quotes\",\"car finance calculator\"]\t296\t354.83\t1.198750\n",
    "[\"car title loans\",\"loan quotes\",\"new car payment\"]\t270\t337.67\t1.250630\n",
    "[\"apartments for rent vancouver craigslist\",\"craigslist used cars\",\"personals\"]\t81\t97.11\t1.198889\n",
    "[\"turbo tax\"]\t38\t90.42\t2.379474\n",
    "[\"sprint wireless\",\"sprint mobile\",\"sprint\",\"sprint wireless phones\",\"cell phone\",\"smartphone\"]\t27\t61.54\t2.279259\n",
    "[\"edu online info\",\"degree programs\",\"online degree program\"]\t174\t38.19\t0.219483\n",
    "[\"autotrader\",\"autotrade\",\"car website\"]\t33\t36.04\t1.092121\n",
    "[\"turbo tax\",\"turbotax\",\"intuit turbotax\"]\t4\t35.51\t8.877500\n",
    "[\"Byethost\"]\t191\t32.47\t0.170000"
   ]
  },
  {
   "cell_type": "code",
   "execution_count": 31,
   "metadata": {},
   "outputs": [],
   "source": [
    "qt_table.columns = ['valid_clicks','total_spending','avg_cpc']"
   ]
  },
  {
   "cell_type": "code",
   "execution_count": 32,
   "metadata": {},
   "outputs": [],
   "source": [
    "bins = [0, 50, 100, 150, 200,250,300]\n",
    "group_names = ['<50 Clicks', '50-99 Clicks', '100-149 Clicks', '150-199 Clicks','200-249 Clicks','250+ Clicks']\n",
    "qt_table['click_bucket'] = pd.cut(qt_table['valid_clicks'], bins, labels=group_names)"
   ]
  },
  {
   "cell_type": "code",
   "execution_count": 33,
   "metadata": {},
   "outputs": [
    {
     "data": {
      "text/plain": [
       "3.6857021996615904"
      ]
     },
     "execution_count": 33,
     "metadata": {},
     "output_type": "execute_result"
    }
   ],
   "source": [
    "qt_table.valid_clicks.mean()\n",
    "\n",
    "#results -- 3.6857021996615904"
   ]
  },
  {
   "cell_type": "code",
   "execution_count": 34,
   "metadata": {},
   "outputs": [
    {
     "data": {
      "text/html": [
       "<div>\n",
       "<style scoped>\n",
       "    .dataframe tbody tr th:only-of-type {\n",
       "        vertical-align: middle;\n",
       "    }\n",
       "\n",
       "    .dataframe tbody tr th {\n",
       "        vertical-align: top;\n",
       "    }\n",
       "\n",
       "    .dataframe thead th {\n",
       "        text-align: right;\n",
       "    }\n",
       "</style>\n",
       "<table border=\"1\" class=\"dataframe\">\n",
       "  <thead>\n",
       "    <tr style=\"text-align: right;\">\n",
       "      <th></th>\n",
       "      <th>valid_clicks</th>\n",
       "      <th>total_spending</th>\n",
       "      <th>avg_cpc</th>\n",
       "      <th>click_bucket</th>\n",
       "    </tr>\n",
       "    <tr>\n",
       "      <th>query_term</th>\n",
       "      <th></th>\n",
       "      <th></th>\n",
       "      <th></th>\n",
       "      <th></th>\n",
       "    </tr>\n",
       "  </thead>\n",
       "  <tbody>\n",
       "    <tr>\n",
       "      <th>[\"car title loans\",\"loan quotes\",\"car financing\"]</th>\n",
       "      <td>295</td>\n",
       "      <td>356.30</td>\n",
       "      <td>1.207797</td>\n",
       "      <td>250+ Clicks</td>\n",
       "    </tr>\n",
       "    <tr>\n",
       "      <th>[\"car title loans\",\"loan quotes\",\"car finance calculator\"]</th>\n",
       "      <td>296</td>\n",
       "      <td>354.83</td>\n",
       "      <td>1.198750</td>\n",
       "      <td>250+ Clicks</td>\n",
       "    </tr>\n",
       "    <tr>\n",
       "      <th>[\"car title loans\",\"loan quotes\",\"new car payment\"]</th>\n",
       "      <td>270</td>\n",
       "      <td>337.67</td>\n",
       "      <td>1.250630</td>\n",
       "      <td>250+ Clicks</td>\n",
       "    </tr>\n",
       "    <tr>\n",
       "      <th>[\"apartments for rent vancouver craigslist\",\"craigslist used cars\",\"personals\"]</th>\n",
       "      <td>81</td>\n",
       "      <td>97.11</td>\n",
       "      <td>1.198889</td>\n",
       "      <td>50-99 Clicks</td>\n",
       "    </tr>\n",
       "    <tr>\n",
       "      <th>[\"turbo tax\"]</th>\n",
       "      <td>38</td>\n",
       "      <td>90.42</td>\n",
       "      <td>2.379474</td>\n",
       "      <td>&lt;50 Clicks</td>\n",
       "    </tr>\n",
       "  </tbody>\n",
       "</table>\n",
       "</div>"
      ],
      "text/plain": [
       "                                                    valid_clicks  \\\n",
       "query_term                                                         \n",
       "[\"car title loans\",\"loan quotes\",\"car financing\"]            295   \n",
       "[\"car title loans\",\"loan quotes\",\"car finance c...           296   \n",
       "[\"car title loans\",\"loan quotes\",\"new car payme...           270   \n",
       "[\"apartments for rent vancouver craigslist\",\"cr...            81   \n",
       "[\"turbo tax\"]                                                 38   \n",
       "\n",
       "                                                    total_spending   avg_cpc  \\\n",
       "query_term                                                                     \n",
       "[\"car title loans\",\"loan quotes\",\"car financing\"]           356.30  1.207797   \n",
       "[\"car title loans\",\"loan quotes\",\"car finance c...          354.83  1.198750   \n",
       "[\"car title loans\",\"loan quotes\",\"new car payme...          337.67  1.250630   \n",
       "[\"apartments for rent vancouver craigslist\",\"cr...           97.11  1.198889   \n",
       "[\"turbo tax\"]                                                90.42  2.379474   \n",
       "\n",
       "                                                    click_bucket  \n",
       "query_term                                                        \n",
       "[\"car title loans\",\"loan quotes\",\"car financing\"]    250+ Clicks  \n",
       "[\"car title loans\",\"loan quotes\",\"car finance c...   250+ Clicks  \n",
       "[\"car title loans\",\"loan quotes\",\"new car payme...   250+ Clicks  \n",
       "[\"apartments for rent vancouver craigslist\",\"cr...  50-99 Clicks  \n",
       "[\"turbo tax\"]                                         <50 Clicks  "
      ]
     },
     "execution_count": 34,
     "metadata": {},
     "output_type": "execute_result"
    }
   ],
   "source": [
    "qt_table.head()"
   ]
  },
  {
   "cell_type": "code",
   "execution_count": 35,
   "metadata": {},
   "outputs": [
    {
     "data": {
      "text/plain": [
       "query_term\n",
       "[\"car title loans\",\"loan quotes\",\"car financing\"]                                                  295\n",
       "[\"car title loans\",\"loan quotes\",\"car finance calculator\"]                                         296\n",
       "[\"car title loans\",\"loan quotes\",\"new car payment\"]                                                270\n",
       "[\"apartments for rent vancouver craigslist\",\"craigslist used cars\",\"personals\"]                     81\n",
       "[\"turbo tax\"]                                                                                       38\n",
       "[\"sprint wireless\",\"sprint mobile\",\"sprint\",\"sprint wireless phones\",\"cell phone\",\"smartphone\"]     27\n",
       "[\"edu online info\",\"degree programs\",\"online degree program\"]                                      174\n",
       "[\"autotrader\",\"autotrade\",\"car website\"]                                                            33\n",
       "[\"turbo tax\",\"turbotax\",\"intuit turbotax\"]                                                           4\n",
       "[\"Byethost\"]                                                                                       191\n",
       "[\"turbo tax\",\"turbotax\",\"free filing\"]                                                               1\n",
       "[\"Dream Limousine Car\"]                                                                             30\n",
       "[\"nordstrom\",\"womens shoes\",\"mens jackets\",\"ugg boots\",\"mac cosmetics\",\"semi formal dress\"]         44\n",
       "[\"free hulu plus trial\",\"hulu plus\",\"hulu watch tv\"]                                                32\n",
       "[\"Naver.com\"]                                                                                       92\n",
       "[\"ron\"]                                                                                             83\n",
       "[\"sprint wireless\",\"sprint\",\"sprint wireless phones\",\"cell phone\",\"smartphone\",\"phones review\"]     12\n",
       "[\"turbo tax\",\"turbotax\",\"myturbotax\"]                                                                5\n",
       "[\"chevrolet\",\"chevrolet chevy\",\"chevrolet dealers\"]                                                  9\n",
       "[\"apricot complex\"]                                                                                 77\n",
       "Name: valid_clicks, dtype: int64"
      ]
     },
     "execution_count": 35,
     "metadata": {},
     "output_type": "execute_result"
    }
   ],
   "source": [
    "qt_table.head(20)['valid_clicks']"
   ]
  },
  {
   "cell_type": "code",
   "execution_count": 37,
   "metadata": {},
   "outputs": [
    {
     "name": "stdout",
     "output_type": "stream",
     "text": [
      "-- 100.00% of query terms had 1 or more valid clicks\n",
      "-- 12.52% of query terms had 5 or more valid clicks\n",
      "-- 5.88% of query terms had 10 or more valid clicks\n",
      "-- 1.27% of query terms had 50 or more valid clicks\n",
      "-- 0.21% of query terms had 100 or more valid clicks\n",
      "-- 0.13% of query terms had 200 or more valid clicks\n"
     ]
    },
    {
     "data": {
      "image/png": "[encoded data removed]",
      "text/plain": [
       "<Figure size 864x504 with 1 Axes>"
      ]
     },
     "metadata": {},
     "output_type": "display_data"
    }
   ],
   "source": [
    "# Query terms table\n",
    "fig,ax = plt.subplots(figsize=(12, 7))\n",
    "bcolor = ['#000000', '#00131a', '#002633', '#00394d', '#004d66', '#006080', '#007399', '#0086b3', '#0099cc', '#00ace6', '#00bfff', '#1ac6ff', '#33ccff', '#4dd2ff', '#66d9ff', '#80dfff', '#99e6ff', '#b3ecff', '#ccf2ff', '#e6f9ff']\n",
    "plt.bar(x = qt_table.head(20).index, height = qt_table.head(20)['valid_clicks'],color=bcolor)\n",
    "\n",
    "plt.ylabel('Total occurences')\n",
    "plt.title('Top 20 Query Terms Occurences', fontsize=14);\n",
    "plt.xticks(rotation = 'vertical')\n",
    "\n",
    "total_num = float(len(qt_table))\n",
    "for i in [1,5,10, 50, 100, 200]:\n",
    "    print ('-- {:.2f}% of query terms had {} or more valid clicks'.format( (qt_table['valid_clicks'][qt_table['valid_clicks']>=i].count()) / total_num *100,i))\n",
    "#-- 91.38% of query terms had 1 or more valid clicks\n",
    "#-- 11.44% of query terms had 5 or more valid clicks"
   ]
  },
  {
   "cell_type": "markdown",
   "metadata": {},
   "source": [
    "-- 91.38% of query terms had 1 or more valid clicks\n",
    "-- 11.44% of query terms had 5 or more valid clicks\n",
    "-- 5.37% of query terms had 10 or more valid clicks\n",
    "-- 1.16% of query terms had 50 or more valid clicks\n",
    "-- 0.19% of query terms had 100 or more valid clicks\n",
    "-- 0.12% of query terms had 200 or more valid clicks"
   ]
  },
  {
   "cell_type": "markdown",
   "metadata": {},
   "source": [
    "3. For IP addresses with > 1 click:\n",
    "Provide a breakdown on invalid and valid clicks. Include steps taken to conduct analysis\n",
    "Provide a breakdown on whether these users send the same query term for each click. Include steps taken to conduct analysis\n",
    "Identify any shared attributes for this pool of users (if any). Include steps taken to conduct analysis\n"
   ]
  },
  {
   "cell_type": "code",
   "execution_count": 38,
   "metadata": {},
   "outputs": [],
   "source": [
    "ip_list = df.IP_address.value_counts()[df.IP_address.value_counts() >1].to_frame().index\n"
   ]
  },
  {
   "cell_type": "code",
   "execution_count": 39,
   "metadata": {},
   "outputs": [],
   "source": [
    "df_ip = df[df.IP_address.isin(ip_list)]"
   ]
  },
  {
   "cell_type": "code",
   "execution_count": 40,
   "metadata": {},
   "outputs": [
    {
     "data": {
      "text/html": [
       "<div>\n",
       "<style scoped>\n",
       "    .dataframe tbody tr th:only-of-type {\n",
       "        vertical-align: middle;\n",
       "    }\n",
       "\n",
       "    .dataframe tbody tr th {\n",
       "        vertical-align: top;\n",
       "    }\n",
       "\n",
       "    .dataframe thead th {\n",
       "        text-align: right;\n",
       "    }\n",
       "</style>\n",
       "<table border=\"1\" class=\"dataframe\">\n",
       "  <thead>\n",
       "    <tr style=\"text-align: right;\">\n",
       "      <th></th>\n",
       "      <th>click_status</th>\n",
       "      <th>percentage</th>\n",
       "    </tr>\n",
       "  </thead>\n",
       "  <tbody>\n",
       "    <tr>\n",
       "      <th>1</th>\n",
       "      <td>2453</td>\n",
       "      <td>0.81279</td>\n",
       "    </tr>\n",
       "    <tr>\n",
       "      <th>0</th>\n",
       "      <td>565</td>\n",
       "      <td>0.18721</td>\n",
       "    </tr>\n",
       "  </tbody>\n",
       "</table>\n",
       "</div>"
      ],
      "text/plain": [
       "   click_status  percentage\n",
       "1          2453     0.81279\n",
       "0           565     0.18721"
      ]
     },
     "execution_count": 40,
     "metadata": {},
     "output_type": "execute_result"
    }
   ],
   "source": [
    "# Provide a breakdown on invalid and valid clicks. Include steps taken to conduct analysis\n",
    "ip_status_table = df_ip.click_status.value_counts().to_frame()\n",
    "ip_status_table['percentage'] = ip_status_table.click_status / ip_status_table.click_status.sum()\n",
    "ip_status_table\n",
    "\n",
    "\n"
   ]
  },
  {
   "cell_type": "markdown",
   "metadata": {},
   "source": [
    "results\n",
    "\tclick_status\tpercentage\n",
    "1\t2453\t0.81279\n",
    "0\t565\t0.18721"
   ]
  },
  {
   "cell_type": "code",
   "execution_count": 41,
   "metadata": {},
   "outputs": [
    {
     "data": {
      "text/html": [
       "<div>\n",
       "<style scoped>\n",
       "    .dataframe tbody tr th:only-of-type {\n",
       "        vertical-align: middle;\n",
       "    }\n",
       "\n",
       "    .dataframe tbody tr th {\n",
       "        vertical-align: top;\n",
       "    }\n",
       "\n",
       "    .dataframe thead tr th {\n",
       "        text-align: left;\n",
       "    }\n",
       "</style>\n",
       "<table border=\"1\" class=\"dataframe\">\n",
       "  <thead>\n",
       "    <tr>\n",
       "      <th></th>\n",
       "      <th>IP_address</th>\n",
       "      <th>query_term</th>\n",
       "      <th>len</th>\n",
       "    </tr>\n",
       "    <tr>\n",
       "      <th></th>\n",
       "      <th></th>\n",
       "      <th></th>\n",
       "      <th>click_status</th>\n",
       "    </tr>\n",
       "  </thead>\n",
       "  <tbody>\n",
       "    <tr>\n",
       "      <th>0</th>\n",
       "      <td>0.38.12.224</td>\n",
       "      <td>[\"youtube\",\"youtuby\",\"r youtube\"]</td>\n",
       "      <td>1</td>\n",
       "    </tr>\n",
       "    <tr>\n",
       "      <th>1</th>\n",
       "      <td>0.38.12.224</td>\n",
       "      <td>[\"youtube\",\"youtuby\",\"youtube org\"]</td>\n",
       "      <td>2</td>\n",
       "    </tr>\n",
       "    <tr>\n",
       "      <th>2</th>\n",
       "      <td>0.53.181.217</td>\n",
       "      <td>[\"Nyanko Seek\"]</td>\n",
       "      <td>3</td>\n",
       "    </tr>\n",
       "    <tr>\n",
       "      <th>3</th>\n",
       "      <td>0.71.103.209</td>\n",
       "      <td>[\"meet girls\",\"dating girls\"]</td>\n",
       "      <td>4</td>\n",
       "    </tr>\n",
       "    <tr>\n",
       "      <th>4</th>\n",
       "      <td>0.73.240.6</td>\n",
       "      <td>[\"Badidu\"]</td>\n",
       "      <td>2</td>\n",
       "    </tr>\n",
       "  </tbody>\n",
       "</table>\n",
       "</div>"
      ],
      "text/plain": [
       "     IP_address                           query_term          len\n",
       "                                                     click_status\n",
       "0   0.38.12.224    [\"youtube\",\"youtuby\",\"r youtube\"]            1\n",
       "1   0.38.12.224  [\"youtube\",\"youtuby\",\"youtube org\"]            2\n",
       "2  0.53.181.217                      [\"Nyanko Seek\"]            3\n",
       "3  0.71.103.209        [\"meet girls\",\"dating girls\"]            4\n",
       "4    0.73.240.6                           [\"Badidu\"]            2"
      ]
     },
     "execution_count": 41,
     "metadata": {},
     "output_type": "execute_result"
    }
   ],
   "source": [
    "# Provide a breakdown on whether these users send the same query term for each click\n",
    "ip_query_table = pd.pivot_table(df_ip,index=['IP_address','query_term'],values='click_status',aggfunc=[len]).reset_index()\n",
    "ip_query_table.head()"
   ]
  },
  {
   "cell_type": "markdown",
   "metadata": {},
   "source": [
    "\n",
    "IP_address\tquery_term\tlen\n",
    "0\t0.38.12.224\t[\"youtube\",\"youtuby\",\"r youtube\"]\t1\n",
    "1\t0.38.12.224\t[\"youtube\",\"youtuby\",\"youtube org\"]\t2\n",
    "2\t0.53.181.217\t[\"Nyanko Seek\"]\t3\n",
    "3\t0.71.103.209\t[\"meet girls\",\"dating girls\"]\t4\n",
    "4\t0.73.240.6\t[\"Badidu\"]\t2"
   ]
  },
  {
   "cell_type": "code",
   "execution_count": 42,
   "metadata": {},
   "outputs": [
    {
     "name": "stderr",
     "output_type": "stream",
     "text": [
      "/home/aurobindo/anaconda3/lib/python3.6/site-packages/pandas/core/generic.py:3111: PerformanceWarning: dropping on a non-lexsorted multi-index without a level parameter may impact performance.\n",
      "  obj = obj._drop_axis(labels, axis, level=level, errors=errors)\n"
     ]
    }
   ],
   "source": [
    "ip_query_table_2 = pd.pivot_table(ip_query_table,index=['IP_address'],values='query_term',aggfunc=[len]).reset_index()\n",
    "ip_query_table_2.columns = ['IP_address','unique_query_terms']\n"
   ]
  },
  {
   "cell_type": "code",
   "execution_count": 43,
   "metadata": {},
   "outputs": [
    {
     "data": {
      "text/html": [
       "<div>\n",
       "<style scoped>\n",
       "    .dataframe tbody tr th:only-of-type {\n",
       "        vertical-align: middle;\n",
       "    }\n",
       "\n",
       "    .dataframe tbody tr th {\n",
       "        vertical-align: top;\n",
       "    }\n",
       "\n",
       "    .dataframe thead th {\n",
       "        text-align: right;\n",
       "    }\n",
       "</style>\n",
       "<table border=\"1\" class=\"dataframe\">\n",
       "  <thead>\n",
       "    <tr style=\"text-align: right;\">\n",
       "      <th></th>\n",
       "      <th>unique_query_terms</th>\n",
       "      <th>percentage</th>\n",
       "    </tr>\n",
       "  </thead>\n",
       "  <tbody>\n",
       "    <tr>\n",
       "      <th>1</th>\n",
       "      <td>736</td>\n",
       "      <td>0.623201</td>\n",
       "    </tr>\n",
       "    <tr>\n",
       "      <th>2</th>\n",
       "      <td>379</td>\n",
       "      <td>0.320914</td>\n",
       "    </tr>\n",
       "    <tr>\n",
       "      <th>3</th>\n",
       "      <td>50</td>\n",
       "      <td>0.042337</td>\n",
       "    </tr>\n",
       "    <tr>\n",
       "      <th>4</th>\n",
       "      <td>13</td>\n",
       "      <td>0.011008</td>\n",
       "    </tr>\n",
       "    <tr>\n",
       "      <th>5</th>\n",
       "      <td>3</td>\n",
       "      <td>0.002540</td>\n",
       "    </tr>\n",
       "  </tbody>\n",
       "</table>\n",
       "</div>"
      ],
      "text/plain": [
       "   unique_query_terms  percentage\n",
       "1                 736    0.623201\n",
       "2                 379    0.320914\n",
       "3                  50    0.042337\n",
       "4                  13    0.011008\n",
       "5                   3    0.002540"
      ]
     },
     "execution_count": 43,
     "metadata": {},
     "output_type": "execute_result"
    }
   ],
   "source": [
    "ip_unique_query = ip_query_table_2.unique_query_terms.value_counts().to_frame()\n",
    "ip_unique_query['percentage'] = ip_unique_query.unique_query_terms / ip_unique_query.unique_query_terms.sum()\n",
    "ip_unique_query"
   ]
  },
  {
   "cell_type": "markdown",
   "metadata": {},
   "source": [
    "\n",
    "unique_query_terms\tpercentage\n",
    "1\t736\t0.623201\n",
    "2\t379\t0.320914\n",
    "3\t50\t0.042337\n",
    "4\t13\t0.011008\n",
    "5\t3\t0.002540"
   ]
  },
  {
   "cell_type": "code",
   "execution_count": 44,
   "metadata": {},
   "outputs": [],
   "source": [
    "# Identify any shared attributes for this pool of users (if any)\n",
    "# Create ip_clicks_status: 1 = IP addresses with > 1 click, 0 = IP addresses with 1 click\n",
    "df['ip_clicks_status'] = df.IP_address.map(lambda x: 1 if x in ip_list else 0)\n"
   ]
  },
  {
   "cell_type": "code",
   "execution_count": 45,
   "metadata": {},
   "outputs": [
    {
     "data": {
      "text/plain": [
       "0.2987231515391468"
      ]
     },
     "execution_count": 45,
     "metadata": {},
     "output_type": "execute_result"
    }
   ],
   "source": [
    "df['ip_clicks_status'].sum() / float(len(df['ip_clicks_status']))\n"
   ]
  },
  {
   "cell_type": "markdown",
   "metadata": {},
   "source": [
    "0.2987231515391468"
   ]
  },
  {
   "cell_type": "code",
   "execution_count": 46,
   "metadata": {},
   "outputs": [],
   "source": [
    "df.to_csv('cleaned_data.csv')"
   ]
  },
  {
   "cell_type": "code",
   "execution_count": 47,
   "metadata": {},
   "outputs": [
    {
     "data": {
      "text/html": [
       "<div>\n",
       "<style scoped>\n",
       "    .dataframe tbody tr th:only-of-type {\n",
       "        vertical-align: middle;\n",
       "    }\n",
       "\n",
       "    .dataframe tbody tr th {\n",
       "        vertical-align: top;\n",
       "    }\n",
       "\n",
       "    .dataframe thead tr th {\n",
       "        text-align: left;\n",
       "    }\n",
       "</style>\n",
       "<table border=\"1\" class=\"dataframe\">\n",
       "  <thead>\n",
       "    <tr>\n",
       "      <th></th>\n",
       "      <th>IP_address</th>\n",
       "      <th>query_term</th>\n",
       "      <th>len</th>\n",
       "    </tr>\n",
       "    <tr>\n",
       "      <th></th>\n",
       "      <th></th>\n",
       "      <th></th>\n",
       "      <th>click_status</th>\n",
       "    </tr>\n",
       "  </thead>\n",
       "  <tbody>\n",
       "    <tr>\n",
       "      <th>0</th>\n",
       "      <td>0.38.12.224</td>\n",
       "      <td>[\"youtube\",\"youtuby\",\"r youtube\"]</td>\n",
       "      <td>1</td>\n",
       "    </tr>\n",
       "    <tr>\n",
       "      <th>1</th>\n",
       "      <td>0.38.12.224</td>\n",
       "      <td>[\"youtube\",\"youtuby\",\"youtube org\"]</td>\n",
       "      <td>2</td>\n",
       "    </tr>\n",
       "    <tr>\n",
       "      <th>2</th>\n",
       "      <td>0.53.181.217</td>\n",
       "      <td>[\"Nyanko Seek\"]</td>\n",
       "      <td>3</td>\n",
       "    </tr>\n",
       "    <tr>\n",
       "      <th>3</th>\n",
       "      <td>0.71.103.209</td>\n",
       "      <td>[\"meet girls\",\"dating girls\"]</td>\n",
       "      <td>4</td>\n",
       "    </tr>\n",
       "    <tr>\n",
       "      <th>4</th>\n",
       "      <td>0.73.240.6</td>\n",
       "      <td>[\"Badidu\"]</td>\n",
       "      <td>2</td>\n",
       "    </tr>\n",
       "    <tr>\n",
       "      <th>5</th>\n",
       "      <td>0.82.169.232</td>\n",
       "      <td>[\"watch tv live\",\"pinoy channel\",\"My Pinoy Show\"]</td>\n",
       "      <td>2</td>\n",
       "    </tr>\n",
       "    <tr>\n",
       "      <th>6</th>\n",
       "      <td>0.82.173.102</td>\n",
       "      <td>[\"meet girls\",\"dating girls\"]</td>\n",
       "      <td>2</td>\n",
       "    </tr>\n",
       "    <tr>\n",
       "      <th>7</th>\n",
       "      <td>0.82.36.53</td>\n",
       "      <td>[\"loda\"]</td>\n",
       "      <td>5</td>\n",
       "    </tr>\n",
       "    <tr>\n",
       "      <th>8</th>\n",
       "      <td>1.35.179.235</td>\n",
       "      <td>[\"Star Text\"]</td>\n",
       "      <td>2</td>\n",
       "    </tr>\n",
       "    <tr>\n",
       "      <th>9</th>\n",
       "      <td>1.61.78.113</td>\n",
       "      <td>[\"car title loans\",\"loan quotes\",\"car financing\"]</td>\n",
       "      <td>2</td>\n",
       "    </tr>\n",
       "    <tr>\n",
       "      <th>10</th>\n",
       "      <td>1.61.81.147</td>\n",
       "      <td>[\"car title loans\",\"loan quotes\",\"new car paym...</td>\n",
       "      <td>2</td>\n",
       "    </tr>\n",
       "    <tr>\n",
       "      <th>11</th>\n",
       "      <td>1.61.83.46</td>\n",
       "      <td>[\"car title loans\",\"loan quotes\",\"new car paym...</td>\n",
       "      <td>1</td>\n",
       "    </tr>\n",
       "    <tr>\n",
       "      <th>12</th>\n",
       "      <td>1.61.83.46</td>\n",
       "      <td>[\"car title loans\",\"loan quotes\",\"small person...</td>\n",
       "      <td>1</td>\n",
       "    </tr>\n",
       "    <tr>\n",
       "      <th>13</th>\n",
       "      <td>1.61.84.112</td>\n",
       "      <td>[\"car title loans\",\"loan quotes\",\"car financing\"]</td>\n",
       "      <td>1</td>\n",
       "    </tr>\n",
       "    <tr>\n",
       "      <th>14</th>\n",
       "      <td>1.61.84.112</td>\n",
       "      <td>[\"car title loans\",\"loan quotes\",\"new car paym...</td>\n",
       "      <td>1</td>\n",
       "    </tr>\n",
       "    <tr>\n",
       "      <th>15</th>\n",
       "      <td>1.61.84.69</td>\n",
       "      <td>[\"car title loans\",\"loan quotes\",\"car financing\"]</td>\n",
       "      <td>2</td>\n",
       "    </tr>\n",
       "    <tr>\n",
       "      <th>16</th>\n",
       "      <td>1.61.85.228</td>\n",
       "      <td>[\"car title loans\",\"loan quotes\",\"auto loan pa...</td>\n",
       "      <td>1</td>\n",
       "    </tr>\n",
       "    <tr>\n",
       "      <th>17</th>\n",
       "      <td>1.61.85.228</td>\n",
       "      <td>[\"edu online info\",\"degree programs\",\"online d...</td>\n",
       "      <td>1</td>\n",
       "    </tr>\n",
       "    <tr>\n",
       "      <th>18</th>\n",
       "      <td>1.72.114.59</td>\n",
       "      <td>[\"car title loans\",\"loan quotes\",\"car financing\"]</td>\n",
       "      <td>1</td>\n",
       "    </tr>\n",
       "    <tr>\n",
       "      <th>19</th>\n",
       "      <td>1.72.114.59</td>\n",
       "      <td>[\"car title loans\",\"loan quotes\",\"how can i ge...</td>\n",
       "      <td>1</td>\n",
       "    </tr>\n",
       "    <tr>\n",
       "      <th>20</th>\n",
       "      <td>1.72.114.59</td>\n",
       "      <td>[\"edu online info\",\"degree programs\",\"classes ...</td>\n",
       "      <td>1</td>\n",
       "    </tr>\n",
       "    <tr>\n",
       "      <th>21</th>\n",
       "      <td>1.83.231.247</td>\n",
       "      <td>[\"car title loans\",\"loan quotes\",\"car finance ...</td>\n",
       "      <td>2</td>\n",
       "    </tr>\n",
       "    <tr>\n",
       "      <th>22</th>\n",
       "      <td>1.83.231.26</td>\n",
       "      <td>[\"car title loans\",\"loan quotes\",\"auto loan pa...</td>\n",
       "      <td>1</td>\n",
       "    </tr>\n",
       "    <tr>\n",
       "      <th>23</th>\n",
       "      <td>1.83.231.26</td>\n",
       "      <td>[\"edu online info\",\"degree programs\",\"online d...</td>\n",
       "      <td>1</td>\n",
       "    </tr>\n",
       "    <tr>\n",
       "      <th>24</th>\n",
       "      <td>1.83.231.96</td>\n",
       "      <td>[\"car title loans\",\"loan quotes\",\"auto loan pa...</td>\n",
       "      <td>1</td>\n",
       "    </tr>\n",
       "    <tr>\n",
       "      <th>25</th>\n",
       "      <td>1.83.231.96</td>\n",
       "      <td>[\"car title loans\",\"loan quotes\",\"auto loans r...</td>\n",
       "      <td>1</td>\n",
       "    </tr>\n",
       "    <tr>\n",
       "      <th>26</th>\n",
       "      <td>1.83.231.98</td>\n",
       "      <td>[\"car title loans\",\"loan quotes\",\"car financing\"]</td>\n",
       "      <td>1</td>\n",
       "    </tr>\n",
       "    <tr>\n",
       "      <th>27</th>\n",
       "      <td>1.83.231.98</td>\n",
       "      <td>[\"car title loans\",\"loan quotes\",\"new car paym...</td>\n",
       "      <td>2</td>\n",
       "    </tr>\n",
       "    <tr>\n",
       "      <th>28</th>\n",
       "      <td>1.83.232.152</td>\n",
       "      <td>[\"car title loans\",\"loan quotes\",\"car finance ...</td>\n",
       "      <td>2</td>\n",
       "    </tr>\n",
       "    <tr>\n",
       "      <th>29</th>\n",
       "      <td>1.83.232.46</td>\n",
       "      <td>[\"car title loans\",\"loan quotes\",\"car finance ...</td>\n",
       "      <td>1</td>\n",
       "    </tr>\n",
       "    <tr>\n",
       "      <th>...</th>\n",
       "      <td>...</td>\n",
       "      <td>...</td>\n",
       "      <td>...</td>\n",
       "    </tr>\n",
       "    <tr>\n",
       "      <th>1681</th>\n",
       "      <td>96.233.60.244</td>\n",
       "      <td>[\"facebook\",\"fecabook\",\"Facebook Com\"]</td>\n",
       "      <td>1</td>\n",
       "    </tr>\n",
       "    <tr>\n",
       "      <th>1682</th>\n",
       "      <td>96.233.60.244</td>\n",
       "      <td>[\"facebook\",\"fecabook\",\"faceboock\"]</td>\n",
       "      <td>1</td>\n",
       "    </tr>\n",
       "    <tr>\n",
       "      <th>1683</th>\n",
       "      <td>96.233.66.176</td>\n",
       "      <td>[\"facebook\",\"fecabook\",\"friends search\"]</td>\n",
       "      <td>2</td>\n",
       "    </tr>\n",
       "    <tr>\n",
       "      <th>1684</th>\n",
       "      <td>96.31.160.152</td>\n",
       "      <td>[\"Nokia\"]</td>\n",
       "      <td>4</td>\n",
       "    </tr>\n",
       "    <tr>\n",
       "      <th>1685</th>\n",
       "      <td>96.32.143.79</td>\n",
       "      <td>[\"shoprite\"]</td>\n",
       "      <td>2</td>\n",
       "    </tr>\n",
       "    <tr>\n",
       "      <th>1686</th>\n",
       "      <td>96.35.132.216</td>\n",
       "      <td>[\"mobilink\"]</td>\n",
       "      <td>2</td>\n",
       "    </tr>\n",
       "    <tr>\n",
       "      <th>1687</th>\n",
       "      <td>96.36.62.96</td>\n",
       "      <td>[\"facebook\",\"fecabook\",\"Faceb Book\"]</td>\n",
       "      <td>2</td>\n",
       "    </tr>\n",
       "    <tr>\n",
       "      <th>1688</th>\n",
       "      <td>96.36.62.96</td>\n",
       "      <td>[\"facebook\",\"fecabook\",\"Facebook Com\"]</td>\n",
       "      <td>1</td>\n",
       "    </tr>\n",
       "    <tr>\n",
       "      <th>1689</th>\n",
       "      <td>96.44.56.111</td>\n",
       "      <td>[\"Nokia\"]</td>\n",
       "      <td>2</td>\n",
       "    </tr>\n",
       "    <tr>\n",
       "      <th>1690</th>\n",
       "      <td>96.55.130.130</td>\n",
       "      <td>[\"Nyanko Seek\"]</td>\n",
       "      <td>3</td>\n",
       "    </tr>\n",
       "    <tr>\n",
       "      <th>1691</th>\n",
       "      <td>96.71.207.209</td>\n",
       "      <td>[\"meet girls\",\"dating girls\"]</td>\n",
       "      <td>2</td>\n",
       "    </tr>\n",
       "    <tr>\n",
       "      <th>1692</th>\n",
       "      <td>96.73.161.240</td>\n",
       "      <td>[\"facebook\",\"fecabook\",\"Facebook Com\"]</td>\n",
       "      <td>1</td>\n",
       "    </tr>\n",
       "    <tr>\n",
       "      <th>1693</th>\n",
       "      <td>96.73.161.240</td>\n",
       "      <td>[\"facebook\",\"fecabook\",\"face facebook\"]</td>\n",
       "      <td>1</td>\n",
       "    </tr>\n",
       "    <tr>\n",
       "      <th>1694</th>\n",
       "      <td>96.73.161.240</td>\n",
       "      <td>[\"facebook\",\"fecabook\",\"kacebook\"]</td>\n",
       "      <td>1</td>\n",
       "    </tr>\n",
       "    <tr>\n",
       "      <th>1695</th>\n",
       "      <td>96.73.165.90</td>\n",
       "      <td>[\"facebook\",\"fecabook\",\"face facebook\"]</td>\n",
       "      <td>1</td>\n",
       "    </tr>\n",
       "    <tr>\n",
       "      <th>1696</th>\n",
       "      <td>96.73.165.90</td>\n",
       "      <td>[\"facebook\",\"fecabook\",\"facebo9ok\"]</td>\n",
       "      <td>1</td>\n",
       "    </tr>\n",
       "    <tr>\n",
       "      <th>1697</th>\n",
       "      <td>96.73.165.90</td>\n",
       "      <td>[\"facebook\",\"fecabook\",\"friends search\"]</td>\n",
       "      <td>1</td>\n",
       "    </tr>\n",
       "    <tr>\n",
       "      <th>1698</th>\n",
       "      <td>97.0.53.189</td>\n",
       "      <td>[\"search\"]</td>\n",
       "      <td>8</td>\n",
       "    </tr>\n",
       "    <tr>\n",
       "      <th>1699</th>\n",
       "      <td>97.109.12.239</td>\n",
       "      <td>[\"Ph Gameclub\"]</td>\n",
       "      <td>2</td>\n",
       "    </tr>\n",
       "    <tr>\n",
       "      <th>1700</th>\n",
       "      <td>97.18.207.200</td>\n",
       "      <td>[\"facebook\",\"fecabook\",\"Fa Fcebook\"]</td>\n",
       "      <td>1</td>\n",
       "    </tr>\n",
       "    <tr>\n",
       "      <th>1701</th>\n",
       "      <td>97.18.207.200</td>\n",
       "      <td>[\"facebook\",\"fecabook\",\"face facebook\"]</td>\n",
       "      <td>1</td>\n",
       "    </tr>\n",
       "    <tr>\n",
       "      <th>1702</th>\n",
       "      <td>97.240.183.50</td>\n",
       "      <td>[\"Mega File\"]</td>\n",
       "      <td>2</td>\n",
       "    </tr>\n",
       "    <tr>\n",
       "      <th>1703</th>\n",
       "      <td>97.54.205.152</td>\n",
       "      <td>[\"deactivate\",\"facebook\",\"faceboock\"]</td>\n",
       "      <td>1</td>\n",
       "    </tr>\n",
       "    <tr>\n",
       "      <th>1704</th>\n",
       "      <td>97.54.205.152</td>\n",
       "      <td>[\"facebook\",\"fecabook\",\"Fac3 Book\"]</td>\n",
       "      <td>1</td>\n",
       "    </tr>\n",
       "    <tr>\n",
       "      <th>1705</th>\n",
       "      <td>97.54.205.152</td>\n",
       "      <td>[\"facebook\",\"fecabook\",\"Face DE Book\"]</td>\n",
       "      <td>1</td>\n",
       "    </tr>\n",
       "    <tr>\n",
       "      <th>1706</th>\n",
       "      <td>97.54.205.152</td>\n",
       "      <td>[\"facebook\",\"fecabook\",\"Faceb Book\"]</td>\n",
       "      <td>1</td>\n",
       "    </tr>\n",
       "    <tr>\n",
       "      <th>1707</th>\n",
       "      <td>98.251.55.53</td>\n",
       "      <td>[\"clothing\",\"Anthropologie\",\"women clothing st...</td>\n",
       "      <td>1</td>\n",
       "    </tr>\n",
       "    <tr>\n",
       "      <th>1708</th>\n",
       "      <td>98.251.55.53</td>\n",
       "      <td>[\"coupons\"]</td>\n",
       "      <td>1</td>\n",
       "    </tr>\n",
       "    <tr>\n",
       "      <th>1709</th>\n",
       "      <td>99.58.152.185</td>\n",
       "      <td>[\"car title loans\",\"loan quotes\",\"car finance ...</td>\n",
       "      <td>1</td>\n",
       "    </tr>\n",
       "    <tr>\n",
       "      <th>1710</th>\n",
       "      <td>99.58.152.185</td>\n",
       "      <td>[\"car title loans\",\"loan quotes\",\"car financing\"]</td>\n",
       "      <td>4</td>\n",
       "    </tr>\n",
       "  </tbody>\n",
       "</table>\n",
       "<p>1711 rows × 3 columns</p>\n",
       "</div>"
      ],
      "text/plain": [
       "         IP_address                                         query_term  \\\n",
       "                                                                         \n",
       "0       0.38.12.224                  [\"youtube\",\"youtuby\",\"r youtube\"]   \n",
       "1       0.38.12.224                [\"youtube\",\"youtuby\",\"youtube org\"]   \n",
       "2      0.53.181.217                                    [\"Nyanko Seek\"]   \n",
       "3      0.71.103.209                      [\"meet girls\",\"dating girls\"]   \n",
       "4        0.73.240.6                                         [\"Badidu\"]   \n",
       "5      0.82.169.232  [\"watch tv live\",\"pinoy channel\",\"My Pinoy Show\"]   \n",
       "6      0.82.173.102                      [\"meet girls\",\"dating girls\"]   \n",
       "7        0.82.36.53                                           [\"loda\"]   \n",
       "8      1.35.179.235                                      [\"Star Text\"]   \n",
       "9       1.61.78.113  [\"car title loans\",\"loan quotes\",\"car financing\"]   \n",
       "10      1.61.81.147  [\"car title loans\",\"loan quotes\",\"new car paym...   \n",
       "11       1.61.83.46  [\"car title loans\",\"loan quotes\",\"new car paym...   \n",
       "12       1.61.83.46  [\"car title loans\",\"loan quotes\",\"small person...   \n",
       "13      1.61.84.112  [\"car title loans\",\"loan quotes\",\"car financing\"]   \n",
       "14      1.61.84.112  [\"car title loans\",\"loan quotes\",\"new car paym...   \n",
       "15       1.61.84.69  [\"car title loans\",\"loan quotes\",\"car financing\"]   \n",
       "16      1.61.85.228  [\"car title loans\",\"loan quotes\",\"auto loan pa...   \n",
       "17      1.61.85.228  [\"edu online info\",\"degree programs\",\"online d...   \n",
       "18      1.72.114.59  [\"car title loans\",\"loan quotes\",\"car financing\"]   \n",
       "19      1.72.114.59  [\"car title loans\",\"loan quotes\",\"how can i ge...   \n",
       "20      1.72.114.59  [\"edu online info\",\"degree programs\",\"classes ...   \n",
       "21     1.83.231.247  [\"car title loans\",\"loan quotes\",\"car finance ...   \n",
       "22      1.83.231.26  [\"car title loans\",\"loan quotes\",\"auto loan pa...   \n",
       "23      1.83.231.26  [\"edu online info\",\"degree programs\",\"online d...   \n",
       "24      1.83.231.96  [\"car title loans\",\"loan quotes\",\"auto loan pa...   \n",
       "25      1.83.231.96  [\"car title loans\",\"loan quotes\",\"auto loans r...   \n",
       "26      1.83.231.98  [\"car title loans\",\"loan quotes\",\"car financing\"]   \n",
       "27      1.83.231.98  [\"car title loans\",\"loan quotes\",\"new car paym...   \n",
       "28     1.83.232.152  [\"car title loans\",\"loan quotes\",\"car finance ...   \n",
       "29      1.83.232.46  [\"car title loans\",\"loan quotes\",\"car finance ...   \n",
       "...             ...                                                ...   \n",
       "1681  96.233.60.244             [\"facebook\",\"fecabook\",\"Facebook Com\"]   \n",
       "1682  96.233.60.244                [\"facebook\",\"fecabook\",\"faceboock\"]   \n",
       "1683  96.233.66.176           [\"facebook\",\"fecabook\",\"friends search\"]   \n",
       "1684  96.31.160.152                                          [\"Nokia\"]   \n",
       "1685   96.32.143.79                                       [\"shoprite\"]   \n",
       "1686  96.35.132.216                                       [\"mobilink\"]   \n",
       "1687    96.36.62.96               [\"facebook\",\"fecabook\",\"Faceb Book\"]   \n",
       "1688    96.36.62.96             [\"facebook\",\"fecabook\",\"Facebook Com\"]   \n",
       "1689   96.44.56.111                                          [\"Nokia\"]   \n",
       "1690  96.55.130.130                                    [\"Nyanko Seek\"]   \n",
       "1691  96.71.207.209                      [\"meet girls\",\"dating girls\"]   \n",
       "1692  96.73.161.240             [\"facebook\",\"fecabook\",\"Facebook Com\"]   \n",
       "1693  96.73.161.240            [\"facebook\",\"fecabook\",\"face facebook\"]   \n",
       "1694  96.73.161.240                 [\"facebook\",\"fecabook\",\"kacebook\"]   \n",
       "1695   96.73.165.90            [\"facebook\",\"fecabook\",\"face facebook\"]   \n",
       "1696   96.73.165.90                [\"facebook\",\"fecabook\",\"facebo9ok\"]   \n",
       "1697   96.73.165.90           [\"facebook\",\"fecabook\",\"friends search\"]   \n",
       "1698    97.0.53.189                                         [\"search\"]   \n",
       "1699  97.109.12.239                                    [\"Ph Gameclub\"]   \n",
       "1700  97.18.207.200               [\"facebook\",\"fecabook\",\"Fa Fcebook\"]   \n",
       "1701  97.18.207.200            [\"facebook\",\"fecabook\",\"face facebook\"]   \n",
       "1702  97.240.183.50                                      [\"Mega File\"]   \n",
       "1703  97.54.205.152              [\"deactivate\",\"facebook\",\"faceboock\"]   \n",
       "1704  97.54.205.152                [\"facebook\",\"fecabook\",\"Fac3 Book\"]   \n",
       "1705  97.54.205.152             [\"facebook\",\"fecabook\",\"Face DE Book\"]   \n",
       "1706  97.54.205.152               [\"facebook\",\"fecabook\",\"Faceb Book\"]   \n",
       "1707   98.251.55.53  [\"clothing\",\"Anthropologie\",\"women clothing st...   \n",
       "1708   98.251.55.53                                        [\"coupons\"]   \n",
       "1709  99.58.152.185  [\"car title loans\",\"loan quotes\",\"car finance ...   \n",
       "1710  99.58.152.185  [\"car title loans\",\"loan quotes\",\"car financing\"]   \n",
       "\n",
       "              len  \n",
       "     click_status  \n",
       "0               1  \n",
       "1               2  \n",
       "2               3  \n",
       "3               4  \n",
       "4               2  \n",
       "5               2  \n",
       "6               2  \n",
       "7               5  \n",
       "8               2  \n",
       "9               2  \n",
       "10              2  \n",
       "11              1  \n",
       "12              1  \n",
       "13              1  \n",
       "14              1  \n",
       "15              2  \n",
       "16              1  \n",
       "17              1  \n",
       "18              1  \n",
       "19              1  \n",
       "20              1  \n",
       "21              2  \n",
       "22              1  \n",
       "23              1  \n",
       "24              1  \n",
       "25              1  \n",
       "26              1  \n",
       "27              2  \n",
       "28              2  \n",
       "29              1  \n",
       "...           ...  \n",
       "1681            1  \n",
       "1682            1  \n",
       "1683            2  \n",
       "1684            4  \n",
       "1685            2  \n",
       "1686            2  \n",
       "1687            2  \n",
       "1688            1  \n",
       "1689            2  \n",
       "1690            3  \n",
       "1691            2  \n",
       "1692            1  \n",
       "1693            1  \n",
       "1694            1  \n",
       "1695            1  \n",
       "1696            1  \n",
       "1697            1  \n",
       "1698            8  \n",
       "1699            2  \n",
       "1700            1  \n",
       "1701            1  \n",
       "1702            2  \n",
       "1703            1  \n",
       "1704            1  \n",
       "1705            1  \n",
       "1706            1  \n",
       "1707            1  \n",
       "1708            1  \n",
       "1709            1  \n",
       "1710            4  \n",
       "\n",
       "[1711 rows x 3 columns]"
      ]
     },
     "execution_count": 47,
     "metadata": {},
     "output_type": "execute_result"
    }
   ],
   "source": [
    "ip_query_table"
   ]
  },
  {
   "cell_type": "code",
   "execution_count": 48,
   "metadata": {},
   "outputs": [
    {
     "data": {
      "text/html": [
       "<div>\n",
       "<style scoped>\n",
       "    .dataframe tbody tr th:only-of-type {\n",
       "        vertical-align: middle;\n",
       "    }\n",
       "\n",
       "    .dataframe tbody tr th {\n",
       "        vertical-align: top;\n",
       "    }\n",
       "\n",
       "    .dataframe thead th {\n",
       "        text-align: right;\n",
       "    }\n",
       "</style>\n",
       "<table border=\"1\" class=\"dataframe\">\n",
       "  <thead>\n",
       "    <tr style=\"text-align: right;\">\n",
       "      <th></th>\n",
       "      <th>click_status</th>\n",
       "      <th>AMP_timestamp</th>\n",
       "      <th>query_term</th>\n",
       "      <th>IP_address</th>\n",
       "      <th>user</th>\n",
       "      <th>cost_per_click</th>\n",
       "      <th>conversions</th>\n",
       "      <th>devices</th>\n",
       "      <th>date</th>\n",
       "      <th>hour</th>\n",
       "      <th>query_term_list</th>\n",
       "      <th>len_query_term_list</th>\n",
       "      <th>ip_clicks_status</th>\n",
       "    </tr>\n",
       "  </thead>\n",
       "  <tbody>\n",
       "    <tr>\n",
       "      <th>0</th>\n",
       "      <td>1</td>\n",
       "      <td>29/01/15 11:00</td>\n",
       "      <td>[\"michael kors\",\"michael michael kors\"]</td>\n",
       "      <td>2.118.171.21</td>\n",
       "      <td>Mozilla/5.0 (iPad; CPU OS 8_1 like Mac OS X) A...</td>\n",
       "      <td>0.28</td>\n",
       "      <td>0</td>\n",
       "      <td>iPad</td>\n",
       "      <td>29/01/1</td>\n",
       "      <td>11</td>\n",
       "      <td>[michael kors, michael michael kors]</td>\n",
       "      <td>2</td>\n",
       "      <td>0</td>\n",
       "    </tr>\n",
       "    <tr>\n",
       "      <th>1</th>\n",
       "      <td>1</td>\n",
       "      <td>29/01/15 11:00</td>\n",
       "      <td>[\"meet girls\",\"dating girls\"]</td>\n",
       "      <td>0.82.173.102</td>\n",
       "      <td>Mozilla/5.0 (Windows NT 5.1; rv:35.0) Gecko/20...</td>\n",
       "      <td>0.17</td>\n",
       "      <td>0</td>\n",
       "      <td>Windows</td>\n",
       "      <td>29/01/1</td>\n",
       "      <td>11</td>\n",
       "      <td>[meet girls, dating girls]</td>\n",
       "      <td>2</td>\n",
       "      <td>1</td>\n",
       "    </tr>\n",
       "    <tr>\n",
       "      <th>2</th>\n",
       "      <td>1</td>\n",
       "      <td>29/01/15 11:00</td>\n",
       "      <td>[\"meet girls\",\"dating girls\"]</td>\n",
       "      <td>0.82.173.102</td>\n",
       "      <td>Mozilla/5.0 (Windows NT 5.1; rv:35.0) Gecko/20...</td>\n",
       "      <td>0.17</td>\n",
       "      <td>0</td>\n",
       "      <td>Windows</td>\n",
       "      <td>29/01/1</td>\n",
       "      <td>11</td>\n",
       "      <td>[meet girls, dating girls]</td>\n",
       "      <td>2</td>\n",
       "      <td>1</td>\n",
       "    </tr>\n",
       "    <tr>\n",
       "      <th>3</th>\n",
       "      <td>1</td>\n",
       "      <td>29/01/15 11:00</td>\n",
       "      <td>[\"credit report\",\"credit karma\",\"free online c...</td>\n",
       "      <td>219.32.49.92</td>\n",
       "      <td>Mozilla/5.0 (Windows NT 6.3; WOW64) AppleWebKi...</td>\n",
       "      <td>0.90</td>\n",
       "      <td>0</td>\n",
       "      <td>Windows</td>\n",
       "      <td>29/01/1</td>\n",
       "      <td>11</td>\n",
       "      <td>[credit report, credit karma, free online cred...</td>\n",
       "      <td>3</td>\n",
       "      <td>0</td>\n",
       "    </tr>\n",
       "    <tr>\n",
       "      <th>4</th>\n",
       "      <td>1</td>\n",
       "      <td>29/01/15 11:00</td>\n",
       "      <td>[\"Byethost\"]</td>\n",
       "      <td>13.54.12.142</td>\n",
       "      <td>Mozilla/4.0 (compatible; MSIE 7.0; Windows NT ...</td>\n",
       "      <td>0.17</td>\n",
       "      <td>0</td>\n",
       "      <td>compatible</td>\n",
       "      <td>29/01/1</td>\n",
       "      <td>11</td>\n",
       "      <td>[Byethost]</td>\n",
       "      <td>1</td>\n",
       "      <td>1</td>\n",
       "    </tr>\n",
       "  </tbody>\n",
       "</table>\n",
       "</div>"
      ],
      "text/plain": [
       "   click_status   AMP_timestamp  \\\n",
       "0             1  29/01/15 11:00   \n",
       "1             1  29/01/15 11:00   \n",
       "2             1  29/01/15 11:00   \n",
       "3             1  29/01/15 11:00   \n",
       "4             1  29/01/15 11:00   \n",
       "\n",
       "                                          query_term    IP_address  \\\n",
       "0            [\"michael kors\",\"michael michael kors\"]  2.118.171.21   \n",
       "1                      [\"meet girls\",\"dating girls\"]  0.82.173.102   \n",
       "2                      [\"meet girls\",\"dating girls\"]  0.82.173.102   \n",
       "3  [\"credit report\",\"credit karma\",\"free online c...  219.32.49.92   \n",
       "4                                       [\"Byethost\"]  13.54.12.142   \n",
       "\n",
       "                                                user  cost_per_click  \\\n",
       "0  Mozilla/5.0 (iPad; CPU OS 8_1 like Mac OS X) A...            0.28   \n",
       "1  Mozilla/5.0 (Windows NT 5.1; rv:35.0) Gecko/20...            0.17   \n",
       "2  Mozilla/5.0 (Windows NT 5.1; rv:35.0) Gecko/20...            0.17   \n",
       "3  Mozilla/5.0 (Windows NT 6.3; WOW64) AppleWebKi...            0.90   \n",
       "4  Mozilla/4.0 (compatible; MSIE 7.0; Windows NT ...            0.17   \n",
       "\n",
       "   conversions     devices     date  hour  \\\n",
       "0            0        iPad  29/01/1    11   \n",
       "1            0     Windows  29/01/1    11   \n",
       "2            0     Windows  29/01/1    11   \n",
       "3            0     Windows  29/01/1    11   \n",
       "4            0  compatible  29/01/1    11   \n",
       "\n",
       "                                     query_term_list  len_query_term_list  \\\n",
       "0               [michael kors, michael michael kors]                    2   \n",
       "1                         [meet girls, dating girls]                    2   \n",
       "2                         [meet girls, dating girls]                    2   \n",
       "3  [credit report, credit karma, free online cred...                    3   \n",
       "4                                         [Byethost]                    1   \n",
       "\n",
       "   ip_clicks_status  \n",
       "0                 0  \n",
       "1                 1  \n",
       "2                 1  \n",
       "3                 0  \n",
       "4                 1  "
      ]
     },
     "execution_count": 48,
     "metadata": {},
     "output_type": "execute_result"
    }
   ],
   "source": [
    "df.head()"
   ]
  },
  {
   "cell_type": "code",
   "execution_count": 49,
   "metadata": {},
   "outputs": [
    {
     "data": {
      "text/plain": [
       "array([1, 0])"
      ]
     },
     "execution_count": 49,
     "metadata": {},
     "output_type": "execute_result"
    }
   ],
   "source": [
    "df['click_status'].unique()"
   ]
  },
  {
   "cell_type": "code",
   "execution_count": 52,
   "metadata": {},
   "outputs": [
    {
     "data": {
      "text/plain": [
       "array(['[\"michael kors\",\"michael michael kors\"]',\n",
       "       '[\"meet girls\",\"dating girls\"]',\n",
       "       '[\"credit report\",\"credit karma\",\"free online credit report\"]',\n",
       "       ..., '[\"watch videos online\",\"daily motion\",\"dailymotion\"]',\n",
       "       '[\"Photo Shop Face Lift\"]', '[\"Xe\"]'], dtype=object)"
      ]
     },
     "execution_count": 52,
     "metadata": {},
     "output_type": "execute_result"
    }
   ],
   "source": [
    "df['query_term'].unique()"
   ]
  }
 ],
 "metadata": {
  "kernelspec": {
   "display_name": "Python 3",
   "language": "python",
   "name": "python3"
  },
  "language_info": {
   "codemirror_mode": {
    "name": "ipython",
    "version": 3
   },
   "file_extension": ".py",
   "mimetype": "text/x-python",
   "name": "python",
   "nbconvert_exporter": "python",
   "pygments_lexer": "ipython3",
   "version": "3.6.6"
  }
 },
 "nbformat": 4,
 "nbformat_minor": 2
}
